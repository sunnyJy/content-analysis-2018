{
 "cells": [
  {
   "cell_type": "code",
   "execution_count": null,
   "metadata": {},
   "outputs": [],
   "source": [
    "redditTopScores.index = range(len(redditTopScores) - 1, -1,-1)"
   ]
  },
  {
   "cell_type": "code",
   "execution_count": null,
   "metadata": {},
   "outputs": [],
   "source": [
    "if kind != countTarget:\n",
    "    continue\n",
    "elif ent in targetCounts:\n",
    "    targetCounts[ent] += 1\n",
    "else:\n",
    "    targetCounts[ent] = 1"
   ]
  },
  {
   "cell_type": "code",
   "execution_count": null,
   "metadata": {},
   "outputs": [],
   "source": [
    "secondSentDepParseTree = list(depParses[1])[0] #iterators so be careful about re-running code, without re-running this block"
   ]
  },
  {
   "cell_type": "code",
   "execution_count": null,
   "metadata": {},
   "outputs": [],
   "source": [
    "Reuters_Economy['normalized_sentences'] = Reuters_Economy['sentences'].apply(lambda x: [ [normlizeTokens(Reuters_Economy['sentences'][i][j], stopwordLst = stop_words_nltk, stemmer = snowball)\n",
    "                                                                                         #for j in range(0,len(Reuters_Economy['sentences'][i])) for i in range(0,len(Reuters_Economy['sentences']))])\n",
    "                                                                                         for i in range(0,5)] for j in range(0,5) ])\n",
    "                                                                                                                                              "
   ]
  },
  {
   "cell_type": "code",
   "execution_count": null,
   "metadata": {},
   "outputs": [],
   "source": []
  }
 ],
 "metadata": {
  "kernelspec": {
   "display_name": "Python 3",
   "language": "python",
   "name": "python3"
  },
  "language_info": {
   "codemirror_mode": {
    "name": "ipython",
    "version": 3
   },
   "file_extension": ".py",
   "mimetype": "text/x-python",
   "name": "python",
   "nbconvert_exporter": "python",
   "pygments_lexer": "ipython3",
   "version": "3.6.2"
  }
 },
 "nbformat": 4,
 "nbformat_minor": 2
}
