{
 "cells": [
  {
   "cell_type": "markdown",
   "metadata": {},
   "source": [
    "# <span style=\"color:purple\"> Final Project The Economist Semantic Analysis (2)"
   ]
  },
  {
   "cell_type": "code",
   "execution_count": 1,
   "metadata": {},
   "outputs": [],
   "source": [
    "import lucem_illud \n",
    "\n",
    "import pandas #gives us DataFrames\n",
    "import numpy as np #For divergences/distances\n",
    "import scipy #For divergences/ distances/ hierarchical clustering and some visuals\n",
    "\n",
    "import nltk #the Natural Language Toolkit\n",
    "from nltk.corpus import stopwords #For stopwords\n",
    "\n",
    "import seaborn as sns #makes our plots look nicer\n",
    "import matplotlib.pyplot as plt #For graphics\n",
    "import matplotlib.cm #Still for graphics\n",
    "import wordcloud #Makes word clouds\n",
    "\n",
    "#These are all for the cluster detection\n",
    "import sklearn\n",
    "import sklearn.feature_extraction.text\n",
    "import sklearn.pipeline\n",
    "import sklearn.preprocessing\n",
    "import sklearn.datasets\n",
    "import sklearn.cluster\n",
    "import sklearn.decomposition\n",
    "import sklearn.metrics\n",
    "import sklearn.manifold #For a manifold plot\n",
    "\n",
    "import gensim#For topic modeling\n",
    "\n",
    "from bs4 import BeautifulSoup\n",
    "import requests #for http requests\n",
    "from requests import get\n",
    "import urllib.parse #For joining urls\n",
    "import re #for regexs\n",
    "import json #For API responses\n",
    "\n",
    "import itertools\n",
    "\n",
    "%matplotlib inline"
   ]
  },
  {
   "cell_type": "code",
   "execution_count": 2,
   "metadata": {},
   "outputs": [],
   "source": [
    "import numpy as np\n",
    "import matplotlib.pyplot as plt"
   ]
  },
  {
   "cell_type": "markdown",
   "metadata": {},
   "source": [
    "## <span style=\"color:purple\"> For Week 4 Word Embedding"
   ]
  },
  {
   "cell_type": "code",
   "execution_count": 3,
   "metadata": {},
   "outputs": [],
   "source": [
    "ECONOMIST_Token = pandas.read_csv('ECONOMIST_Token_Neat.csv')"
   ]
  },
  {
   "cell_type": "code",
   "execution_count": 4,
   "metadata": {},
   "outputs": [],
   "source": [
    "ECONOMIST_Token = ECONOMIST_Token.drop(columns = ['Unnamed: 0'])"
   ]
  },
  {
   "cell_type": "code",
   "execution_count": 5,
   "metadata": {},
   "outputs": [
    {
     "data": {
      "text/html": [
       "<div>\n",
       "<style scoped>\n",
       "    .dataframe tbody tr th:only-of-type {\n",
       "        vertical-align: middle;\n",
       "    }\n",
       "\n",
       "    .dataframe tbody tr th {\n",
       "        vertical-align: top;\n",
       "    }\n",
       "\n",
       "    .dataframe thead th {\n",
       "        text-align: right;\n",
       "    }\n",
       "</style>\n",
       "<table border=\"1\" class=\"dataframe\">\n",
       "  <thead>\n",
       "    <tr style=\"text-align: right;\">\n",
       "      <th></th>\n",
       "      <th>Year</th>\n",
       "      <th>Month</th>\n",
       "      <th>Day</th>\n",
       "      <th>Title</th>\n",
       "      <th>Tag</th>\n",
       "      <th>Article</th>\n",
       "      <th>Token_Word</th>\n",
       "      <th>Remark_Index</th>\n",
       "    </tr>\n",
       "  </thead>\n",
       "  <tbody>\n",
       "    <tr>\n",
       "      <th>0</th>\n",
       "      <td>2006</td>\n",
       "      <td>1</td>\n",
       "      <td>14</td>\n",
       "      <td>Nuclear proliferation Misreading Iran</td>\n",
       "      <td>Leaders</td>\n",
       "      <td>\\n\\t\\t\\tSpecial report Iran's nuclear programm...</td>\n",
       "      <td>['Special', 'report', 'Iran', \"'s\", 'nuclear',...</td>\n",
       "      <td>31</td>\n",
       "    </tr>\n",
       "    <tr>\n",
       "      <th>1</th>\n",
       "      <td>2006</td>\n",
       "      <td>1</td>\n",
       "      <td>14</td>\n",
       "      <td>UN reform Fix it or scrap it</td>\n",
       "      <td>Leaders</td>\n",
       "      <td>\\n\\t\\t\\tMexico and the United States Shots acr...</td>\n",
       "      <td>['Mexico', 'and', 'the', 'United', 'States', '...</td>\n",
       "      <td>58</td>\n",
       "    </tr>\n",
       "    <tr>\n",
       "      <th>2</th>\n",
       "      <td>2006</td>\n",
       "      <td>1</td>\n",
       "      <td>14</td>\n",
       "      <td>Spain and its regions A Catalan kerfuffle</td>\n",
       "      <td>Leaders</td>\n",
       "      <td>\\n\\t\\t\\tSpain and Catalonia Bad echoes from th...</td>\n",
       "      <td>['Spain', 'and', 'Catalonia', 'Bad', 'echoes',...</td>\n",
       "      <td>45</td>\n",
       "    </tr>\n",
       "  </tbody>\n",
       "</table>\n",
       "</div>"
      ],
      "text/plain": [
       "   Year  Month  Day                                      Title      Tag  \\\n",
       "0  2006      1   14      Nuclear proliferation Misreading Iran  Leaders   \n",
       "1  2006      1   14               UN reform Fix it or scrap it  Leaders   \n",
       "2  2006      1   14  Spain and its regions A Catalan kerfuffle  Leaders   \n",
       "\n",
       "                                             Article  \\\n",
       "0  \\n\\t\\t\\tSpecial report Iran's nuclear programm...   \n",
       "1  \\n\\t\\t\\tMexico and the United States Shots acr...   \n",
       "2  \\n\\t\\t\\tSpain and Catalonia Bad echoes from th...   \n",
       "\n",
       "                                          Token_Word Remark_Index  \n",
       "0  ['Special', 'report', 'Iran', \"'s\", 'nuclear',...           31  \n",
       "1  ['Mexico', 'and', 'the', 'United', 'States', '...           58  \n",
       "2  ['Spain', 'and', 'Catalonia', 'Bad', 'echoes',...           45  "
      ]
     },
     "execution_count": 5,
     "metadata": {},
     "output_type": "execute_result"
    }
   ],
   "source": [
    "ECONOMIST_Token[:3]"
   ]
  },
  {
   "cell_type": "code",
   "execution_count": 6,
   "metadata": {},
   "outputs": [],
   "source": [
    "Topics = ['Leaders', 'Britain', 'Europe', 'United States', 'The Americas', \n",
    "              'Middle East and Africa', 'Asia', 'Obituary',\n",
    "              'Business', 'Finance and economics', 'Science and technology', 'Books and arts']\n",
    "\n",
    "years = ['2006','2007','2008','2009','2010']"
   ]
  },
  {
   "cell_type": "code",
   "execution_count": 7,
   "metadata": {},
   "outputs": [
    {
     "ename": "NameError",
     "evalue": "name 'lucem_illud' is not defined",
     "output_type": "error",
     "traceback": [
      "\u001b[0;31m---------------------------------------------------------------------------\u001b[0m",
      "\u001b[0;31mNameError\u001b[0m                                 Traceback (most recent call last)",
      "\u001b[0;32m<ipython-input-7-0b4572ab9e7f>\u001b[0m in \u001b[0;36m<module>\u001b[0;34m()\u001b[0m\n\u001b[0;32m----> 1\u001b[0;31m \u001b[0mFin_Econ_DF\u001b[0m \u001b[0;34m=\u001b[0m \u001b[0mlucem_illud\u001b[0m\u001b[0;34m.\u001b[0m\u001b[0mloadTextDirectory\u001b[0m\u001b[0;34m(\u001b[0m\u001b[0;34m'/Users/Techbar/Downloads/Fin_Econ'\u001b[0m\u001b[0;34m)\u001b[0m\u001b[0;34m\u001b[0m\u001b[0m\n\u001b[0m",
      "\u001b[0;31mNameError\u001b[0m: name 'lucem_illud' is not defined"
     ]
    }
   ],
   "source": [
    "Fin_Econ_DF = lucem_illud.loadTextDirectory('/Users/Techbar/Downloads/Fin_Econ')"
   ]
  },
  {
   "cell_type": "code",
   "execution_count": 9,
   "metadata": {},
   "outputs": [
    {
     "data": {
      "text/html": [
       "<div>\n",
       "<style scoped>\n",
       "    .dataframe tbody tr th:only-of-type {\n",
       "        vertical-align: middle;\n",
       "    }\n",
       "\n",
       "    .dataframe tbody tr th {\n",
       "        vertical-align: top;\n",
       "    }\n",
       "\n",
       "    .dataframe thead th {\n",
       "        text-align: right;\n",
       "    }\n",
       "</style>\n",
       "<table border=\"1\" class=\"dataframe\">\n",
       "  <thead>\n",
       "    <tr style=\"text-align: right;\">\n",
       "      <th></th>\n",
       "      <th>text</th>\n",
       "    </tr>\n",
       "  </thead>\n",
       "  <tbody>\n",
       "    <tr>\n",
       "      <th>Finance and economics_2006.txt</th>\n",
       "      <td>\\n\\t\\t\\tAppointments m The Africa Rice Center ...</td>\n",
       "    </tr>\n",
       "    <tr>\n",
       "      <th>Finance and economics_2007.txt</th>\n",
       "      <td>\\n\\t\\t\\tBooks and arts\\n\\t\\t\\tBeatrix Potter F...</td>\n",
       "    </tr>\n",
       "    <tr>\n",
       "      <th>Finance and economics_2008.txt</th>\n",
       "      <td>\\n\\t\\t\\tYou don't have to be rich Developing c...</td>\n",
       "    </tr>\n",
       "    <tr>\n",
       "      <th>Finance and economics_2009.txt</th>\n",
       "      <td>\\n\\t\\t\\tFinance and economics\\n\\t\\t\\tBanking i...</td>\n",
       "    </tr>\n",
       "    <tr>\n",
       "      <th>Finance and economics_2010.txt</th>\n",
       "      <td>\\n\\t\\t\\tFinance and economics\\n\\t\\t\\tTo lose o...</td>\n",
       "    </tr>\n",
       "  </tbody>\n",
       "</table>\n",
       "</div>"
      ],
      "text/plain": [
       "                                                                             text\n",
       "Finance and economics_2006.txt  \\n\\t\\t\\tAppointments m The Africa Rice Center ...\n",
       "Finance and economics_2007.txt  \\n\\t\\t\\tBooks and arts\\n\\t\\t\\tBeatrix Potter F...\n",
       "Finance and economics_2008.txt  \\n\\t\\t\\tYou don't have to be rich Developing c...\n",
       "Finance and economics_2009.txt  \\n\\t\\t\\tFinance and economics\\n\\t\\t\\tBanking i...\n",
       "Finance and economics_2010.txt  \\n\\t\\t\\tFinance and economics\\n\\t\\t\\tTo lose o..."
      ]
     },
     "execution_count": 9,
     "metadata": {},
     "output_type": "execute_result"
    }
   ],
   "source": [
    "Fin_Econ_DF"
   ]
  },
  {
   "cell_type": "code",
   "execution_count": 10,
   "metadata": {},
   "outputs": [
    {
     "data": {
      "text/html": [
       "<div>\n",
       "<style scoped>\n",
       "    .dataframe tbody tr th:only-of-type {\n",
       "        vertical-align: middle;\n",
       "    }\n",
       "\n",
       "    .dataframe tbody tr th {\n",
       "        vertical-align: top;\n",
       "    }\n",
       "\n",
       "    .dataframe thead th {\n",
       "        text-align: right;\n",
       "    }\n",
       "</style>\n",
       "<table border=\"1\" class=\"dataframe\">\n",
       "  <thead>\n",
       "    <tr style=\"text-align: right;\">\n",
       "      <th></th>\n",
       "      <th>text</th>\n",
       "      <th>tokenized_sents</th>\n",
       "      <th>normalized_sents</th>\n",
       "    </tr>\n",
       "  </thead>\n",
       "  <tbody>\n",
       "    <tr>\n",
       "      <th>Finance and economics_2006.txt</th>\n",
       "      <td>\\n\\t\\t\\tAppointments m The Africa Rice Center ...</td>\n",
       "      <td>[[Appointments, m, The, Africa, Rice, Center, ...</td>\n",
       "      <td>[[appointments, africa, rice, center, warda, s...</td>\n",
       "    </tr>\n",
       "    <tr>\n",
       "      <th>Finance and economics_2007.txt</th>\n",
       "      <td>\\n\\t\\t\\tBooks and arts\\n\\t\\t\\tBeatrix Potter F...</td>\n",
       "      <td>[[Books, and, arts, Beatrix, Potter, Force, of...</td>\n",
       "      <td>[[books, arts, beatrix, potter, force, nature,...</td>\n",
       "    </tr>\n",
       "    <tr>\n",
       "      <th>Finance and economics_2008.txt</th>\n",
       "      <td>\\n\\t\\t\\tYou don't have to be rich Developing c...</td>\n",
       "      <td>[[You, do, n't, have, to, be, rich, Developing...</td>\n",
       "      <td>[[rich, developing, countries, attract, migran...</td>\n",
       "    </tr>\n",
       "    <tr>\n",
       "      <th>Finance and economics_2009.txt</th>\n",
       "      <td>\\n\\t\\t\\tFinance and economics\\n\\t\\t\\tBanking i...</td>\n",
       "      <td>[[Finance, and, economics, Banking, in, China,...</td>\n",
       "      <td>[[finance, economics, banking, china, needed, ...</td>\n",
       "    </tr>\n",
       "    <tr>\n",
       "      <th>Finance and economics_2010.txt</th>\n",
       "      <td>\\n\\t\\t\\tFinance and economics\\n\\t\\t\\tTo lose o...</td>\n",
       "      <td>[[Finance, and, economics, To, lose, one, deca...</td>\n",
       "      <td>[[finance, economics, lose, one, decade, may, ...</td>\n",
       "    </tr>\n",
       "  </tbody>\n",
       "</table>\n",
       "</div>"
      ],
      "text/plain": [
       "                                                                             text  \\\n",
       "Finance and economics_2006.txt  \\n\\t\\t\\tAppointments m The Africa Rice Center ...   \n",
       "Finance and economics_2007.txt  \\n\\t\\t\\tBooks and arts\\n\\t\\t\\tBeatrix Potter F...   \n",
       "Finance and economics_2008.txt  \\n\\t\\t\\tYou don't have to be rich Developing c...   \n",
       "Finance and economics_2009.txt  \\n\\t\\t\\tFinance and economics\\n\\t\\t\\tBanking i...   \n",
       "Finance and economics_2010.txt  \\n\\t\\t\\tFinance and economics\\n\\t\\t\\tTo lose o...   \n",
       "\n",
       "                                                                  tokenized_sents  \\\n",
       "Finance and economics_2006.txt  [[Appointments, m, The, Africa, Rice, Center, ...   \n",
       "Finance and economics_2007.txt  [[Books, and, arts, Beatrix, Potter, Force, of...   \n",
       "Finance and economics_2008.txt  [[You, do, n't, have, to, be, rich, Developing...   \n",
       "Finance and economics_2009.txt  [[Finance, and, economics, Banking, in, China,...   \n",
       "Finance and economics_2010.txt  [[Finance, and, economics, To, lose, one, deca...   \n",
       "\n",
       "                                                                 normalized_sents  \n",
       "Finance and economics_2006.txt  [[appointments, africa, rice, center, warda, s...  \n",
       "Finance and economics_2007.txt  [[books, arts, beatrix, potter, force, nature,...  \n",
       "Finance and economics_2008.txt  [[rich, developing, countries, attract, migran...  \n",
       "Finance and economics_2009.txt  [[finance, economics, banking, china, needed, ...  \n",
       "Finance and economics_2010.txt  [[finance, economics, lose, one, decade, may, ...  "
      ]
     },
     "execution_count": 10,
     "metadata": {},
     "output_type": "execute_result"
    }
   ],
   "source": [
    "# Tokenize and normalize the texts\n",
    "Fin_Econ_DF['tokenized_sents'] = Fin_Econ_DF['text'].apply(lambda x: \n",
    "                                                               [nltk.word_tokenize(s) for s in nltk.sent_tokenize(x)])\n",
    "Fin_Econ_DF['normalized_sents'] = Fin_Econ_DF['tokenized_sents'].apply(lambda x: \n",
    "                                                                           [lucem_illud.normalizeTokens(s, \n",
    "                                                                                           stopwordLst = lucem_illud.stop_words_basic, \n",
    "                                                                                           stemmer = None) \n",
    "                                                                            for s in x])\n",
    "\n",
    "Fin_Econ_DF[:5]"
   ]
  },
  {
   "cell_type": "code",
   "execution_count": 12,
   "metadata": {},
   "outputs": [],
   "source": [
    "# word to vector\n",
    "Fin_EconW2V = gensim.models.word2vec.Word2Vec(Fin_Econ_DF['normalized_sents'].sum())\n"
   ]
  },
  {
   "cell_type": "code",
   "execution_count": 13,
   "metadata": {},
   "outputs": [],
   "source": [
    "# words and their frequencies -- generate the list of representative words\n",
    "Fin_Econ_DF['tokenized_text'] = Fin_Econ_DF['text'].apply(lambda x: nltk.word_tokenize(x))\n",
    "countsDict = {}\n",
    "for word in Fin_Econ_DF['tokenized_text'].sum():\n",
    "    if word in countsDict:\n",
    "        countsDict[word] += 1\n",
    "    else:\n",
    "        countsDict[word] = 1\n",
    "word_counts = sorted(countsDict.items(), key = lambda x : x[1], reverse = True)"
   ]
  },
  {
   "cell_type": "code",
   "execution_count": 158,
   "metadata": {},
   "outputs": [],
   "source": [
    "#word_counts[60:150]\n",
    "#keywords = ['America']\n",
    "#for i in range(60, 5060):\n",
    "#    keywords.append(word_counts[i][0])"
   ]
  },
  {
   "cell_type": "code",
   "execution_count": 1,
   "metadata": {},
   "outputs": [],
   "source": [
    "keywords = ['crunch','bubbles','wreckage', 'collapse','negative','bubble',\n",
    "           'worst','crises','meltdowns','turmoil','loss','loan', 'panic', 'global']"
   ]
  },
  {
   "cell_type": "code",
   "execution_count": 2,
   "metadata": {},
   "outputs": [],
   "source": [
    "# application:\n",
    "# CookBookW2V.most_similar('water')"
   ]
  },
  {
   "cell_type": "code",
   "execution_count": null,
   "metadata": {},
   "outputs": [],
   "source": [
    "Fin_EconW2V.most_similar(positive=['housing', 'crisis'], negative = ['america'])"
   ]
  },
  {
   "cell_type": "markdown",
   "metadata": {},
   "source": [
    "<span style=\"color:purple\"> causality: ('caused', 0.637915849685669)"
   ]
  },
  {
   "cell_type": "code",
   "execution_count": null,
   "metadata": {},
   "outputs": [],
   "source": [
    "Fin_EconW2V.most_similar(positive=['crisis', 'europe'], negative = ['asia'])"
   ]
  },
  {
   "cell_type": "code",
   "execution_count": null,
   "metadata": {},
   "outputs": [],
   "source": [
    "Fin_EconW2V.most_similar(positive=['crisis', 'america'], negative = ['asia'])"
   ]
  },
  {
   "cell_type": "code",
   "execution_count": null,
   "metadata": {},
   "outputs": [],
   "source": [
    "Fin_EconW2V.most_similar(positive=['crisis', 'america'], negative = ['europe'])"
   ]
  },
  {
   "cell_type": "code",
   "execution_count": 123,
   "metadata": {},
   "outputs": [
    {
     "data": {
      "text/plain": [
       "[('crunch', 0.665003776550293),\n",
       " ('wreckage', 0.6434580087661743),\n",
       " ('crises', 0.5987685322761536),\n",
       " ('collapse', 0.5804882645606995),\n",
       " ('boom', 0.570268988609314),\n",
       " ('kets', 0.5668572187423706),\n",
       " ('turmoil', 0.5433524250984192),\n",
       " ('hit', 0.5384184122085571),\n",
       " ('meltdowns', 0.5344049334526062),\n",
       " ('ticked', 0.5333815813064575)]"
      ]
     },
     "execution_count": 123,
     "metadata": {},
     "output_type": "execute_result"
    }
   ],
   "source": [
    "Fin_EconW2V.most_similar(positive=['crisis', 'america'], negative = ['britain'])"
   ]
  },
  {
   "cell_type": "code",
   "execution_count": 124,
   "metadata": {},
   "outputs": [
    {
     "data": {
      "text/plain": [
       "[('crunch', 0.689895749092102),\n",
       " ('losses', 0.6573129892349243),\n",
       " ('wreckage', 0.6178520917892456),\n",
       " ('ratings', 0.6037278175354004),\n",
       " ('bigger', 0.6012319326400757),\n",
       " ('hit', 0.6012295484542847),\n",
       " ('loss', 0.5922435522079468),\n",
       " ('collapse', 0.5822243094444275),\n",
       " ('boom', 0.5815901756286621),\n",
       " ('lenders', 0.5801968574523926)]"
      ]
     },
     "execution_count": 124,
     "metadata": {},
     "output_type": "execute_result"
    }
   ],
   "source": [
    "Fin_EconW2V.most_similar(positive=['crisis', 'america'], negative = ['africa'])"
   ]
  },
  {
   "cell_type": "markdown",
   "metadata": {},
   "source": [
    "<span style=\"color:purple\"> the above shows that the crisis is in a global range. No country or area is luck enough to avoid the \"crunch\", \"collapse\", \"turmoil\", \"meltdown\"!"
   ]
  },
  {
   "cell_type": "code",
   "execution_count": 125,
   "metadata": {},
   "outputs": [
    {
     "data": {
      "text/html": [
       "<div>\n",
       "<style scoped>\n",
       "    .dataframe tbody tr th:only-of-type {\n",
       "        vertical-align: middle;\n",
       "    }\n",
       "\n",
       "    .dataframe tbody tr th {\n",
       "        vertical-align: top;\n",
       "    }\n",
       "\n",
       "    .dataframe thead th {\n",
       "        text-align: right;\n",
       "    }\n",
       "</style>\n",
       "<table border=\"1\" class=\"dataframe\">\n",
       "  <thead>\n",
       "    <tr style=\"text-align: right;\">\n",
       "      <th></th>\n",
       "      <th>text</th>\n",
       "      <th>tokenized_sents</th>\n",
       "      <th>normalized_sents</th>\n",
       "      <th>tokenized_text</th>\n",
       "      <th>text_name</th>\n",
       "      <th>normalized_tokens</th>\n",
       "      <th>normalized_tokens_count</th>\n",
       "      <th>Tagged_Text</th>\n",
       "    </tr>\n",
       "  </thead>\n",
       "  <tbody>\n",
       "    <tr>\n",
       "      <th>Finance and economics_2006.txt</th>\n",
       "      <td>\\n\\t\\t\\tAppointments m The Africa Rice Center ...</td>\n",
       "      <td>[[Appointments, m, The, Africa, Rice, Center, ...</td>\n",
       "      <td>[[appointments, africa, rice, center, warda, s...</td>\n",
       "      <td>[Appointments, m, The, Africa, Rice, Center, W...</td>\n",
       "      <td>Finance and economics_2006.txt</td>\n",
       "      <td>[appointments, africa, rice, center, warda, se...</td>\n",
       "      <td>180211</td>\n",
       "      <td>([appointments, africa, rice, center, warda, s...</td>\n",
       "    </tr>\n",
       "    <tr>\n",
       "      <th>Finance and economics_2007.txt</th>\n",
       "      <td>\\n\\t\\t\\tBooks and arts\\n\\t\\t\\tBeatrix Potter F...</td>\n",
       "      <td>[[Books, and, arts, Beatrix, Potter, Force, of...</td>\n",
       "      <td>[[books, arts, beatrix, potter, force, nature,...</td>\n",
       "      <td>[Books, and, arts, Beatrix, Potter, Force, of,...</td>\n",
       "      <td>Finance and economics_2007.txt</td>\n",
       "      <td>[books, arts, beatrix, potter, force, nature, ...</td>\n",
       "      <td>180135</td>\n",
       "      <td>([books, arts, beatrix, potter, force, nature,...</td>\n",
       "    </tr>\n",
       "    <tr>\n",
       "      <th>Finance and economics_2008.txt</th>\n",
       "      <td>\\n\\t\\t\\tYou don't have to be rich Developing c...</td>\n",
       "      <td>[[You, do, n't, have, to, be, rich, Developing...</td>\n",
       "      <td>[[rich, developing, countries, attract, migran...</td>\n",
       "      <td>[You, do, n't, have, to, be, rich, Developing,...</td>\n",
       "      <td>Finance and economics_2008.txt</td>\n",
       "      <td>[rich, developing, countries, attract, migrant...</td>\n",
       "      <td>195232</td>\n",
       "      <td>([rich, developing, countries, attract, migran...</td>\n",
       "    </tr>\n",
       "    <tr>\n",
       "      <th>Finance and economics_2009.txt</th>\n",
       "      <td>\\n\\t\\t\\tFinance and economics\\n\\t\\t\\tBanking i...</td>\n",
       "      <td>[[Finance, and, economics, Banking, in, China,...</td>\n",
       "      <td>[[finance, economics, banking, china, needed, ...</td>\n",
       "      <td>[Finance, and, economics, Banking, in, China, ...</td>\n",
       "      <td>Finance and economics_2009.txt</td>\n",
       "      <td>[finance, economics, banking, china, needed, s...</td>\n",
       "      <td>252885</td>\n",
       "      <td>([finance, economics, banking, china, needed, ...</td>\n",
       "    </tr>\n",
       "    <tr>\n",
       "      <th>Finance and economics_2010.txt</th>\n",
       "      <td>\\n\\t\\t\\tFinance and economics\\n\\t\\t\\tTo lose o...</td>\n",
       "      <td>[[Finance, and, economics, To, lose, one, deca...</td>\n",
       "      <td>[[finance, economics, lose, one, decade, may, ...</td>\n",
       "      <td>[Finance, and, economics, To, lose, one, decad...</td>\n",
       "      <td>Finance and economics_2010.txt</td>\n",
       "      <td>[finance, economics, lose, one, decade, may, m...</td>\n",
       "      <td>264006</td>\n",
       "      <td>([finance, economics, lose, one, decade, may, ...</td>\n",
       "    </tr>\n",
       "  </tbody>\n",
       "</table>\n",
       "</div>"
      ],
      "text/plain": [
       "                                                                             text  \\\n",
       "Finance and economics_2006.txt  \\n\\t\\t\\tAppointments m The Africa Rice Center ...   \n",
       "Finance and economics_2007.txt  \\n\\t\\t\\tBooks and arts\\n\\t\\t\\tBeatrix Potter F...   \n",
       "Finance and economics_2008.txt  \\n\\t\\t\\tYou don't have to be rich Developing c...   \n",
       "Finance and economics_2009.txt  \\n\\t\\t\\tFinance and economics\\n\\t\\t\\tBanking i...   \n",
       "Finance and economics_2010.txt  \\n\\t\\t\\tFinance and economics\\n\\t\\t\\tTo lose o...   \n",
       "\n",
       "                                                                  tokenized_sents  \\\n",
       "Finance and economics_2006.txt  [[Appointments, m, The, Africa, Rice, Center, ...   \n",
       "Finance and economics_2007.txt  [[Books, and, arts, Beatrix, Potter, Force, of...   \n",
       "Finance and economics_2008.txt  [[You, do, n't, have, to, be, rich, Developing...   \n",
       "Finance and economics_2009.txt  [[Finance, and, economics, Banking, in, China,...   \n",
       "Finance and economics_2010.txt  [[Finance, and, economics, To, lose, one, deca...   \n",
       "\n",
       "                                                                 normalized_sents  \\\n",
       "Finance and economics_2006.txt  [[appointments, africa, rice, center, warda, s...   \n",
       "Finance and economics_2007.txt  [[books, arts, beatrix, potter, force, nature,...   \n",
       "Finance and economics_2008.txt  [[rich, developing, countries, attract, migran...   \n",
       "Finance and economics_2009.txt  [[finance, economics, banking, china, needed, ...   \n",
       "Finance and economics_2010.txt  [[finance, economics, lose, one, decade, may, ...   \n",
       "\n",
       "                                                                   tokenized_text  \\\n",
       "Finance and economics_2006.txt  [Appointments, m, The, Africa, Rice, Center, W...   \n",
       "Finance and economics_2007.txt  [Books, and, arts, Beatrix, Potter, Force, of,...   \n",
       "Finance and economics_2008.txt  [You, do, n't, have, to, be, rich, Developing,...   \n",
       "Finance and economics_2009.txt  [Finance, and, economics, Banking, in, China, ...   \n",
       "Finance and economics_2010.txt  [Finance, and, economics, To, lose, one, decad...   \n",
       "\n",
       "                                                     text_name  \\\n",
       "Finance and economics_2006.txt  Finance and economics_2006.txt   \n",
       "Finance and economics_2007.txt  Finance and economics_2007.txt   \n",
       "Finance and economics_2008.txt  Finance and economics_2008.txt   \n",
       "Finance and economics_2009.txt  Finance and economics_2009.txt   \n",
       "Finance and economics_2010.txt  Finance and economics_2010.txt   \n",
       "\n",
       "                                                                normalized_tokens  \\\n",
       "Finance and economics_2006.txt  [appointments, africa, rice, center, warda, se...   \n",
       "Finance and economics_2007.txt  [books, arts, beatrix, potter, force, nature, ...   \n",
       "Finance and economics_2008.txt  [rich, developing, countries, attract, migrant...   \n",
       "Finance and economics_2009.txt  [finance, economics, banking, china, needed, s...   \n",
       "Finance and economics_2010.txt  [finance, economics, lose, one, decade, may, m...   \n",
       "\n",
       "                                normalized_tokens_count  \\\n",
       "Finance and economics_2006.txt                   180211   \n",
       "Finance and economics_2007.txt                   180135   \n",
       "Finance and economics_2008.txt                   195232   \n",
       "Finance and economics_2009.txt                   252885   \n",
       "Finance and economics_2010.txt                   264006   \n",
       "\n",
       "                                                                      Tagged_Text  \n",
       "Finance and economics_2006.txt  ([appointments, africa, rice, center, warda, s...  \n",
       "Finance and economics_2007.txt  ([books, arts, beatrix, potter, force, nature,...  \n",
       "Finance and economics_2008.txt  ([rich, developing, countries, attract, migran...  \n",
       "Finance and economics_2009.txt  ([finance, economics, banking, china, needed, ...  \n",
       "Finance and economics_2010.txt  ([finance, economics, lose, one, decade, may, ...  "
      ]
     },
     "execution_count": 125,
     "metadata": {},
     "output_type": "execute_result"
    }
   ],
   "source": [
    "Fin_Econ_DF"
   ]
  },
  {
   "cell_type": "code",
   "execution_count": 126,
   "metadata": {},
   "outputs": [
    {
     "data": {
      "text/html": [
       "<div>\n",
       "<style scoped>\n",
       "    .dataframe tbody tr th:only-of-type {\n",
       "        vertical-align: middle;\n",
       "    }\n",
       "\n",
       "    .dataframe tbody tr th {\n",
       "        vertical-align: top;\n",
       "    }\n",
       "\n",
       "    .dataframe thead th {\n",
       "        text-align: right;\n",
       "    }\n",
       "</style>\n",
       "<table border=\"1\" class=\"dataframe\">\n",
       "  <thead>\n",
       "    <tr style=\"text-align: right;\">\n",
       "      <th></th>\n",
       "      <th>text</th>\n",
       "      <th>tokenized_sents</th>\n",
       "      <th>normalized_sents</th>\n",
       "      <th>tokenized_text</th>\n",
       "      <th>text_name</th>\n",
       "      <th>normalized_tokens</th>\n",
       "      <th>normalized_tokens_count</th>\n",
       "      <th>Tagged_Text</th>\n",
       "    </tr>\n",
       "  </thead>\n",
       "  <tbody>\n",
       "    <tr>\n",
       "      <th>Finance and economics_2010.txt</th>\n",
       "      <td>\\n\\t\\t\\tFinance and economics\\n\\t\\t\\tTo lose o...</td>\n",
       "      <td>[[Finance, and, economics, To, lose, one, deca...</td>\n",
       "      <td>[[finance, economics, lose, one, decade, may, ...</td>\n",
       "      <td>[Finance, and, economics, To, lose, one, decad...</td>\n",
       "      <td>Finance and economics_2010.txt</td>\n",
       "      <td>[finance, economics, lose, one, decade, may, m...</td>\n",
       "      <td>264006</td>\n",
       "      <td>([finance, economics, lose, one, decade, may, ...</td>\n",
       "    </tr>\n",
       "    <tr>\n",
       "      <th>Finance and economics_2009.txt</th>\n",
       "      <td>\\n\\t\\t\\tFinance and economics\\n\\t\\t\\tBanking i...</td>\n",
       "      <td>[[Finance, and, economics, Banking, in, China,...</td>\n",
       "      <td>[[finance, economics, banking, china, needed, ...</td>\n",
       "      <td>[Finance, and, economics, Banking, in, China, ...</td>\n",
       "      <td>Finance and economics_2009.txt</td>\n",
       "      <td>[finance, economics, banking, china, needed, s...</td>\n",
       "      <td>252885</td>\n",
       "      <td>([finance, economics, banking, china, needed, ...</td>\n",
       "    </tr>\n",
       "    <tr>\n",
       "      <th>Finance and economics_2008.txt</th>\n",
       "      <td>\\n\\t\\t\\tYou don't have to be rich Developing c...</td>\n",
       "      <td>[[You, do, n't, have, to, be, rich, Developing...</td>\n",
       "      <td>[[rich, developing, countries, attract, migran...</td>\n",
       "      <td>[You, do, n't, have, to, be, rich, Developing,...</td>\n",
       "      <td>Finance and economics_2008.txt</td>\n",
       "      <td>[rich, developing, countries, attract, migrant...</td>\n",
       "      <td>195232</td>\n",
       "      <td>([rich, developing, countries, attract, migran...</td>\n",
       "    </tr>\n",
       "  </tbody>\n",
       "</table>\n",
       "</div>"
      ],
      "text/plain": [
       "                                                                             text  \\\n",
       "Finance and economics_2010.txt  \\n\\t\\t\\tFinance and economics\\n\\t\\t\\tTo lose o...   \n",
       "Finance and economics_2009.txt  \\n\\t\\t\\tFinance and economics\\n\\t\\t\\tBanking i...   \n",
       "Finance and economics_2008.txt  \\n\\t\\t\\tYou don't have to be rich Developing c...   \n",
       "\n",
       "                                                                  tokenized_sents  \\\n",
       "Finance and economics_2010.txt  [[Finance, and, economics, To, lose, one, deca...   \n",
       "Finance and economics_2009.txt  [[Finance, and, economics, Banking, in, China,...   \n",
       "Finance and economics_2008.txt  [[You, do, n't, have, to, be, rich, Developing...   \n",
       "\n",
       "                                                                 normalized_sents  \\\n",
       "Finance and economics_2010.txt  [[finance, economics, lose, one, decade, may, ...   \n",
       "Finance and economics_2009.txt  [[finance, economics, banking, china, needed, ...   \n",
       "Finance and economics_2008.txt  [[rich, developing, countries, attract, migran...   \n",
       "\n",
       "                                                                   tokenized_text  \\\n",
       "Finance and economics_2010.txt  [Finance, and, economics, To, lose, one, decad...   \n",
       "Finance and economics_2009.txt  [Finance, and, economics, Banking, in, China, ...   \n",
       "Finance and economics_2008.txt  [You, do, n't, have, to, be, rich, Developing,...   \n",
       "\n",
       "                                                     text_name  \\\n",
       "Finance and economics_2010.txt  Finance and economics_2010.txt   \n",
       "Finance and economics_2009.txt  Finance and economics_2009.txt   \n",
       "Finance and economics_2008.txt  Finance and economics_2008.txt   \n",
       "\n",
       "                                                                normalized_tokens  \\\n",
       "Finance and economics_2010.txt  [finance, economics, lose, one, decade, may, m...   \n",
       "Finance and economics_2009.txt  [finance, economics, banking, china, needed, s...   \n",
       "Finance and economics_2008.txt  [rich, developing, countries, attract, migrant...   \n",
       "\n",
       "                                normalized_tokens_count  \\\n",
       "Finance and economics_2010.txt                   264006   \n",
       "Finance and economics_2009.txt                   252885   \n",
       "Finance and economics_2008.txt                   195232   \n",
       "\n",
       "                                                                      Tagged_Text  \n",
       "Finance and economics_2010.txt  ([finance, economics, lose, one, decade, may, ...  \n",
       "Finance and economics_2009.txt  ([finance, economics, banking, china, needed, ...  \n",
       "Finance and economics_2008.txt  ([rich, developing, countries, attract, migran...  "
      ]
     },
     "execution_count": 126,
     "metadata": {},
     "output_type": "execute_result"
    }
   ],
   "source": [
    "# I will only target the top 200 words in the list\n",
    "numWords = 200\n",
    "targetWords = Fin_EconW2V.wv.index2word[:numWords]\n",
    "\n",
    "\n",
    "stop_words_nltk = stopwords.words('english')\n",
    "\n",
    "#The stemmers and lemmers need to be initialized before bing run\n",
    "porter = nltk.stem.porter.PorterStemmer()\n",
    "snowball = nltk.stem.snowball.SnowballStemmer('english')\n",
    "wordnet = nltk.stem.WordNetLemmatizer()\n",
    "\n",
    "def normlizeTokens(tokenLst, stopwordLst = None, stemmer = None, lemmer = None):\n",
    "\n",
    "    #Lowering the case and removing non-words\n",
    "    workingIter = (w.lower() for w in tokenLst if w.isalpha())\n",
    "\n",
    "    #Now we can use the semmer, if provided\n",
    "    if stemmer is not None:\n",
    "        workingIter = (stemmer.stem(w) for w in workingIter)\n",
    "        \n",
    "    #And the lemmer\n",
    "    if lemmer is not None:\n",
    "        workingIter = (lemmer.lemmatize(w) for w in workingIter)\n",
    "    \n",
    "    #And remove the stopwords\n",
    "    if stopwordLst is not None:\n",
    "        workingIter = (w for w in workingIter if w not in stopwordLst)\n",
    "    #We will return a list with the stopwords removed\n",
    "    return list(workingIter)\n",
    "\n",
    "Fin_Econ_DF['normalized_tokens'] = Fin_Econ_DF['tokenized_text'].apply(lambda x: normlizeTokens(x, stopwordLst = stop_words_nltk, stemmer = None))\n",
    "\n",
    "Fin_Econ_DF['normalized_tokens_count'] = Fin_Econ_DF['normalized_tokens'].apply(lambda x: len(x))\n",
    "\n",
    "Fin_Econ_DF.sort_values(by='normalized_tokens_count', ascending=False)[:3]"
   ]
  },
  {
   "cell_type": "code",
   "execution_count": 161,
   "metadata": {},
   "outputs": [],
   "source": [
    "Fin_Econ_DF['text_name'] = Fin_Econ_DF.index\n",
    "    \n",
    "taggedDocs = []\n",
    "for index, row in Fin_Econ_DF.iterrows():\n",
    "    #Just doing a simple keyword assignment\n",
    "    docKeywords = [s for s in keywords if s in row['normalized_tokens']]\n",
    "    docKeywords.append(row['text_name']) #This lets us extract individual documnets since text_names's are unique\n",
    "    taggedDocs.append(gensim.models.doc2vec.LabeledSentence(words = row['normalized_tokens'], tags = docKeywords))\n",
    "Fin_Econ_DF['Tagged_Text'] = taggedDocs\n"
   ]
  },
  {
   "cell_type": "code",
   "execution_count": 162,
   "metadata": {},
   "outputs": [],
   "source": [
    "# Train a Doc2Vec model\n",
    "Fin_EconD2V = gensim.models.doc2vec.Doc2Vec(Fin_Econ_DF['Tagged_Text'], size = 500) #Limiting to 100 dimensions"
   ]
  },
  {
   "cell_type": "markdown",
   "metadata": {},
   "source": [
    "## <span style=\"color:purple\"> Cosine Similarity: Text vs Word!!!!"
   ]
  },
  {
   "cell_type": "code",
   "execution_count": 163,
   "metadata": {},
   "outputs": [
    {
     "data": {
      "text/plain": [
       "[('Finance and economics_2010.txt', 0.8854334950447083),\n",
       " ('btg', 0.8852806091308594),\n",
       " ('emf', 0.8852449655532837),\n",
       " ('aia', 0.8852046728134155),\n",
       " ('ey', 0.8835609555244446)]"
      ]
     },
     "execution_count": 163,
     "metadata": {},
     "output_type": "execute_result"
    }
   ],
   "source": [
    "# find out the text file most similar to 'salads'\n",
    "Fin_EconD2V.docvecs.most_similar([ Fin_EconD2V['crisis'] ], topn=5 )\n"
   ]
  },
  {
   "cell_type": "code",
   "execution_count": 165,
   "metadata": {},
   "outputs": [
    {
     "data": {
      "text/plain": [
       "[('emf', 0.9433571100234985),\n",
       " ('btg', 0.9433351755142212),\n",
       " ('aia', 0.9432446956634521),\n",
       " ('Finance and economics_2010.txt', 0.9431103467941284),\n",
       " ('Finance and economics_2008.txt', 0.9426082372665405)]"
      ]
     },
     "execution_count": 165,
     "metadata": {},
     "output_type": "execute_result"
    }
   ],
   "source": [
    "Fin_EconD2V.docvecs.most_similar([ Fin_EconD2V['collapse'] ], topn=5 )"
   ]
  },
  {
   "cell_type": "code",
   "execution_count": 168,
   "metadata": {},
   "outputs": [
    {
     "data": {
      "text/plain": [
       "[('aia', 0.9986162781715393),\n",
       " ('emf', 0.9986085295677185),\n",
       " ('btg', 0.9985909461975098),\n",
       " ('Finance and economics_2010.txt', 0.9985827207565308),\n",
       " ('Finance and economics_2008.txt', 0.9983230829238892),\n",
       " ('etfs', 0.9963059425354004),\n",
       " ('peripheral', 0.9952263832092285),\n",
       " ('ey', 0.993478536605835),\n",
       " ('er', 0.9913570880889893),\n",
       " ('otc', 0.9723823070526123)]"
      ]
     },
     "execution_count": 168,
     "metadata": {},
     "output_type": "execute_result"
    }
   ],
   "source": [
    "Fin_EconD2V.docvecs.most_similar([ Fin_EconD2V['government'] ], topn=10 )"
   ]
  },
  {
   "cell_type": "code",
   "execution_count": 170,
   "metadata": {},
   "outputs": [
    {
     "data": {
      "text/plain": [
       "[('emf', 0.9873069524765015),\n",
       " ('Finance and economics_2010.txt', 0.9872950315475464),\n",
       " ('btg', 0.9872950315475464),\n",
       " ('aia', 0.9872583150863647),\n",
       " ('Finance and economics_2008.txt', 0.9869569540023804),\n",
       " ('etfs', 0.9856189489364624),\n",
       " ('peripheral', 0.9850360155105591),\n",
       " ('ey', 0.9824831485748291)]"
      ]
     },
     "execution_count": 170,
     "metadata": {},
     "output_type": "execute_result"
    }
   ],
   "source": [
    "Fin_EconD2V.docvecs.most_similar([ Fin_EconD2V['imf'] ], topn=8 )"
   ]
  },
  {
   "cell_type": "code",
   "execution_count": 172,
   "metadata": {},
   "outputs": [
    {
     "data": {
      "text/plain": [
       "[('Finance and economics_2010.txt', 0.995956301689148),\n",
       " ('emf', 0.9959264397621155),\n",
       " ('aia', 0.9959224462509155),\n",
       " ('btg', 0.9959203600883484),\n",
       " ('Finance and economics_2008.txt', 0.995502769947052),\n",
       " ('etfs', 0.9929993748664856),\n",
       " ('peripheral', 0.9918250441551208)]"
      ]
     },
     "execution_count": 172,
     "metadata": {},
     "output_type": "execute_result"
    }
   ],
   "source": [
    "Fin_EconD2V.docvecs.most_similar([ Fin_EconD2V['fed'] ], topn=7 )"
   ]
  },
  {
   "cell_type": "code",
   "execution_count": 173,
   "metadata": {},
   "outputs": [
    {
     "data": {
      "text/plain": [
       "[('btg', 0.9888094663619995),\n",
       " ('aia', 0.9887913465499878),\n",
       " ('Finance and economics_2010.txt', 0.988761842250824),\n",
       " ('emf', 0.9887580275535583),\n",
       " ('Finance and economics_2008.txt', 0.9882049560546875)]"
      ]
     },
     "execution_count": 173,
     "metadata": {},
     "output_type": "execute_result"
    }
   ],
   "source": [
    "# find out the text file most similar to a list of words\n",
    "Fin_EconD2V.docvecs.most_similar([ Fin_EconD2V['crunch']+Fin_EconD2V['losses']+Fin_EconD2V['bust']+\n",
    "                                  Fin_EconD2V['collapse']+Fin_EconD2V['wreckage']+\n",
    "                                  Fin_EconD2V['meltdowns']+Fin_EconD2V['turmoil']+\n",
    "                                  Fin_EconD2V['crisis']+Fin_EconD2V['panic']], topn=5 )\n"
   ]
  },
  {
   "cell_type": "code",
   "execution_count": 180,
   "metadata": {},
   "outputs": [
    {
     "data": {
      "text/plain": [
       "[('ground', 0.9968371987342834),\n",
       " ('Finance and economics_2009.txt', 0.9968199729919434),\n",
       " ('seen', 0.9968172311782837),\n",
       " ('tended', 0.9968137741088867),\n",
       " ('coverage', 0.9968044757843018),\n",
       " ('study', 0.996803879737854),\n",
       " ('movements', 0.996802031993866),\n",
       " ('choose', 0.9967999458312988),\n",
       " ('lot', 0.996799111366272),\n",
       " ('uncertain', 0.9967941641807556)]"
      ]
     },
     "execution_count": 180,
     "metadata": {},
     "output_type": "execute_result"
    }
   ],
   "source": [
    "# find out the text file most similar to a list of words\n",
    "Fin_EconD2V.docvecs.most_similar([ Fin_EconD2V['action']+Fin_EconD2V['policy']+Fin_EconD2V['strategy']+\n",
    "                                  Fin_EconD2V['system']+Fin_EconD2V['positive']+\n",
    "                                  Fin_EconD2V['national']+Fin_EconD2V['turmoil']+\n",
    "                                  Fin_EconD2V['panic']], topn=10 )\n"
   ]
  },
  {
   "cell_type": "code",
   "execution_count": null,
   "metadata": {},
   "outputs": [],
   "source": [
    "# Find out the words most similar to the cook books"
   ]
  },
  {
   "cell_type": "code",
   "execution_count": 183,
   "metadata": {},
   "outputs": [
    {
     "data": {
      "text/plain": [
       "[('equity', 0.9999443888664246),\n",
       " ('private', 0.9999136924743652),\n",
       " ('executives', 0.9998984932899475),\n",
       " ('boards', 0.9998396039009094),\n",
       " ('gdp', 0.9997953772544861),\n",
       " ('managers', 0.9997891783714294),\n",
       " ('board', 0.9997871518135071),\n",
       " ('pay', 0.9997818470001221),\n",
       " ('also', 0.9997752904891968),\n",
       " ('directors', 0.9997593760490417)]"
      ]
     },
     "execution_count": 183,
     "metadata": {},
     "output_type": "execute_result"
    }
   ],
   "source": [
    "Fin_EconD2V.most_similar( [ Fin_EconD2V.docvecs['Finance and economics_2007.txt'] ], topn=10) \n"
   ]
  },
  {
   "cell_type": "code",
   "execution_count": 182,
   "metadata": {},
   "outputs": [
    {
     "data": {
      "text/plain": [
       "[('banks', 0.9991155862808228),\n",
       " ('people', 0.9990350008010864),\n",
       " ('federal', 0.9986315965652466),\n",
       " ('credit', 0.998619794845581),\n",
       " ('africa', 0.9985910654067993),\n",
       " ('salt', 0.9985305070877075),\n",
       " ('food', 0.9984995126724243),\n",
       " ('tax', 0.998495876789093),\n",
       " ('page', 0.9983843564987183),\n",
       " ('skills', 0.9983471632003784)]"
      ]
     },
     "execution_count": 182,
     "metadata": {},
     "output_type": "execute_result"
    }
   ],
   "source": [
    "Fin_EconD2V.most_similar( [ Fin_EconD2V.docvecs['Finance and economics_2008.txt'] ], topn=10) \n"
   ]
  },
  {
   "cell_type": "code",
   "execution_count": 181,
   "metadata": {},
   "outputs": [
    {
     "data": {
      "text/plain": [
       "[('equity', 0.9998527765274048),\n",
       " ('private', 0.9998342990875244),\n",
       " ('executives', 0.9998340010643005),\n",
       " ('board', 0.9997969269752502),\n",
       " ('much', 0.999784529209137),\n",
       " ('mr', 0.9997682571411133),\n",
       " ('also', 0.9997620582580566),\n",
       " ('boards', 0.9997554421424866),\n",
       " ('managers', 0.9997518062591553),\n",
       " ('directors', 0.9997168779373169)]"
      ]
     },
     "execution_count": 181,
     "metadata": {},
     "output_type": "execute_result"
    }
   ],
   "source": [
    "Fin_EconD2V.most_similar( [ Fin_EconD2V.docvecs['Finance and economics_2009.txt'] ], topn=10) \n"
   ]
  },
  {
   "cell_type": "code",
   "execution_count": 184,
   "metadata": {},
   "outputs": [
    {
     "data": {
      "text/plain": [
       "[('banks', 0.9993146657943726),\n",
       " ('people', 0.9992952346801758),\n",
       " ('credit', 0.9989756345748901),\n",
       " ('federal', 0.9989078044891357),\n",
       " ('africa', 0.9988895654678345),\n",
       " ('salt', 0.9988563060760498),\n",
       " ('food', 0.9988546967506409),\n",
       " ('tax', 0.9987888336181641),\n",
       " ('skills', 0.9987151622772217),\n",
       " ('page', 0.9986944198608398)]"
      ]
     },
     "execution_count": 184,
     "metadata": {},
     "output_type": "execute_result"
    }
   ],
   "source": [
    "Fin_EconD2V.most_similar( [ Fin_EconD2V.docvecs['Finance and economics_2010.txt'] ], topn=10) \n"
   ]
  },
  {
   "cell_type": "code",
   "execution_count": null,
   "metadata": {},
   "outputs": [],
   "source": []
  },
  {
   "cell_type": "code",
   "execution_count": 185,
   "metadata": {},
   "outputs": [],
   "source": [
    "targetDocs = Fin_Econ_DF['text_name'][:10]\n",
    "\n",
    "heatmapMatrixD = []\n",
    "\n",
    "for tagOuter in targetDocs:\n",
    "    column = []\n",
    "    tagVec = Fin_EconD2V.docvecs[tagOuter].reshape(1, -1)\n",
    "    for tagInner in targetDocs:\n",
    "        column.append(sklearn.metrics.pairwise.cosine_similarity(tagVec, Fin_EconD2V.docvecs[tagInner].reshape(1, -1))[0][0])\n",
    "    heatmapMatrixD.append(column)\n",
    "heatmapMatrixD = np.array(heatmapMatrixD)"
   ]
  },
  {
   "cell_type": "code",
   "execution_count": 186,
   "metadata": {},
   "outputs": [
    {
     "data": {
      "image/png": "[encoded data removed]",
      "text/plain": [
       "<Figure size 432x288 with 2 Axes>"
      ]
     },
     "metadata": {},
     "output_type": "display_data"
    }
   ],
   "source": [
    "fig, ax = plt.subplots()\n",
    "hmap = ax.pcolor(heatmapMatrixD, cmap='terrain')\n",
    "cbar = plt.colorbar(hmap)\n",
    "\n",
    "cbar.set_label('cosine similarity', rotation=270)\n",
    "a = ax.set_xticks(np.arange(heatmapMatrixD.shape[1]) + 0.5, minor=False)\n",
    "a = ax.set_yticks(np.arange(heatmapMatrixD.shape[0]) + 0.5, minor=False)\n",
    "\n",
    "a = ax.set_xticklabels(targetDocs, minor=False, rotation=270)\n",
    "a = ax.set_yticklabels(targetDocs, minor=False)"
   ]
  },
  {
   "cell_type": "code",
   "execution_count": null,
   "metadata": {},
   "outputs": [],
   "source": []
  },
  {
   "cell_type": "code",
   "execution_count": null,
   "metadata": {},
   "outputs": [],
   "source": []
  },
  {
   "cell_type": "markdown",
   "metadata": {},
   "source": [
    "## <span style=\"color:purple\"> Articles by sectors + evolution"
   ]
  },
  {
   "cell_type": "code",
   "execution_count": null,
   "metadata": {},
   "outputs": [],
   "source": []
  },
  {
   "cell_type": "code",
   "execution_count": null,
   "metadata": {},
   "outputs": [],
   "source": []
  },
  {
   "cell_type": "code",
   "execution_count": null,
   "metadata": {},
   "outputs": [],
   "source": []
  },
  {
   "cell_type": "code",
   "execution_count": null,
   "metadata": {},
   "outputs": [],
   "source": []
  },
  {
   "cell_type": "code",
   "execution_count": null,
   "metadata": {},
   "outputs": [],
   "source": [
    "Topics = ['Leaders', 'Britain', 'Europe', 'United States', 'The Americas', \n",
    "              'Middle East and Africa', 'Asia', 'Obituary',\n",
    "              'Business', 'Finance and economics', 'Science and technology', 'Books and arts']"
   ]
  }
 ],
 "metadata": {
  "kernelspec": {
   "display_name": "Python 3",
   "language": "python",
   "name": "python3"
  },
  "language_info": {
   "codemirror_mode": {
    "name": "ipython",
    "version": 3
   },
   "file_extension": ".py",
   "mimetype": "text/x-python",
   "name": "python",
   "nbconvert_exporter": "python",
   "pygments_lexer": "ipython3",
   "version": "3.6.4"
  }
 },
 "nbformat": 4,
 "nbformat_minor": 2
}
