{
 "cells": [
  {
   "cell_type": "markdown",
   "metadata": {},
   "source": [
    "# DATA/ FILE Processing"
   ]
  },
  {
   "cell_type": "markdown",
   "metadata": {},
   "source": [
    "## Genearate Text Files"
   ]
  },
  {
   "cell_type": "code",
   "execution_count": 1,
   "metadata": {},
   "outputs": [],
   "source": [
    "import lucem_illud \n",
    "\n",
    "import pandas #gives us DataFrames\n",
    "import numpy as np #For divergences/distances\n",
    "import scipy #For divergences/ distances/ hierarchical clustering and some visuals\n",
    "\n",
    "import nltk #the Natural Language Toolkit\n",
    "from nltk.corpus import stopwords #For stopwords\n",
    "\n",
    "import seaborn as sns #makes our plots look nicer\n",
    "import matplotlib.pyplot as plt #For graphics\n",
    "import matplotlib.cm #Still for graphics\n",
    "import wordcloud #Makes word clouds\n",
    "\n",
    "#These are all for the cluster detection\n",
    "import sklearn\n",
    "import sklearn.feature_extraction.text\n",
    "import sklearn.pipeline\n",
    "import sklearn.preprocessing\n",
    "import sklearn.datasets\n",
    "import sklearn.cluster\n",
    "import sklearn.decomposition\n",
    "import sklearn.metrics\n",
    "import sklearn.manifold #For a manifold plot\n",
    "\n",
    "import gensim#For topic modeling\n",
    "\n",
    "from bs4 import BeautifulSoup\n",
    "import requests #for http requests\n",
    "from requests import get\n",
    "import urllib.parse #For joining urls\n",
    "import re #for regexs\n",
    "import json #For API responses\n",
    "\n",
    "import itertools\n",
    "\n",
    "%matplotlib inline"
   ]
  },
  {
   "cell_type": "code",
   "execution_count": 2,
   "metadata": {},
   "outputs": [],
   "source": [
    "ECONOMIST_Token = pandas.read_csv('ECONOMIST_Token_Neat.csv')"
   ]
  },
  {
   "cell_type": "code",
   "execution_count": 3,
   "metadata": {},
   "outputs": [],
   "source": [
    "Topics = ['Leaders', 'Britain', 'Europe', 'United States', 'The Americas', \n",
    "              'Middle East and Africa', 'Asia', 'Obituary',\n",
    "              'Business', 'Finance and economics', 'Science and technology', 'Books and arts']\n",
    "\n",
    "years = ['2006','2007','2008','2009','2010']"
   ]
  },
  {
   "cell_type": "code",
   "execution_count": 6,
   "metadata": {},
   "outputs": [],
   "source": [
    "# Tag_name: str\n",
    "# yr: number\n",
    "def Article_ALL(Tag_name, yr):\n",
    "    List = list(ECONOMIST_Token[ECONOMIST_Token.Tag == Tag_name][ECONOMIST_Token.Year == yr]['Article'])\n",
    "    \n",
    "    f = open(Tag_name + '_' + str(yr) + '.txt','w')\n",
    "    f.write(List[0]+'\\n')\n",
    "    f.close()\n",
    "    \n",
    "    for i in range(1, len(List)):\n",
    "        f = open(Tag_name + '_' + str(yr) + '.txt','a')\n",
    "        f.write(List[i]+'\\n')\n",
    "        f.close()\n",
    "    return "
   ]
  },
  {
   "cell_type": "code",
   "execution_count": 7,
   "metadata": {
    "collapsed": true
   },
   "outputs": [
    {
     "name": "stderr",
     "output_type": "stream",
     "text": [
      "/anaconda3/lib/python3.6/site-packages/ipykernel_launcher.py:4: UserWarning: Boolean Series key will be reindexed to match DataFrame index.\n",
      "  after removing the cwd from sys.path.\n"
     ]
    },
    {
     "name": "stdout",
     "output_type": "stream",
     "text": [
      "finish topic Leaders year 2006\n",
      "finish topic Leaders year 2007\n",
      "finish topic Leaders year 2008\n",
      "finish topic Leaders year 2009\n",
      "finish topic Leaders year 2010\n",
      "finish topic Britain year 2006\n",
      "finish topic Britain year 2007\n",
      "finish topic Britain year 2008\n",
      "finish topic Britain year 2009\n",
      "finish topic Britain year 2010\n",
      "finish topic Europe year 2006\n",
      "finish topic Europe year 2007\n",
      "finish topic Europe year 2008\n",
      "finish topic Europe year 2009\n",
      "finish topic Europe year 2010\n",
      "finish topic United States year 2006\n",
      "finish topic United States year 2007\n",
      "finish topic United States year 2008\n",
      "finish topic United States year 2009\n",
      "finish topic United States year 2010\n",
      "finish topic The Americas year 2006\n",
      "finish topic The Americas year 2007\n",
      "finish topic The Americas year 2008\n",
      "finish topic The Americas year 2009\n",
      "finish topic The Americas year 2010\n",
      "finish topic Middle East and Africa year 2006\n",
      "finish topic Middle East and Africa year 2007\n",
      "finish topic Middle East and Africa year 2008\n",
      "finish topic Middle East and Africa year 2009\n",
      "finish topic Middle East and Africa year 2010\n",
      "finish topic Asia year 2006\n",
      "finish topic Asia year 2007\n",
      "finish topic Asia year 2008\n",
      "finish topic Asia year 2009\n",
      "finish topic Asia year 2010\n",
      "finish topic Obituary year 2006\n",
      "finish topic Obituary year 2007\n",
      "finish topic Obituary year 2008\n",
      "finish topic Obituary year 2009\n",
      "finish topic Obituary year 2010\n",
      "finish topic Business year 2006\n",
      "finish topic Business year 2007\n",
      "finish topic Business year 2008\n",
      "finish topic Business year 2009\n",
      "finish topic Business year 2010\n",
      "finish topic Finance and economics year 2006\n",
      "finish topic Finance and economics year 2007\n",
      "finish topic Finance and economics year 2008\n",
      "finish topic Finance and economics year 2009\n",
      "finish topic Finance and economics year 2010\n",
      "finish topic Science and technology year 2006\n",
      "finish topic Science and technology year 2007\n",
      "finish topic Science and technology year 2008\n",
      "finish topic Science and technology year 2009\n",
      "finish topic Science and technology year 2010\n",
      "finish topic Books and arts year 2006\n",
      "finish topic Books and arts year 2007\n",
      "finish topic Books and arts year 2008\n",
      "finish topic Books and arts year 2009\n",
      "finish topic Books and arts year 2010\n"
     ]
    }
   ],
   "source": [
    "for t in Topics:\n",
    "    for y in years:\n",
    "        Article_ALL(t, int(y))\n",
    "        print('finish topic '+t+' year '+y) "
   ]
  },
  {
   "cell_type": "code",
   "execution_count": 8,
   "metadata": {},
   "outputs": [],
   "source": [
    "def Article(Tag_name):\n",
    "    List = list(ECONOMIST_Token[ECONOMIST_Token.Tag == Tag_name]['Article'])\n",
    "    \n",
    "    f = open('ALL' + Tag_name + '.txt','w')\n",
    "    f.write(List[0]+'\\n')\n",
    "    f.close()\n",
    "    \n",
    "    for i in range(1, len(List)):\n",
    "        f = open('ALL' + Tag_name + '.txt','a')\n",
    "        f.write(List[i]+'\\n')\n",
    "        f.close()\n",
    "    return"
   ]
  },
  {
   "cell_type": "code",
   "execution_count": 9,
   "metadata": {},
   "outputs": [
    {
     "name": "stdout",
     "output_type": "stream",
     "text": [
      "finish topic Leaders\n",
      "finish topic Britain\n",
      "finish topic Europe\n",
      "finish topic United States\n",
      "finish topic The Americas\n",
      "finish topic Middle East and Africa\n",
      "finish topic Asia\n",
      "finish topic Obituary\n",
      "finish topic Business\n",
      "finish topic Finance and economics\n",
      "finish topic Science and technology\n",
      "finish topic Books and arts\n"
     ]
    }
   ],
   "source": [
    "for t in Topics:\n",
    "    Article(t)\n",
    "    print('finish topic '+ t)"
   ]
  },
  {
   "cell_type": "code",
   "execution_count": null,
   "metadata": {},
   "outputs": [],
   "source": []
  },
  {
   "cell_type": "code",
   "execution_count": null,
   "metadata": {},
   "outputs": [],
   "source": []
  },
  {
   "cell_type": "code",
   "execution_count": 26,
   "metadata": {},
   "outputs": [],
   "source": [
    "# Tag_name: str\n",
    "# yr: number\n",
    "def Article_by(Tag_name, yr, mth):\n",
    "    List = list(ECONOMIST_Token[ECONOMIST_Token.Tag == Tag_name][ECONOMIST_Token.Year == yr][ECONOMIST_Token.Month == mth]['Article'])\n",
    "    \n",
    "    if mth < 10:\n",
    "        f = open(Tag_name + '_' + str(yr) +'_0'+str(mth)+'.txt','w')\n",
    "        f.write(List[0]+'\\n')\n",
    "        f.close()\n",
    "\n",
    "        for i in range(1, len(List)):\n",
    "            f = open(Tag_name + '_' + str(yr) +'_0'+str(mth)+ '.txt','a')\n",
    "            f.write(List[i]+'\\n')\n",
    "            f.close()\n",
    "    else:\n",
    "        f = open(Tag_name + '_' + str(yr) +'_'+str(mth)+'.txt','w')\n",
    "        f.write(List[0]+'\\n')\n",
    "        f.close()\n",
    "\n",
    "        for i in range(1, len(List)):\n",
    "            f = open(Tag_name + '_' + str(yr) +'_'+str(mth)+ '.txt','a')\n",
    "            f.write(List[i]+'\\n')\n",
    "            f.close()\n",
    "    \n",
    "    return "
   ]
  },
  {
   "cell_type": "code",
   "execution_count": 28,
   "metadata": {},
   "outputs": [
    {
     "name": "stderr",
     "output_type": "stream",
     "text": [
      "/anaconda3/lib/python3.6/site-packages/ipykernel_launcher.py:4: UserWarning: Boolean Series key will be reindexed to match DataFrame index.\n",
      "  after removing the cwd from sys.path.\n"
     ]
    },
    {
     "name": "stdout",
     "output_type": "stream",
     "text": [
      "finish topic Science and technology year 2006\n",
      "finish topic Science and technology year 2007\n",
      "finish topic Science and technology year 2008\n",
      "finish topic Science and technology year 2009\n",
      "finish topic Science and technology year 2010\n"
     ]
    }
   ],
   "source": [
    "Topics = ['Science and technology']\n",
    "for t in Topics:\n",
    "    for y in years:\n",
    "        for m in range(1,13):\n",
    "            Article_by(t, int(y),m)\n",
    "        print('finish topic '+t+' year '+y) "
   ]
  },
  {
   "cell_type": "code",
   "execution_count": null,
   "metadata": {},
   "outputs": [],
   "source": []
  },
  {
   "cell_type": "code",
   "execution_count": null,
   "metadata": {},
   "outputs": [],
   "source": [
    "Topics = ['Leaders', 'Britain', 'Europe', 'United States', 'The Americas', \n",
    "              'Middle East and Africa', 'Asia', 'Obituary',\n",
    "              'Business', 'Finance and economics', 'Science and technology', 'Books and arts']\n",
    "\n",
    "years = ['2006','2007','2008','2009','2010']"
   ]
  },
  {
   "cell_type": "code",
   "execution_count": null,
   "metadata": {},
   "outputs": [],
   "source": []
  },
  {
   "cell_type": "code",
   "execution_count": null,
   "metadata": {},
   "outputs": [],
   "source": []
  },
  {
   "cell_type": "code",
   "execution_count": null,
   "metadata": {},
   "outputs": [],
   "source": []
  }
 ],
 "metadata": {
  "kernelspec": {
   "display_name": "Python 3",
   "language": "python",
   "name": "python3"
  },
  "language_info": {
   "codemirror_mode": {
    "name": "ipython",
    "version": 3
   },
   "file_extension": ".py",
   "mimetype": "text/x-python",
   "name": "python",
   "nbconvert_exporter": "python",
   "pygments_lexer": "ipython3",
   "version": "3.6.4"
  }
 },
 "nbformat": 4,
 "nbformat_minor": 2
}
