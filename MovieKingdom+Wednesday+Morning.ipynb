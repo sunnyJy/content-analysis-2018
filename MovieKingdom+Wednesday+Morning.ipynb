{
 "cells": [
  {
   "cell_type": "markdown",
   "metadata": {},
   "source": [
    "# <span style=\"color:purple\">Week 3 -- Clustering & Topic Modeling</span> \n",
    "### <span style=\"color:purple\">SunnyJy's Movie Kingdom</span>  \n",
    "<span style=\"color:purple\">-- File: Jingying (Jane) Bi Homework <br>\n",
    "-- Name: Jingying Bi <br>\n",
    "-- UCID: 12174556 <br>\n",
    "<br>\n",
    "\n",
    "![title](M.jpg)\n",
    "\n",
    "<span style=\"color:purple\"> **Brief description of my work:** <br>\n",
    "In this project, I will study the clustering and topic modeling through movie reviews. I collect movies whoes main genre belongs to comedy, animation, action, and crime. I sellect these four genres purposefully because IMBD has a list of genres which are quite close to each other. I try to find four more distinct genres so that the movies and critics I scrape will have sufficient large differences for clustering. Meanwhile, comedy and animation are closer to each other and crime and action are closer to each other. I would like to see how the clusterings look like and whether it will capture this. <br>\n",
    "I will do the following things. <br>\n",
    "**(1)** Use web scraping to scrape Movies on [IMDB](http://www.imdb.com/) to collect information including Movie's title, genre, and 1 movie critics. The information will be recorded in a DataFrame. In total, there are 4 categories of genres, and each genre has 50 movie critics.<br>\n",
    "**(2)** Flat Clustering Analysis <br>\n",
    "**(3)** Hierarchical Clustering Analysis <br>\n",
    "**(4)** Topic Modeling <br>\n",
    "</span>\n"
   ]
  },
  {
   "cell_type": "markdown",
   "metadata": {},
   "source": [
    "# Web Scraping Movie Critics "
   ]
  },
  {
   "cell_type": "code",
   "execution_count": 2,
   "metadata": {
    "collapsed": true
   },
   "outputs": [],
   "source": [
    "#Special module written for this class\n",
    "#This provides access to data and to helper functions from previous weeks\n",
    "#Make sure you update it before starting this notebook\n",
    "import lucem_illud #pip install -U git+git://github.com/Computational-Content-Analysis-2018/lucem_illud.git\n",
    "\n",
    "\n",
    "#All these packages need to be installed from pip\n",
    "#These are all for the cluster detection\n",
    "import sklearn\n",
    "import sklearn.feature_extraction.text\n",
    "import sklearn.pipeline\n",
    "import sklearn.preprocessing\n",
    "import sklearn.datasets\n",
    "import sklearn.cluster\n",
    "import sklearn.decomposition\n",
    "import sklearn.metrics\n",
    "\n",
    "import scipy #For hierarchical clustering and some visuals\n",
    "#import scipy.cluster.hierarchy\n",
    "import gensim#For topic modeling\n",
    "import nltk #the Natural Language Toolkit\n",
    "import requests #For downloading our datasets\n",
    "import numpy as np #for arrays\n",
    "import pandas #gives us DataFrames\n",
    "import matplotlib.pyplot as plt #For graphics\n",
    "import matplotlib.cm #Still for graphics\n",
    "import seaborn as sns #Makes the graphics look nicer\n",
    "\n",
    "#This 'magic' command makes the plots work better\n",
    "#in the notebook, don't use it outside of a notebook.\n",
    "#Also you can ignore the warning, it\n",
    "%matplotlib inline\n",
    "\n",
    "import itertools\n",
    "import json\n",
    "\n",
    "# For web scraping\n",
    "from bs4 import BeautifulSoup\n",
    "import requests #for http requests\n",
    "from requests import get\n",
    "import pandas #gives us DataFrames\n",
    "import re #for regexs\n",
    "import numpy as np #math calculation\n",
    "import urllib\n",
    "\n",
    "import matplotlib.pyplot as plt"
   ]
  },
  {
   "cell_type": "code",
   "execution_count": 3,
   "metadata": {
    "collapsed": true
   },
   "outputs": [],
   "source": [
    "category = ['comedy','crime','action','animation']\n",
    "# tail[1]: comedy; tail[2]: crime; tail[3]: action; tail[4]:animation\n",
    "\n",
    "Movie_Title = []\n",
    "Movie_Genre = []\n",
    "Movie_Critic = []\n",
    "Movie_Category = []\n",
    "\n",
    "num_page = 1"
   ]
  },
  {
   "cell_type": "code",
   "execution_count": 43,
   "metadata": {
    "collapsed": true
   },
   "outputs": [
    {
     "name": "stdout",
     "output_type": "stream",
     "text": [
      "enter a page 1 in category comedy\n",
      "enter a movie 0\n",
      "enter a movie 1\n",
      "enter a movie 2\n",
      "nonEnglish!\n",
      "too short\n",
      "enter a movie 3\n",
      "too short\n",
      "nonEnglish!\n",
      "too short\n",
      "nonEnglish!\n",
      "enter a movie 4\n",
      "enter a movie 5\n",
      "enter a movie 6\n",
      "too short\n",
      "too short\n",
      "enter a movie 7\n",
      "enter a movie 8\n",
      "too short\n",
      "too short\n",
      "too short\n",
      "too short\n",
      "too short\n",
      "too short\n",
      "too short\n",
      "too short\n",
      "too short\n",
      "too short\n",
      "too short\n",
      "nonEnglish!\n",
      "enter a movie 9\n",
      "enter a movie 10\n",
      "too short\n",
      "enter a movie 11\n",
      "enter a movie 12\n",
      "enter a movie 13\n",
      "enter a movie 14\n",
      "enter a movie 15\n",
      "enter a movie 16\n",
      "enter a movie 17\n",
      "enter a movie 18\n",
      "enter a movie 19\n",
      "too short\n",
      "too short\n",
      "too short\n",
      "too short\n",
      "too short\n",
      "too short\n",
      "too short\n",
      "too short\n",
      "too short\n",
      "nonEnglish!\n",
      "enter a movie 20\n",
      "enter a movie 21\n",
      "enter a movie 22\n",
      "nonEnglish!\n",
      "nonEnglish!\n",
      "enter a movie 23\n",
      "enter a movie 24\n",
      "enter a movie 25\n",
      "enter a movie 26\n",
      "enter a movie 27\n",
      "enter a movie 28\n",
      "enter a movie 29\n",
      "no critic for category comedy for movie 29 on page 1\n",
      "enter a movie 30\n",
      "nonEnglish!\n",
      "enter a movie 31\n",
      "enter a movie 32\n",
      "enter a movie 33\n",
      "enter a movie 34\n",
      "enter a movie 35\n",
      "enter a movie 36\n",
      "too short\n",
      "enter a movie 37\n",
      "enter a movie 38\n",
      "no critic for category comedy for movie 38 on page 1\n",
      "enter a movie 39\n",
      "no critic for category comedy for movie 39 on page 1\n",
      "enter a movie 40\n",
      "enter a movie 41\n",
      "enter a movie 42\n",
      "enter a movie 43\n",
      "enter a movie 44\n",
      "enter a movie 45\n",
      "no critic for category comedy for movie 45 on page 1\n",
      "enter a movie 46\n",
      "enter a movie 47\n",
      "enter a movie 48\n",
      "enter a movie 49\n",
      "enter a page 1 in category crime\n",
      "enter a movie 0\n",
      "enter a movie 1\n",
      "enter a movie 2\n",
      "enter a movie 3\n",
      "enter a movie 4\n",
      "enter a movie 5\n",
      "too short\n",
      "nonEnglish!\n",
      "too short\n",
      "enter a movie 6\n",
      "enter a movie 7\n",
      "enter a movie 8\n",
      "enter a movie 9\n",
      "enter a movie 10\n",
      "enter a movie 11\n",
      "enter a movie 12\n",
      "enter a movie 13\n",
      "enter a movie 14\n",
      "too short\n",
      "nonEnglish!\n",
      "nonEnglish!\n",
      "enter a movie 15\n",
      "too short\n",
      "too short\n",
      "too short\n",
      "too short\n",
      "nonEnglish!\n",
      "nonEnglish!\n",
      "enter a movie 16\n",
      "enter a movie 17\n",
      "enter a movie 18\n",
      "enter a movie 19\n",
      "too short\n",
      "too short\n",
      "too short\n",
      "too short\n",
      "too short\n",
      "too short\n",
      "too short\n",
      "too short\n",
      "too short\n",
      "nonEnglish!\n",
      "enter a movie 20\n",
      "enter a movie 21\n",
      "enter a movie 22\n",
      "enter a movie 23\n",
      "too short\n",
      "too short\n",
      "too short\n",
      "too short\n",
      "too short\n",
      "too short\n",
      "nonEnglish!\n",
      "enter a movie 24\n",
      "enter a movie 25\n",
      "enter a movie 26\n",
      "enter a movie 27\n",
      "enter a movie 28\n",
      "nonEnglish!\n",
      "enter a movie 29\n",
      "enter a movie 30\n",
      "enter a movie 31\n",
      "too short\n",
      "too short\n",
      "nonEnglish!\n",
      "nonEnglish!\n",
      "nonEnglish!\n",
      "nonEnglish!\n",
      "nonEnglish!\n",
      "enter a movie 32\n",
      "enter a movie 33\n",
      "too short\n",
      "nonEnglish!\n",
      "nonEnglish!\n",
      "enter a movie 34\n",
      "nonEnglish!\n",
      "enter a movie 35\n",
      "enter a movie 36\n",
      "enter a movie 37\n",
      "enter a movie 38\n",
      "enter a movie 39\n",
      "enter a movie 40\n",
      "enter a movie 41\n",
      "enter a movie 42\n",
      "no critic for category crime for movie 42 on page 1\n",
      "enter a movie 43\n",
      "enter a movie 44\n",
      "enter a movie 45\n",
      "enter a movie 46\n",
      "enter a movie 47\n",
      "enter a movie 48\n",
      "enter a movie 49\n",
      "enter a page 1 in category action\n",
      "enter a movie 0\n",
      "enter a movie 1\n",
      "enter a movie 2\n",
      "enter a movie 3\n",
      "enter a movie 4\n",
      "too short\n",
      "nonEnglish!\n",
      "too short\n",
      "enter a movie 5\n",
      "enter a movie 6\n",
      "enter a movie 7\n",
      "enter a movie 8\n",
      "no critic for category action for movie 8 on page 1\n",
      "enter a movie 9\n",
      "enter a movie 10\n",
      "enter a movie 11\n",
      "no critic for category action for movie 11 on page 1\n",
      "enter a movie 12\n",
      "too short\n",
      "nonEnglish!\n",
      "too short\n",
      "enter a movie 13\n",
      "enter a movie 14\n",
      "enter a movie 15\n",
      "enter a movie 16\n",
      "enter a movie 17\n",
      "enter a movie 18\n",
      "enter a movie 19\n",
      "enter a movie 20\n",
      "nonEnglish!\n",
      "too short\n",
      "enter a movie 21\n",
      "enter a movie 22\n",
      "enter a movie 23\n",
      "enter a movie 24\n",
      "no critic for category action for movie 24 on page 1\n",
      "enter a movie 25\n",
      "no critic for category action for movie 25 on page 1\n",
      "enter a movie 26\n",
      "no critic for category action for movie 26 on page 1\n",
      "enter a movie 27\n",
      "no critic for category action for movie 27 on page 1\n",
      "enter a movie 28\n",
      "nonEnglish!\n",
      "too short\n",
      "enter a movie 29\n",
      "enter a movie 30\n",
      "too short\n",
      "too short\n",
      "too short\n",
      "too short\n",
      "too short\n",
      "too short\n",
      "too short\n",
      "too short\n",
      "too short\n",
      "nonEnglish!\n",
      "enter a movie 31\n",
      "enter a movie 32\n",
      "enter a movie 33\n",
      "enter a movie 34\n",
      "enter a movie 35\n",
      "too short\n",
      "too short\n",
      "too short\n",
      "too short\n",
      "too short\n",
      "too short\n",
      "nonEnglish!\n",
      "enter a movie 36\n",
      "enter a movie 37\n",
      "enter a movie 38\n",
      "enter a movie 39\n",
      "enter a movie 40\n",
      "nonEnglish!\n",
      "enter a movie 41\n",
      "enter a movie 42\n",
      "enter a movie 43\n",
      "enter a movie 44\n",
      "no critic for category action for movie 44 on page 1\n",
      "enter a movie 45\n",
      "enter a movie 46\n",
      "nonEnglish!\n",
      "too short\n",
      "too short\n",
      "enter a movie 47\n",
      "enter a movie 48\n",
      "enter a movie 49\n",
      "enter a page 1 in category animation\n",
      "enter a movie 0\n",
      "enter a movie 1\n",
      "enter a movie 2\n",
      "enter a movie 3\n",
      "enter a movie 4\n",
      "enter a movie 5\n",
      "nonEnglish!\n",
      "enter a movie 6\n",
      "enter a movie 7\n",
      "enter a movie 8\n",
      "enter a movie 9\n",
      "too short\n",
      "enter a movie 10\n",
      "enter a movie 11\n",
      "enter a movie 12\n",
      "too short\n",
      "enter a movie 13\n",
      "enter a movie 14\n",
      "enter a movie 15\n",
      "enter a movie 16\n",
      "enter a movie 17\n",
      "nonEnglish!\n",
      "enter a movie 18\n",
      "no critic for category animation for movie 18 on page 1\n",
      "enter a movie 19\n",
      "too short\n",
      "too short\n",
      "too short\n",
      "too short\n",
      "too short\n",
      "enter a movie 20\n",
      "nonEnglish!\n",
      "nonEnglish!\n",
      "enter a movie 21\n",
      "enter a movie 22\n",
      "nonEnglish!\n",
      "nonEnglish!\n",
      "nonEnglish!\n",
      "nonEnglish!\n",
      "nonEnglish!\n",
      "nonEnglish!\n",
      "nonEnglish!\n",
      "nonEnglish!\n",
      "nonEnglish!\n",
      "nonEnglish!\n",
      "nonEnglish!\n",
      "enter a movie 23\n",
      "enter a movie 24\n",
      "enter a movie 25\n",
      "nonEnglish!\n",
      "enter a movie 26\n",
      "enter a movie 27\n",
      "too short\n",
      "too short\n",
      "too short\n",
      "too short\n",
      "enter a movie 28\n",
      "enter a movie 29\n",
      "enter a movie 30\n",
      "too short\n",
      "nonEnglish!\n",
      "too short\n",
      "enter a movie 31\n",
      "no critic for category animation for movie 31 on page 1\n",
      "enter a movie 32\n",
      "enter a movie 33\n",
      "enter a movie 34\n",
      "enter a movie 35\n",
      "enter a movie 36\n",
      "too short\n",
      "too short\n",
      "nonEnglish!\n",
      "enter a movie 37\n",
      "nonEnglish!\n",
      "too short\n",
      "too short\n",
      "too short\n",
      "too short\n",
      "enter a movie 38\n",
      "enter a movie 39\n",
      "too short\n",
      "nonEnglish!\n",
      "nonEnglish!\n",
      "enter a movie 40\n",
      "enter a movie 41\n",
      "too short\n",
      "enter a movie 42\n",
      "no critic for category animation for movie 42 on page 1\n",
      "enter a movie 43\n",
      "no critic for category animation for movie 43 on page 1\n",
      "enter a movie 44\n",
      "nonEnglish!\n",
      "nonEnglish!\n",
      "too short\n",
      "too short\n",
      "too short\n",
      "nonEnglish!\n",
      "too short\n",
      "enter a movie 45\n",
      "no critic for category animation for movie 45 on page 1\n",
      "enter a movie 46\n",
      "enter a movie 47\n",
      "enter a movie 48\n",
      "too short\n",
      "too short\n",
      "too short\n",
      "too short\n",
      "too short\n",
      "too short\n",
      "enter a movie 49\n"
     ]
    }
   ],
   "source": [
    "for i in range(0,4):  # for loop for the 4 categories -- i category    \n",
    "    for j in range(1,num_page+1):  # for loop for the pages of category i (each page contains 50 movies) -- j num_page\n",
    "        print('enter a page', j, 'in category', category[i])\n",
    "        heading = 'http://www.imdb.com/search/title?pf_rd_m=A2FGELUUNOQJNL&pf_rd_p=2251824562&pf_rd_r=0DP960VPZ9A5CFX59VGA&pf_rd_s=right-6&pf_rd_t=15506&pf_rd_i=moviemeter&genres='\n",
    "        url = heading + category[i] + '&explore=title_type,genres&page=' + str(j) + '&ref_=adv_nxt'\n",
    "        response = get(url)\n",
    "        beautiSoup = BeautifulSoup(response.text, 'html.parser')\n",
    "        movie_tank = beautiSoup.find_all('div', class_ = 'lister-item mode-advanced')\n",
    "        for k in range(0,50):  # for loop for the 50 movies on page j -- k movie\n",
    "            print('enter a movie', k)\n",
    "            \n",
    "            # movie_id\n",
    "            movie_link = 'http://www.imdb.com/' + movie_tank[k].h3.a.get('href')      # <<--- change 0 to k\n",
    "            movie_id = re.search(r'tt\\d+', movie_link).group(0)\n",
    "\n",
    "            # movie critic\n",
    "            critic_page_link = 'http://www.imdb.com/title/' + movie_id + '/externalreviews?ref_=tt_ov_rt'\n",
    "            response_2 = get(critic_page_link)\n",
    "            beautiSoup_2 = BeautifulSoup(response_2.text, 'html.parser')\n",
    "            critic_list = beautiSoup_2.find_all('a', attrs = {'href': re.compile('^\\/offsite\\/\\?page\\-action\\=offsite\\-')})\n",
    "            # need to check the URLErro\n",
    "            def CheckError(url):\n",
    "                try: \n",
    "                    urllib.request.urlopen(url)\n",
    "                    #response = get(url) \n",
    "                    #html=urlopen(url)\n",
    "                except urllib.error.HTTPError as e:\n",
    "                    return -1\n",
    "                except urllib.error.URLError as e:\n",
    "                    print('url error')\n",
    "                    return -2\n",
    "                return 1\n",
    "            if CheckError(critic_page_link) < 0:\n",
    "                print('critic page cannot be opened')\n",
    "            else: \n",
    "\n",
    "                if critic_list == []:\n",
    "                    print('no critic for category', category[i], 'for movie', k, 'on page', j)\n",
    "                else:\n",
    "                    # Find one critic will be good.\n",
    "                    # However, I have to find a critic in English.\n",
    "                    # Therefore, I will build a loop until the first English page critic is obtained.\n",
    "                    gotIt = 0\n",
    "                    n = 0\n",
    "                    max_n = len(critic_list)\n",
    "                    critic = []\n",
    "                    while gotIt == 0 and n < max_n:\n",
    "                        critic_name = critic_list[n].text\n",
    "                        a = re.search(r'\\(', critic_name) \n",
    "                        if a is None: \n",
    "                            #print('english!')\n",
    "                            #gotIt = 1\n",
    "                            critic_link = 'http://www.imdb.com' + critic_list[n].get('href')\n",
    "                            response_3 = get(critic_link)\n",
    "                            beautiSoup_3 = BeautifulSoup(response_3.text, 'html.parser')\n",
    "                            paragraph = beautiSoup_3.find_all('p')\n",
    "                            if len(paragraph) > 15: # have enough paragraphs\n",
    "                                for p in paragraph:\n",
    "                                    if len(p.text) >100: # eliminate noises\n",
    "                                        critic.append(p.text)\n",
    "                                gotIt = 1\n",
    "                            else:\n",
    "                                n += 1\n",
    "                                print('too short')      \n",
    "                        else:\n",
    "                            print('nonEnglish!')\n",
    "                            n += 1\n",
    "                    Movie_Critic.append(critic)   #**\n",
    "\n",
    "                    # movie title\n",
    "                    title = movie_tank[k].h3.a.text   # <<--- change 0 to k\n",
    "                    Movie_Title.append(title) #**\n",
    "\n",
    "                    # movie genres\n",
    "                    genre = []\n",
    "                    response_1 = get(movie_link)\n",
    "                    beautiSoup_1 = BeautifulSoup(response_1.text, 'html.parser')\n",
    "                    genre_list = beautiSoup_1.find('div', class_=\"see-more inline canwrap\", attrs = {'itemprop':\"genre\"})\n",
    "                    genre_item = genre_list.find_all('a')\n",
    "                    for item in genre_item:\n",
    "                        genre.append(item.text)\n",
    "                    Movie_Genre.append(genre) #**\n",
    "\n",
    "                    # Movie Category\n",
    "                    Movie_Category.append(category[i])\n",
    "                    #print('OKOKOKOKOKO')\n"
   ]
  },
  {
   "cell_type": "code",
   "execution_count": 58,
   "metadata": {
    "collapsed": true
   },
   "outputs": [],
   "source": [
    "Movie_Kingdom = pandas.DataFrame({'Movie Title': Movie_Title,\n",
    "                                  'Movie Category': Movie_Category,\n",
    "                                  'Movie Genre': Movie_Genre,\n",
    "                                  'Movie Critic': Movie_Critic})\n",
    "Movie_Kingdom.to_csv('MovieKingdom.csv', sep=',')\n",
    "Movie_Kingdom.to_excel('MovieKingdom.xlsx','Sheet1')"
   ]
  },
  {
   "cell_type": "code",
   "execution_count": 59,
   "metadata": {
    "collapsed": true
   },
   "outputs": [],
   "source": [
    "Movie_Kingdom.to_csv(r'MovieKingdom.txt', header=None, index=None, sep=' ', mode='a')"
   ]
  },
  {
   "cell_type": "code",
   "execution_count": null,
   "metadata": {
    "collapsed": true
   },
   "outputs": [],
   "source": []
  },
  {
   "cell_type": "markdown",
   "metadata": {},
   "source": [
    "# Flat Clustering Analysis\n",
    "## <span style=\"color:red\">*Exercise 1*</span>\n",
    "\n",
    "<span style=\"color:red\">Construct cells immediately below this that construct features and cluster your documents using K-means and a variety of cluster numbers. Interrogate the cluster contents in terms of both documents and features. Identify the \"optimal\" cluster number with Silhouette analysis. Plot clusters and features after reducing with PCA. What does this cluster structure reveal about the organization of documents in your corpora? a"
   ]
  },
  {
   "cell_type": "code",
   "execution_count": 138,
   "metadata": {
    "collapsed": true
   },
   "outputs": [],
   "source": [
    "# load DataFrame Movie_Kingdom\n",
    "Movie_Kingdom = pandas.read_csv('MovieKingdom.csv')\n",
    "del Movie_Kingdom['Unnamed: 0']\n",
    "#Movie_Kingdom[:5]"
   ]
  },
  {
   "cell_type": "markdown",
   "metadata": {},
   "source": [
    "<span style=\"color:purple\"> I have set the parameters of *sklearn.feature_extraction.text.TfidfVectorizer* as below:<br>\n",
    " * <span style=\"color:purple\">max_df=0.5 -- ignore terms whose proportions are strictly higher 0.5. <br>\n",
    " * <span style=\"color:purple\">min_df=3 -- ignore terms whose frequencies are strictly lower 3 times. <br>\n",
    " * <span style=\"color:purple\">max_features=1000 -- only consider the top 1000 ordered by term frequency across the corpus.<br>"
   ]
  },
  {
   "cell_type": "code",
   "execution_count": 139,
   "metadata": {
    "collapsed": true
   },
   "outputs": [],
   "source": [
    "# Count Vectorizer\n",
    "MovieCountVectorizer = sklearn.feature_extraction.text.CountVectorizer()\n",
    "MovieVects = MovieCountVectorizer.fit_transform(Movie_Kingdom['Movie Critic'])\n",
    "\n",
    "# Tf-idf Transformer\n",
    "MovieTFTransformer = sklearn.feature_extraction.text.TfidfTransformer().fit(MovieVects)\n",
    "MovieTF = MovieTFTransformer.transform(MovieVects)\n",
    "\n",
    "# Tf-idf Vectorizer\n",
    "MovieTFVectorizer = sklearn.feature_extraction.text.TfidfVectorizer(max_df=0.5, max_features=1000, min_df=3, stop_words='english', norm='l2')\n",
    "MovieTFVects = MovieTFVectorizer.fit_transform(Movie_Kingdom['Movie Critic'])"
   ]
  },
  {
   "cell_type": "code",
   "execution_count": 140,
   "metadata": {},
   "outputs": [
    {
     "name": "stdout",
     "output_type": "stream",
     "text": [
      "Homogeneity: 0.021\n",
      "Completeness: 0.027\n",
      "V-measure: 0.024\n",
      "Adjusted Rand Score: 0.000\n"
     ]
    }
   ],
   "source": [
    "# number of clusters\n",
    "num_Clusters = len(set(Movie_Kingdom['Movie Category']))\n",
    "\n",
    "# initialize K-means\n",
    "km = sklearn.cluster.KMeans(n_clusters=num_Clusters, init='k-means++')\n",
    "km.fit(MovieTFVects)\n",
    "\n",
    "# Metrics to evaluate the clusters\n",
    "#print(\"The available metrics are: {}\".format([s for s in dir(sklearn.metrics) if s[0] != '_']))\n",
    "print(\"Homogeneity: {:0.3f}\".format(sklearn.metrics.homogeneity_score(Movie_Kingdom['Movie Category'], km.labels_)))\n",
    "print(\"Completeness: {:0.3f}\".format(sklearn.metrics.completeness_score(Movie_Kingdom['Movie Category'], km.labels_)))\n",
    "print(\"V-measure: {:0.3f}\".format(sklearn.metrics.v_measure_score(Movie_Kingdom['Movie Category'], km.labels_)))\n",
    "print(\"Adjusted Rand Score: {:0.3f}\".format(sklearn.metrics.adjusted_rand_score(Movie_Kingdom['Movie Category'], km.labels_)))\n"
   ]
  },
  {
   "cell_type": "markdown",
   "metadata": {},
   "source": [
    "### <span style=\"color:purple\"> Add analysis of the metrics results!!!! </span>"
   ]
  },
  {
   "cell_type": "code",
   "execution_count": 141,
   "metadata": {
    "collapsed": true
   },
   "outputs": [
    {
     "name": "stdout",
     "output_type": "stream",
     "text": [
      "Top terms per cluster:\n",
      "Cluster 0:\n",
      " uses\n",
      " number\n",
      " media\n",
      " original\n",
      " com\n",
      " james\n",
      " day\n",
      " father\n",
      " american\n",
      " said\n",
      "\n",
      "\n",
      "Cluster 1:\n",
      " ebert\n",
      " test\n",
      " club\n",
      " members\n",
      " xa0\n",
      " films\n",
      " named\n",
      " action\n",
      " movies\n",
      " space\n",
      "\n",
      "\n",
      "Cluster 2:\n",
      " season\n",
      " episodes\n",
      " episode\n",
      " family\n",
      " shows\n",
      " netflix\n",
      " comedy\n",
      " things\n",
      " tv\n",
      " mr\n",
      "\n",
      "\n",
      "Cluster 3:\n",
      " common\n",
      " ratings\n",
      " crime\n",
      " media\n",
      " military\n",
      " sense\n",
      " development\n",
      " practices\n",
      " expert\n",
      " sex\n",
      "\n",
      "\n"
     ]
    }
   ],
   "source": [
    "# predict the k-means\n",
    "Movie_Kingdom['Kmeans Prediction'] = km.labels_\n",
    "\n",
    "# Top terms in each cluster\n",
    "terms = MovieTFVectorizer.get_feature_names()\n",
    "print(\"Top terms per cluster:\")\n",
    "order_centroids = km.cluster_centers_.argsort()[:, ::-1]\n",
    "for i in range(num_Clusters):\n",
    "    print(\"Cluster %d:\" % i)\n",
    "    for ind in order_centroids[i, :10]:\n",
    "        print(' %s' % terms[ind])\n",
    "    print('\\n')"
   ]
  },
  {
   "cell_type": "markdown",
   "metadata": {},
   "source": [
    "<span style=\"color:purple\"> The *Top terms list* per cluster matches the categories. I have 4 categories: comedy, crime, action and animation. The *Top term list* of Cluster 1 has \"crime\", Cluster 2 has \"action\", Cluster 3 has \"comedy\". They tend to match 3 out od 4 categories, though the *Top term list* of Cluster 0 does not contain word \"animation\", other words such as \"game\", \"happy\", \"fantasy\" reflect the category \"animation\"."
   ]
  },
  {
   "cell_type": "code",
   "execution_count": 161,
   "metadata": {
    "collapsed": true
   },
   "outputs": [],
   "source": [
    "# PCA to reduce the dimensionality\n",
    "PCA = sklearn.decomposition.PCA\n",
    "pca = PCA(n_components = 2).fit(MovieTFVects.toarray())\n",
    "reduced_data = pca.transform(MovieTFVects.toarray())\n",
    "components = pca.components_\n",
    "#keyword_ids = list(set(order_centroids[:,:10].flatten())) #Get the ids of the most distinguishing words(features) from your kmeans model.\n",
    "#words = [terms[i] for i in keyword_ids]#Turn the ids into words.\n",
    "#x = components[:,keyword_ids][0,:] #Find the coordinates of those words in your biplot.\n",
    "#y = components[:,keyword_ids][1,:]\n",
    "#plt.scatter(x,y)"
   ]
  },
  {
   "cell_type": "code",
   "execution_count": 162,
   "metadata": {
    "collapsed": true
   },
   "outputs": [],
   "source": [
    "colordict = {\n",
    "'comedy': 'red',\n",
    "'animation': 'orange',\n",
    "'action': 'green',\n",
    "'crime': 'blue',\n",
    "    }\n",
    "colors = [colordict[c] for c in Movie_Kingdom['Movie Category']]"
   ]
  },
  {
   "cell_type": "code",
   "execution_count": 183,
   "metadata": {},
   "outputs": [
    {
     "name": "stderr",
     "output_type": "stream",
     "text": [
      "/home/jingyingb/.local/lib/python3.6/site-packages/matplotlib/cbook/deprecation.py:106: MatplotlibDeprecationWarning: Adding an axes using the same arguments as a previous axes currently reuses the earlier instance.  In a future version, a new instance will always be created and returned.  Meanwhile, this warning can be suppressed, and the future behavior ensured, by passing a unique label to each axes instance.\n",
      "  warnings.warn(message, mplDeprecation, stacklevel=1)\n"
     ]
    },
    {
     "data": {
      "image/png": "[encoded data removed]",
      "text/plain": [
       "<matplotlib.figure.Figure at 0x7fa480c1bb38>"
      ]
     },
     "metadata": {},
     "output_type": "display_data"
    }
   ],
   "source": [
    "mycolor = ['red','orange','green','blue']\n",
    "plt.figure(figsize = (15,6))\n",
    "\n",
    "# True Cluster\n",
    "plt.subplot(131)\n",
    "comedy = plt.scatter(reduced_data[colors.index('red'):colors.index('blue')-1, 0], \n",
    "                   reduced_data[colors.index('red'):colors.index('blue')-1, 1], color=mycolor[0],alpha = 0.5)\n",
    "animation = plt.scatter(reduced_data[colors.index('blue'):colors.index('green')-1, 0], \n",
    "                   reduced_data[colors.index('blue'):colors.index('green')-1, 1], color=mycolor[1],alpha = 0.5)\n",
    "action = plt.scatter(reduced_data[colors.index('green'):colors.index('orange')-1, 0], \n",
    "                   reduced_data[colors.index('green'):colors.index('orange')-1, 1], color=mycolor[2],alpha = 0.5)\n",
    "crime = plt.scatter(reduced_data[colors.index('orange'):, 0], \n",
    "                   reduced_data[colors.index('orange'):, 1], color=mycolor[3],alpha = 0.5)\n",
    "plt.legend((comedy, animation, action, crime),\n",
    "          ('comedy','animation','action','crime'),\n",
    "          scatterpoints=1,\n",
    "          loc = 'upper right',\n",
    "          ncol =2,\n",
    "          fontsize = 8)\n",
    "plt.title('True Clusters\\n k = 4')\n",
    "\n",
    "# Predicted Cluster 4 clusters\n",
    "plt.subplot(132)\n",
    "colors_p = [colordict[category[l]] for l in km.labels_]\n",
    "ax = fig.add_subplot(111)\n",
    "ax.set_frame_on(False)\n",
    "plt.scatter(reduced_data[:, 0], reduced_data[:, 1], color = colors_p, alpha = 0.5)\n",
    "plt.xticks(())\n",
    "plt.yticks(())\n",
    "plt.legend((comedy, animation, action, crime),\n",
    "          ('comedy','animation','action','crime'),\n",
    "          scatterpoints=1,\n",
    "          loc = 'upper right',\n",
    "          ncol =2,\n",
    "          fontsize = 8)\n",
    "plt.title('Predicted Clusters\\n k = 4')\n",
    "\n",
    "# Predicted Cluster 3 clusters\n",
    "km3 = sklearn.cluster.KMeans(n_clusters= 3, init='k-means++')\n",
    "km3.fit(MovieTFVects.toarray())\n",
    "#Movie_Kingdom['Kmeans Prediction 3'] = km3.labels_\n",
    "\n",
    "plt.subplot(133)\n",
    "colors_p3 = [colordict[category[l]] for l in km3.labels_]\n",
    "ax = fig.add_subplot(111)\n",
    "ax.set_frame_on(False)\n",
    "plt.scatter(reduced_data[:, 0], reduced_data[:, 1], color = colors_p3, alpha = 0.5)\n",
    "plt.xticks(())\n",
    "plt.yticks(())\n",
    "plt.title('Predicted Clusters\\n k = 3')\n",
    "\n",
    "plt.tight_layout()\n",
    "plt.show()\n",
    "\n"
   ]
  },
  {
   "cell_type": "markdown",
   "metadata": {},
   "source": [
    "<span style=\"color:purple\"> **Flat Clustering Plot Analysis** <br>\n",
    "**True Clusters** <br>\n",
    "Dots with different colors mix with each other. This maybe due to two reasons. First, though a movie is categorized to one of four genres, it could have other genres as well. For instance, a animation could be a comeday simultanously. Hence when the authot is writing the movie critic, he may be very likely to mix genres, which leads to a mixed plot here. A second reason could be that critics itself is unable to be used to identify the movie's genre. <br>\n",
    "However, a closer observation still tells some interesting things. The red dots (comedy) tend to be closer to the orange dots (animation). This is reasonable. In addition, even though blue dots tend to be everywhere, the biggest clustering of blue dots are at the middle on their own and with a little green dots (action). This reflects that crime is a relatively distinct gnere and some crime moveis could have action genre as well. <br>\n",
    "**Predicted Clusters** <br>\n",
    "The prediction has to be clear cut, which disobeys the analysis above about the *genre-mixture* phenomenon. Hence, the prediction is relatively poor. There is still an interesting finding -- If we see blue and green dots together, it will match the true cluster much better. This could reflect that crime and action are two close genres as mentioned above. <br>\n",
    "Hence, I also test the data with 3 clusters. Two groups are now combined together into one. \n",
    "</span>\n"
   ]
  },
  {
   "cell_type": "code",
   "execution_count": 179,
   "metadata": {
    "collapsed": true
   },
   "outputs": [],
   "source": [
    "def plotSilhouette(n_clusters, X):\n",
    "    fig, (ax1, ax2) = plt.subplots(ncols=2, figsize = (15,5))\n",
    "    \n",
    "    ax1.set_xlim([-0.1, 1])\n",
    "    ax1.set_ylim([0, len(X) + (n_clusters + 1) * 10])\n",
    "    clusterer = sklearn.cluster.KMeans(n_clusters=n_clusters, random_state=10)\n",
    "    cluster_labels = clusterer.fit_predict(X)\n",
    "    \n",
    "    silhouette_avg = sklearn.metrics.silhouette_score(X, cluster_labels)\n",
    "\n",
    "    # Compute the silhouette scores for each sample\n",
    "    sample_silhouette_values = sklearn.metrics.silhouette_samples(X, cluster_labels)\n",
    "\n",
    "    y_lower = 10\n",
    "    \n",
    "    for i in range(n_clusters):\n",
    "        ith_cluster_silhouette_values = sample_silhouette_values[cluster_labels == i]\n",
    "\n",
    "        ith_cluster_silhouette_values.sort()\n",
    "\n",
    "        size_cluster_i = ith_cluster_silhouette_values.shape[0]\n",
    "        y_upper = y_lower + size_cluster_i\n",
    "\n",
    "        color = matplotlib.cm.spectral(float(i) / n_clusters)\n",
    "        ax1.fill_betweenx(np.arange(y_lower, y_upper),\n",
    "                          0, ith_cluster_silhouette_values,\n",
    "                          facecolor=color, edgecolor=color, alpha=0.7)\n",
    "\n",
    "        ax1.text(-0.05, y_lower + 0.5 * size_cluster_i, str(i))\n",
    "\n",
    "        y_lower = y_upper + 10\n",
    "    \n",
    "    ax1.set_title(\"The silhouette plot for the various clusters.\")\n",
    "    ax1.set_xlabel(\"The silhouette coefficient values\")\n",
    "    ax1.set_ylabel(\"Cluster label\")\n",
    "\n",
    "    ax1.axvline(x=silhouette_avg, color=\"red\", linestyle=\"--\")\n",
    "\n",
    "    ax1.set_yticks([])  # Clear the yaxis labels / ticks\n",
    "    ax1.set_xticks([-0.1, 0, 0.2, 0.4, 0.6, 0.8, 1])\n",
    "\n",
    "    # 2nd Plot showing the actual clusters formed\n",
    "    colors = matplotlib.cm.spectral(cluster_labels.astype(float) / n_clusters)\n",
    "    ax2.scatter(reduced_data[:, 0], reduced_data[:, 1], marker='.', s=30, lw=0, alpha=0.7,\n",
    "                c=colors)\n",
    "\n",
    "    # Labeling the clusters\n",
    "    centers = clusterer.cluster_centers_\n",
    "    projected_centers = pca.transform(centers)\n",
    "    # Draw white circles at cluster centers\n",
    "    ax2.scatter(projected_centers[:, 0], projected_centers[:, 1],\n",
    "                marker='o', c=\"white\", alpha=1, s=200)\n",
    "\n",
    "    for i, c in enumerate(projected_centers):\n",
    "        ax2.scatter(c[0], c[1], marker='$%d$' % i, alpha=1, s=50)\n",
    "\n",
    "    ax2.set_title(\"The visualization of the clustered data.\")\n",
    "    ax2.set_xlabel(\"PC 1\")\n",
    "    ax2.set_ylabel(\"PC 2\")\n",
    "\n",
    "    plt.suptitle((\"Silhouette analysis for KMeans clustering on sample data \"\n",
    "                  \"with n_clusters = %d\" % n_clusters),\n",
    "                 fontsize=14, fontweight='bold')\n",
    "    plt.show()\n",
    "    print(\"For n_clusters = {}, The average silhouette_score is : {:.3f}\".format(n_clusters, silhouette_avg))"
   ]
  },
  {
   "cell_type": "code",
   "execution_count": 190,
   "metadata": {
    "scrolled": true
   },
   "outputs": [
    {
     "data": {
      "image/png": "[encoded data removed]",
      "text/plain": [
       "<matplotlib.figure.Figure at 0x7fa480eba438>"
      ]
     },
     "metadata": {},
     "output_type": "display_data"
    },
    {
     "name": "stdout",
     "output_type": "stream",
     "text": [
      "For n_clusters = 3, The average silhouette_score is : 0.043\n"
     ]
    },
    {
     "data": {
      "image/png": "[encoded data removed]",
      "text/plain": [
       "<matplotlib.figure.Figure at 0x7fa47e390860>"
      ]
     },
     "metadata": {},
     "output_type": "display_data"
    },
    {
     "name": "stdout",
     "output_type": "stream",
     "text": [
      "For n_clusters = 4, The average silhouette_score is : 0.044\n"
     ]
    },
    {
     "data": {
      "image/png": "[encoded data removed]",
      "text/plain": [
       "<matplotlib.figure.Figure at 0x7fa4805647b8>"
      ]
     },
     "metadata": {},
     "output_type": "display_data"
    },
    {
     "name": "stdout",
     "output_type": "stream",
     "text": [
      "For n_clusters = 5, The average silhouette_score is : 0.066\n"
     ]
    }
   ],
   "source": [
    "# Silhouette -- Optimal Number of Clusters\n",
    "X = MovieTFVects.toarray()\n",
    "#plt.figure()\n",
    "#plt.subplot(211)\n",
    "plotSilhouette(3, X)\n",
    "#plt.subplot(212)\n",
    "plotSilhouette(4, X)\n",
    "plotSilhouette(5, X)\n",
    "\n",
    "#plt.tight_layout()\n",
    "#plt.show()"
   ]
  },
  {
   "cell_type": "markdown",
   "metadata": {},
   "source": [
    "### <span style=\"color:purple\"> Add analysis of the Silhouette!!!! </span>"
   ]
  },
  {
   "cell_type": "markdown",
   "metadata": {},
   "source": [
    "## <span style=\"color:purple\"> SUMMARY </span>"
   ]
  },
  {
   "cell_type": "code",
   "execution_count": null,
   "metadata": {
    "collapsed": true
   },
   "outputs": [],
   "source": []
  },
  {
   "cell_type": "code",
   "execution_count": null,
   "metadata": {
    "collapsed": true
   },
   "outputs": [],
   "source": []
  },
  {
   "cell_type": "code",
   "execution_count": null,
   "metadata": {
    "collapsed": true
   },
   "outputs": [],
   "source": []
  },
  {
   "cell_type": "code",
   "execution_count": null,
   "metadata": {
    "collapsed": true
   },
   "outputs": [],
   "source": []
  },
  {
   "cell_type": "code",
   "execution_count": null,
   "metadata": {
    "collapsed": true
   },
   "outputs": [],
   "source": []
  },
  {
   "cell_type": "markdown",
   "metadata": {},
   "source": [
    "# Hierarchical Clustering Analysis\n",
    "## <span style=\"color:red\">*Exercise 2*</span>\n",
    "\n",
    "<span style=\"color:red\">Construct cells immediately below this that hierarchically cluster your documents using two approaches, and visualize them with a tree. Interrogate the recursive cluster contents in terms of both documents and closenesses. What does this nested cluster structure reveal about the organization of documents in your sampled corpora? Moreover, if they do worse than kmeans (as above), why do you think this is the case (hint: using metrics if you have ground truth or silhouette if you do not)? "
   ]
  },
  {
   "cell_type": "markdown",
   "metadata": {},
   "source": [
    "### <span style=\"color:purple\"> Hierarchical Clustering Approach 1: .dendrogram( ) </span>"
   ]
  },
  {
   "cell_type": "code",
   "execution_count": null,
   "metadata": {
    "collapsed": true
   },
   "outputs": [],
   "source": [
    "MovieTFVects[:100].todense()"
   ]
  },
  {
   "cell_type": "code",
   "execution_count": null,
   "metadata": {
    "collapsed": true
   },
   "outputs": [],
   "source": [
    "MovieCoocMat = MovieTFVects * MovieTFVects.T\n",
    "#set the diagonal to 0 since we don't care how similar texts are to themselves\n",
    "MovieCoocMat.setdiag(0)\n",
    "#Another way of relating the texts is with their cosine similarity\n",
    "#newsgroupsCosinMat1 = 1 - sklearn.metrics.pairwise.cosine_similarity(newsgroupsTFVects)\n",
    "#But generally word occurrence is more accurate"
   ]
  },
  {
   "cell_type": "code",
   "execution_count": null,
   "metadata": {
    "collapsed": true
   },
   "outputs": [],
   "source": [
    "linkage_matrix = scipy.cluster.hierarchy.ward(MovieCoocMat.toarray())\n",
    "linkage_matrix[:10]"
   ]
  },
  {
   "cell_type": "code",
   "execution_count": null,
   "metadata": {
    "collapsed": true
   },
   "outputs": [],
   "source": [
    "dendDat = scipy.cluster.hierarchy.dendrogram(linkage_matrix, get_leaves=True)"
   ]
  },
  {
   "cell_type": "code",
   "execution_count": null,
   "metadata": {
    "collapsed": true
   },
   "outputs": [],
   "source": [
    "dendrogramDat = scipy.cluster.hierarchy.dendrogram(linkage_matrix, p=4, truncate_mode='level', get_leaves=True)"
   ]
  },
  {
   "cell_type": "markdown",
   "metadata": {},
   "source": [
    "### <span style=\"color:purple\"> Hierarchical Clustering Approach 2: .fcluster( ) </span>"
   ]
  },
  {
   "cell_type": "code",
   "execution_count": null,
   "metadata": {
    "collapsed": true
   },
   "outputs": [],
   "source": [
    "hierarchicalClusters = scipy.cluster.hierarchy.fcluster(linkage_matrix, 4, 'maxclust')\n",
    "hierarchicalClusters"
   ]
  },
  {
   "cell_type": "code",
   "execution_count": null,
   "metadata": {
    "collapsed": true
   },
   "outputs": [],
   "source": [
    "linkage_matrix_full = scipy.cluster.hierarchy.ward(MovieCoocMat.toarray())\n",
    "hierarchicalClusters_full = scipy.cluster.hierarchy.fcluster(linkage_matrix_full, 4, 'maxclust')\n",
    "print(\"For our complete clusters:\")\n",
    "print(\"Homogeneity: {:0.3f}\".format(sklearn.metrics.homogeneity_score(Movie_Kingdom['Movie Category'], hierarchicalClusters_full)))\n",
    "print(\"Completeness: {:0.3f}\".format(sklearn.metrics.completeness_score(Movie_Kingdom['Movie Category'], hierarchicalClusters_full)))\n",
    "print(\"V-measure: {:0.3f}\".format(sklearn.metrics.v_measure_score(Movie_Kingdom['Movie Category'], hierarchicalClusters_full)))\n",
    "print(\"Adjusted Rand Score: {:0.3f}\".format(sklearn.metrics.adjusted_rand_score(Movie_Kingdom['Movie Category'], hierarchicalClusters_full)))"
   ]
  },
  {
   "cell_type": "markdown",
   "metadata": {},
   "source": [
    "Not quite as good as k-means. Perhaps we've got too many words for Ward or maybe we shouldn't be using TFIDF as that compresses the space. Still, the hierarchical model places constraints on the clustering not present with k-means, which come at a cost. Finally, we can bring those cluster assignments back to the data frame for deeper investigation."
   ]
  },
  {
   "cell_type": "code",
   "execution_count": null,
   "metadata": {
    "collapsed": true
   },
   "outputs": [],
   "source": [
    "Movie_Kingdom['wald_predictions'] = hierarchicalClusters_full\n",
    "Movie_Kingdom"
   ]
  },
  {
   "cell_type": "markdown",
   "metadata": {},
   "source": [
    "As we only used one senator for this there isn't any point in looking at the metrics, but you should if possible"
   ]
  },
  {
   "cell_type": "code",
   "execution_count": null,
   "metadata": {
    "collapsed": true
   },
   "outputs": [],
   "source": []
  },
  {
   "cell_type": "markdown",
   "metadata": {},
   "source": [
    "## <span style=\"color:purple\"> SUMMARY </span>"
   ]
  },
  {
   "cell_type": "markdown",
   "metadata": {},
   "source": [
    "# Topic Modeling\n",
    "## <span style=\"color:red\">*Exercise 3*</span>\n",
    "\n",
    "<span style=\"color:red\">Construct cells immediately below this that topic model documents related to your anticipated final project. Interrogate and visually plot (e.g., as a bar graph?) the topic-word loadings and the document-topic loadings. What does this topic structure reveal about the distribution of contents across your documents? Systematically vary the $\\alpha$, $\\eta$, and topic number of the model for your text and describe in detail whether and how these changes led to distinctive outcomes, visible to you as analyst.  \n",
    "\n",
    "<span style=\"color:red\">**Stretch**: Cluster your documents, but instead of using words alone, use their topic loadings as an additional set of features. Do these topic loadings increase the apparent semantic coherence of your clusters?</span> "
   ]
  },
  {
   "cell_type": "markdown",
   "metadata": {},
   "source": [
    "To prepare a correctly formatted corpus for topic modeling and induction, I will do the following things:\n",
    "Create the dictionary for corpus\n",
    "Create the corpus\n",
    "Serialize the corpus as a file and load it. (Important when the corpus is large)\n",
    "\n",
    "\n",
    "Now we have a correctly formatted corpus that we can use for topic modeling and induction."
   ]
  },
  {
   "cell_type": "code",
   "execution_count": null,
   "metadata": {
    "collapsed": true
   },
   "outputs": [],
   "source": [
    "# firstly, create a dictionary\n",
    "Movie_Kingdom['Tokenized_Text'] = Movie_Kingdom['Movie_Critic'].apply(lambda x: nltk.word_tokenize(x))\n",
    "Movie_Kingdom['Normalized_Tokens'] = Movie_Kingdom['Tokenized_Text'].apply(lambda x: lucem_illud.normalizeTokens(x, \n",
    "                                                                                                                 stopwordLst = lucem_illud.stop_words_basic, \n",
    "                                                                                                                 stemmer = lucem_illud.stemmer_basic))\n",
    "Movie_Kingdom[::100]"
   ]
  },
  {
   "cell_type": "code",
   "execution_count": null,
   "metadata": {
    "collapsed": true
   },
   "outputs": [],
   "source": [
    "def dropMissing(wordLst, vocab):\n",
    "    return [w for w in wordLst if w in vocab]\n",
    "Movie_Kingdom['Reduced_Tokens'] = Movie_Kingdom['Normalized_Tokens'].apply(lambda x: dropMissing(x, MovieTFVectorizer.vocabulary_.keys()))"
   ]
  },
  {
   "cell_type": "code",
   "execution_count": null,
   "metadata": {
    "collapsed": true
   },
   "outputs": [],
   "source": [
    "dictionary = gensim.corpora.Dictionary(Movie_Kingdom['Reduced_Tokens'])"
   ]
  },
  {
   "cell_type": "markdown",
   "metadata": {},
   "source": [
    "Then for each of the texts we create a list of tuples containing each token and its count. We will only use the first half of our dataset for now and will save the remainder for testing."
   ]
  },
  {
   "cell_type": "code",
   "execution_count": null,
   "metadata": {
    "collapsed": true
   },
   "outputs": [],
   "source": [
    "# secondly, create a corpus\n",
    "corpus = [dictionary.doc2bow(text) for text in Movie_Kingdom['Reduced_Tokens']]"
   ]
  },
  {
   "cell_type": "markdown",
   "metadata": {},
   "source": [
    "----------to be deleted------------------\n",
    "Then we serialize the corpus as a file and load it. This is an important step when the corpus is large."
   ]
  },
  {
   "cell_type": "code",
   "execution_count": null,
   "metadata": {
    "collapsed": true
   },
   "outputs": [],
   "source": [
    "# thirdly, serialize the \n",
    "#-------------not sure about name of \"Critic.mm\"\n",
    "gensim.corpora.MmCorpus.serialize('Critic.mm', corpus)\n",
    "criticmm = gensim.corpora.MmCorpus('Critic.mm')"
   ]
  },
  {
   "cell_type": "code",
   "execution_count": null,
   "metadata": {
    "collapsed": true
   },
   "outputs": [],
   "source": [
    "Movielda = gensim.models.ldamodel.LdaModel(corpus=criticmm, id2word=dictionary, num_topics=10, alpha='auto', eta='auto')\n"
   ]
  },
  {
   "cell_type": "markdown",
   "metadata": {},
   "source": [
    "We can inspect the degree to which distinct texts load on different topics. Here is one of the texts from the training set:"
   ]
  },
  {
   "cell_type": "code",
   "execution_count": null,
   "metadata": {
    "collapsed": true
   },
   "outputs": [],
   "source": [
    "Movie1Bow = dictionary.doc2bow(Movie_Kingdom['Reduced_Tokens'][0])\n",
    "Movie1lda = Movielda[Movie1Bow]\n",
    "\n",
    "# ----------------not sure the senReleasesTraining['name']-----------\n",
    "print(\"The topics of the text: {}\".format(senReleasesTraining['name'][0]))\n",
    "print(\"are: {}\".format(Movie1lda))"
   ]
  },
  {
   "cell_type": "markdown",
   "metadata": {},
   "source": [
    "We can now see which topics our model predicts press releases load on and make this into a `dataFrame` for later analysis."
   ]
  },
  {
   "cell_type": "code",
   "execution_count": null,
   "metadata": {
    "collapsed": true
   },
   "outputs": [],
   "source": [
    "ldaDF = pandas.DataFrame({\n",
    "        'name' : senReleasesTraining['name'],\n",
    "        'topics' : [Movielda[dictionary.doc2bow(l)] for l in Movie_Kingdom['Reduced_Tokens']]\n",
    "    })"
   ]
  },
  {
   "cell_type": "markdown",
   "metadata": {},
   "source": [
    "This is a bit unwieldy so lets make each topic its own column:"
   ]
  },
  {
   "cell_type": "code",
   "execution_count": null,
   "metadata": {
    "collapsed": true
   },
   "outputs": [],
   "source": [
    "#Dict to temporally hold the probabilities\n",
    "topicsProbDict = {i : [0] * len(ldaDF) for i in range(Movielda.num_topics)}\n",
    "\n",
    "#Load them into the dict\n",
    "for index, topicTuples in enumerate(ldaDF['topics']):\n",
    "    for topicNum, prob in topicTuples:\n",
    "        topicsProbDict[topicNum][index] = prob\n",
    "\n",
    "#Update the DataFrame\n",
    "for topicNum in range(senlda.num_topics):\n",
    "    ldaDF['topic_{}'.format(topicNum)] = topicsProbDict[topicNum]\n",
    "\n",
    "ldaDF[1::100]"
   ]
  },
  {
   "cell_type": "markdown",
   "metadata": {},
   "source": [
    "Now let's visualize this for several (e.g., 10) documents in the corpus. First we'll subset the data:"
   ]
  },
  {
   "cell_type": "code",
   "execution_count": null,
   "metadata": {
    "collapsed": true
   },
   "outputs": [],
   "source": [
    "ldaDFV = ldaDF[:10][['topic_%d' %x for x in range(10)]]\n",
    "ldaDFVisN = ldaDF[:10][['name']]\n",
    "ldaDFVis = ldaDFV.as_matrix(columns=None)\n",
    "ldaDFVisNames = ldaDFVisN.as_matrix(columns=None)\n",
    "ldaDFV"
   ]
  },
  {
   "cell_type": "code",
   "execution_count": null,
   "metadata": {
    "collapsed": true
   },
   "outputs": [],
   "source": [
    "# First we can visualize as a stacked bar chart:\n",
    "N = 10\n",
    "ind = np.arange(N)\n",
    "K = Movielda.num_topics  # N documents, K topics\n",
    "ind = np.arange(N)  # the x-axis locations for the novels\n",
    "width = 0.5  # the width of the bars\n",
    "plots = []\n",
    "height_cumulative = np.zeros(N)\n",
    "\n",
    "for k in range(K):\n",
    "    color = plt.cm.coolwarm(k/K, 1)\n",
    "    if k == 0:\n",
    "        p = plt.bar(ind, ldaDFVis[:, k], width, color=color)\n",
    "    else:\n",
    "        p = plt.bar(ind, ldaDFVis[:, k], width, bottom=height_cumulative, color=color)\n",
    "    height_cumulative += ldaDFVis[:, k]\n",
    "    plots.append(p)\n",
    "    \n",
    "\n",
    "plt.ylim((0, 1))  # proportions sum to 1, so the height of the stacked bars is 1\n",
    "plt.ylabel('Topics')  # <----- to change\n",
    "\n",
    "plt.title('Topics in Press Releases')  # <----- to change\n",
    "plt.xticks(ind+width/2, ldaDFVisNames, rotation='vertical')\n",
    "\n",
    "plt.yticks(np.arange(0, 1, 10))\n",
    "topic_labels = ['Topic #{}'.format(k) for k in range(K)]  # <----- to change\n",
    "plt.legend([p[0] for p in plots], topic_labels, loc='center left', frameon=True,  bbox_to_anchor = (1, .5))\n",
    "\n",
    "plt.show()"
   ]
  },
  {
   "cell_type": "code",
   "execution_count": null,
   "metadata": {
    "collapsed": true
   },
   "outputs": [],
   "source": [
    "# We can also visualize as a heat map:\n",
    "plt.pcolor(ldaDFVis, norm=None, cmap='Blues')\n",
    "plt.yticks(np.arange(ldaDFVis.shape[0])+0.5, ldaDFVisNames);\n",
    "plt.xticks(np.arange(ldaDFVis.shape[1])+0.5, topic_labels);\n",
    "\n",
    "# flip the y-axis so the texts are in the order we anticipate (Austen first, then Brontë)\n",
    "plt.gca().invert_yaxis()\n",
    "\n",
    "# rotate the ticks on the x-axis\n",
    "plt.xticks(rotation=90)\n",
    "\n",
    "# add a legend\n",
    "plt.colorbar(cmap='Blues')\n",
    "plt.tight_layout()  # fixes margins\n",
    "plt.show()"
   ]
  },
  {
   "cell_type": "code",
   "execution_count": null,
   "metadata": {
    "collapsed": true
   },
   "outputs": [],
   "source": [
    "# We can also look at the top words from each topic to get a sense of the semantic (or syntactic) domain they represent. \n",
    "# To look at the terms with the highest LDA weight in topic `1` we can do the following:\n",
    "Movielda.show_topic(1)    # <----- to change 1 ?????\n",
    "\n"
   ]
  },
  {
   "cell_type": "code",
   "execution_count": null,
   "metadata": {
    "collapsed": true
   },
   "outputs": [],
   "source": [
    "# And if we want to make a dataFrame:\n",
    "topicsDict = {}\n",
    "for topicNum in range(Movielda.num_topics):\n",
    "    topicWords = [w for w, p in Movielda.show_topic(topicNum)]\n",
    "    topicsDict['Topic_{}'.format(topicNum)] = topicWords\n",
    "\n",
    "wordRanksDF = pandas.DataFrame(topicsDict)\n",
    "wordRanksDF"
   ]
  },
  {
   "cell_type": "markdown",
   "metadata": {},
   "source": [
    "### <span style=\"color:purple\"> Analysis Sample \n",
    "<span style=\"color:purple\">We can see that several of the topics have the same top words, but there are definitely differences. </span>\n",
    "\n",
    "\n",
    "<span style=\"color:red\"> We can try and make the topics more distinct by changing the $\\alpha$ and $\\eta$ parameters of the model. $\\alpha$ controls the sparsity of document-topic loadings, and $\\eta$ controls the sparsity of topic-word loadings. See how different $\\eta$ values can change the shape of the distribution.\n",
    "\n",
    "<span style=\"color:purple\"> We can make a visualization of the distribution of words over any single topic.\n"
   ]
  },
  {
   "cell_type": "code",
   "execution_count": null,
   "metadata": {
    "collapsed": true
   },
   "outputs": [],
   "source": [
    "topic1_df = pandas.DataFrame(Movielda.show_topic(1, topn=50))\n",
    "plt.figure()\n",
    "topic1_df.plot.bar(legend = False)\n",
    "plt.title('Probability Distribution of Words, Topic 1')\n",
    "plt.show()"
   ]
  },
  {
   "cell_type": "code",
   "execution_count": null,
   "metadata": {
    "collapsed": true
   },
   "outputs": [],
   "source": [
    "# see the changes in eta\n",
    "Movielda1 = gensim.models.ldamodel.LdaModel(corpus=criticmm, id2word=dictionary, num_topics=10, eta = 0.00001)\n",
    "Movielda2 = gensim.models.ldamodel.LdaModel(corpus=criticmm, id2word=dictionary, num_topics=10, eta = 0.9)"
   ]
  },
  {
   "cell_type": "code",
   "execution_count": null,
   "metadata": {
    "collapsed": true
   },
   "outputs": [],
   "source": []
  },
  {
   "cell_type": "code",
   "execution_count": null,
   "metadata": {
    "collapsed": true
   },
   "outputs": [],
   "source": []
  }
 ],
 "metadata": {
  "kernelspec": {
   "display_name": "Python 3",
   "language": "python",
   "name": "python3"
  },
  "language_info": {
   "codemirror_mode": {
    "name": "ipython",
    "version": 3
   },
   "file_extension": ".py",
   "mimetype": "text/x-python",
   "name": "python",
   "nbconvert_exporter": "python",
   "pygments_lexer": "ipython3",
   "version": "3.6.2"
  }
 },
 "nbformat": 4,
 "nbformat_minor": 2
}
