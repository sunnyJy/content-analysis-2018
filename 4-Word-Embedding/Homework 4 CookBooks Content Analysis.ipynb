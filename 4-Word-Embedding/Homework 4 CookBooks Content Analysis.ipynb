{
 "cells": [
  {
   "cell_type": "markdown",
   "metadata": {},
   "source": [
    "# <span style=\"color:purple\">Week 4 - Word Embeddings\n",
    "### <span style=\"color:purple\">World of Cooking</span>  \n",
    "<span style=\"color:purple\">-- File: Jingying (Jane) Bi Homework 4 <br>\n",
    "-- Name: Jingying Bi <br>\n",
    "-- UCID: 12174556 <br>\n",
    "<br>\n",
    "    \n",
    "<span style=\"color:purple\">**Research Problem:** <br>\n",
    "How do cooking books reflect the culture behind it? <br>\n",
    "\n",
    "<span style=\"color:purple\">**Descriptions:** <br>\n",
    "<span style=\"color:purple\">I have collected different cook books about different countries' dishes, such as American, Swedish, Italian, Juish, and Western; also different cook books for different situations, such as for domestic cooking, hotel custoomers, farm cooking, neighborhood cooking, army cooking; also different cook books for breakfast, luch, tea time, for dishes & beverages, for fish cooking, for sick and convalescent. These are so interesting and I hope to study how different they are from each other. The differences are determined by the underlying cultures and also reflect the cultures in return. \n",
    "\n",
    "<span style=\"color:purple\">**Main Findings:** <br>\n",
    "(1) List the words having large cosine similarities with a certain word. This will reveal more information about that word. See the discussion in **Exercise 1.1**<br>\n",
    "(2) Words with similar properties or discribing similar things cluster together in the plot. See the discussion in **Exercise 1.3**<br>\n",
    "(3) Cook books from different cultures differ from each other within the space. See the discussion in **Exercise 2.1**<br>\n",
    "(4) Cook books show similarities/ dissimilarities based on their culture background. See the discussion in **Exercise 2.2**<br>\n",
    "    \n",
    "<span style=\"color:purple\">**Future Research:**    \n",
    "A potential interesting question is how the culture affects the cookings, and how the dissimilarities of cookings across different cultures evolve (more diverge or more similar) over time. To do so, I need to collect cook books from different cultures over time.<br>     \n",
    "    \n",
    "<span style=\"color:purple\">**Dataset:** <br>\n",
    "<span style=\"color:purple\">The Feeding America: The Historic American Cookbook dataset contains transcribed and encoded text from 76 influential American cookbooks. Features encoded within the text include but are not limited to recipes, types of recipes, cooking implements, and ingredients. The texts were chosen among more than 7000 cookbooks as representative of periods and themes in American cookbook history spanning the late 18th to early 20th century. <br>\n",
    "\n",
    "<span style=\"color:purple\">**Citation:** <br>\n",
    "<span style=\"color:purple\">Feeding America: The Historic American Cookbook Dataset. East Lansing: Michigan State University Libraries Special Collections. https://www.lib.msu.edu/feedingamericadata/\n",
    "    \n",
    "![title](CookBook.jpg)"
   ]
  },
  {
   "cell_type": "markdown",
   "metadata": {},
   "source": [
    "<span style=\"color:purple\"> **Load the packages**"
   ]
  },
  {
   "cell_type": "code",
   "execution_count": 1,
   "metadata": {},
   "outputs": [],
   "source": [
    "#Special module written for this class\n",
    "#This provides access to data and to helper functions from previous weeks\n",
    "#Make sure you update it before starting this notebook\n",
    "import lucem_illud #pip install -U git+git://github.com/Computational-Content-Analysis-2018/lucem_illud.git\n",
    "\n",
    "#All these packages need to be installed from pip\n",
    "import gensim#For word2vec, etc\n",
    "import requests #For downloading our datasets\n",
    "import nltk #For stop words and stemmers\n",
    "from nltk.corpus import stopwords\n",
    "import numpy as np #For arrays\n",
    "import pandas #Gives us DataFrames\n",
    "import matplotlib.pyplot as plt #For graphics\n",
    "import seaborn #Makes the graphics look nicer\n",
    "import sklearn.metrics.pairwise #For cosine similarity\n",
    "import sklearn.manifold #For T-SNE\n",
    "import sklearn.decomposition #For PCA\n",
    "\n",
    "#gensim uses a couple of deprecated features\n",
    "#we can't do anything about them so lets ignore them \n",
    "import warnings\n",
    "warnings.filterwarnings(\"ignore\", category=DeprecationWarning) \n",
    "\n",
    "#This 'magic' command makes the plots work better\n",
    "#in the notebook, don't use it outside of a notebook.\n",
    "#Also you can ignore the warning\n",
    "%matplotlib inline\n",
    "\n",
    "import os #For looking through files\n",
    "import os.path #For managing file paths"
   ]
  },
  {
   "cell_type": "markdown",
   "metadata": {},
   "source": [
    "## <span style=\"color:red\">*Exercise 1*</span>\n",
    "\n",
    "<span style=\"color:red\">Construct cells immediately below this that build a word2vec model with your corpus. Interrogate word relationships in the resulting space, including estimating 90% confidence intervals for specific word cosine distances of interest. Plot a subset of your words. What do these word relationships reveal about the *social* and *cultural game* underlying your corpus? What was surprising--what violated your prior understanding of the corpus? What was expected--what confirmed your knowledge about this domain?"
   ]
  },
  {
   "cell_type": "markdown",
   "metadata": {},
   "source": [
    "<span style=\"color:purple\"> **Load, tokenize and normalize the copura**"
   ]
  },
  {
   "cell_type": "code",
   "execution_count": 2,
   "metadata": {},
   "outputs": [
    {
     "data": {
      "text/html": [
       "<div>\n",
       "<style scoped>\n",
       "    .dataframe tbody tr th:only-of-type {\n",
       "        vertical-align: middle;\n",
       "    }\n",
       "\n",
       "    .dataframe tbody tr th {\n",
       "        vertical-align: top;\n",
       "    }\n",
       "\n",
       "    .dataframe thead th {\n",
       "        text-align: right;\n",
       "    }\n",
       "</style>\n",
       "<table border=\"1\" class=\"dataframe\">\n",
       "  <thead>\n",
       "    <tr style=\"text-align: right;\">\n",
       "      <th></th>\n",
       "      <th>text</th>\n",
       "    </tr>\n",
       "  </thead>\n",
       "  <tbody>\n",
       "    <tr>\n",
       "      <th>The Neighborhood Cook Book.txt</th>\n",
       "      <td>\\n \\n \\n \\n The Neighborhood Cook Book \\n Cou...</td>\n",
       "    </tr>\n",
       "    <tr>\n",
       "      <th>Miss Corson's Practical American Cookery.txt</th>\n",
       "      <td>\\n \\n \\n \\n Miss Corson's Practical American ...</td>\n",
       "    </tr>\n",
       "    <tr>\n",
       "      <th>Svensk-Amerikansk Kokbok.txt</th>\n",
       "      <td>\\n \\n \\n  Svensk-Amerikansk Kokbok. Swedish-E...</td>\n",
       "    </tr>\n",
       "    <tr>\n",
       "      <th>Food and Cookery for the Sick and Convalescent.txt</th>\n",
       "      <td>\\n \\n \\n \\n Food and cookery for the sick and...</td>\n",
       "    </tr>\n",
       "    <tr>\n",
       "      <th>Jennie June's American Cookery Book.txt</th>\n",
       "      <td>\\n \\n \\n \\n The House Servant's Directory... ...</td>\n",
       "    </tr>\n",
       "  </tbody>\n",
       "</table>\n",
       "</div>"
      ],
      "text/plain": [
       "                                                                                                 text\n",
       "The Neighborhood Cook Book.txt                       \\n \\n \\n \\n The Neighborhood Cook Book \\n Cou...\n",
       "Miss Corson's Practical American Cookery.txt         \\n \\n \\n \\n Miss Corson's Practical American ...\n",
       "Svensk-Amerikansk Kokbok.txt                         \\n \\n \\n  Svensk-Amerikansk Kokbok. Swedish-E...\n",
       "Food and Cookery for the Sick and Convalescent.txt   \\n \\n \\n \\n Food and cookery for the sick and...\n",
       "Jennie June's American Cookery Book.txt              \\n \\n \\n \\n The House Servant's Directory... ..."
      ]
     },
     "execution_count": 2,
     "metadata": {},
     "output_type": "execute_result"
    }
   ],
   "source": [
    "# Load corpora \n",
    "CookBookDF = lucem_illud.loadTextDirectory('../4-Word-Embedding/CookBooks')\n",
    "CookBookDF[:5]"
   ]
  },
  {
   "cell_type": "code",
   "execution_count": 3,
   "metadata": {},
   "outputs": [
    {
     "data": {
      "text/html": [
       "<div>\n",
       "<style scoped>\n",
       "    .dataframe tbody tr th:only-of-type {\n",
       "        vertical-align: middle;\n",
       "    }\n",
       "\n",
       "    .dataframe tbody tr th {\n",
       "        vertical-align: top;\n",
       "    }\n",
       "\n",
       "    .dataframe thead th {\n",
       "        text-align: right;\n",
       "    }\n",
       "</style>\n",
       "<table border=\"1\" class=\"dataframe\">\n",
       "  <thead>\n",
       "    <tr style=\"text-align: right;\">\n",
       "      <th></th>\n",
       "      <th>text</th>\n",
       "      <th>tokenized_sents</th>\n",
       "      <th>normalized_sents</th>\n",
       "    </tr>\n",
       "  </thead>\n",
       "  <tbody>\n",
       "    <tr>\n",
       "      <th>The Neighborhood Cook Book.txt</th>\n",
       "      <td>\\n \\n \\n \\n The Neighborhood Cook Book \\n Cou...</td>\n",
       "      <td>[[The, Neighborhood, Cook, Book, Council, of, ...</td>\n",
       "      <td>[[neighborhood, cook, book, council, jewish, w...</td>\n",
       "    </tr>\n",
       "    <tr>\n",
       "      <th>Miss Corson's Practical American Cookery.txt</th>\n",
       "      <td>\\n \\n \\n \\n Miss Corson's Practical American ...</td>\n",
       "      <td>[[Miss, Corson, 's, Practical, American, Cooke...</td>\n",
       "      <td>[[miss, corson, practical, american, cookery, ...</td>\n",
       "    </tr>\n",
       "    <tr>\n",
       "      <th>Svensk-Amerikansk Kokbok.txt</th>\n",
       "      <td>\\n \\n \\n  Svensk-Amerikansk Kokbok. Swedish-E...</td>\n",
       "      <td>[[Svensk-Amerikansk, Kokbok, .], [Swedish-Engl...</td>\n",
       "      <td>[[kokbok], [cookbook], [author, unknown, cooke...</td>\n",
       "    </tr>\n",
       "    <tr>\n",
       "      <th>Food and Cookery for the Sick and Convalescent.txt</th>\n",
       "      <td>\\n \\n \\n \\n Food and cookery for the sick and...</td>\n",
       "      <td>[[Food, and, cookery, for, the, sick, and, con...</td>\n",
       "      <td>[[food, cookery, sick, convalescent], [farmer,...</td>\n",
       "    </tr>\n",
       "    <tr>\n",
       "      <th>Jennie June's American Cookery Book.txt</th>\n",
       "      <td>\\n \\n \\n \\n The House Servant's Directory... ...</td>\n",
       "      <td>[[The, House, Servant, 's, Directory, ..., Rob...</td>\n",
       "      <td>[[house, servant, directory, roberts, robert],...</td>\n",
       "    </tr>\n",
       "  </tbody>\n",
       "</table>\n",
       "</div>"
      ],
      "text/plain": [
       "                                                                                                 text  \\\n",
       "The Neighborhood Cook Book.txt                       \\n \\n \\n \\n The Neighborhood Cook Book \\n Cou...   \n",
       "Miss Corson's Practical American Cookery.txt         \\n \\n \\n \\n Miss Corson's Practical American ...   \n",
       "Svensk-Amerikansk Kokbok.txt                         \\n \\n \\n  Svensk-Amerikansk Kokbok. Swedish-E...   \n",
       "Food and Cookery for the Sick and Convalescent.txt   \\n \\n \\n \\n Food and cookery for the sick and...   \n",
       "Jennie June's American Cookery Book.txt              \\n \\n \\n \\n The House Servant's Directory... ...   \n",
       "\n",
       "                                                                                      tokenized_sents  \\\n",
       "The Neighborhood Cook Book.txt                      [[The, Neighborhood, Cook, Book, Council, of, ...   \n",
       "Miss Corson's Practical American Cookery.txt        [[Miss, Corson, 's, Practical, American, Cooke...   \n",
       "Svensk-Amerikansk Kokbok.txt                        [[Svensk-Amerikansk, Kokbok, .], [Swedish-Engl...   \n",
       "Food and Cookery for the Sick and Convalescent.txt  [[Food, and, cookery, for, the, sick, and, con...   \n",
       "Jennie June's American Cookery Book.txt             [[The, House, Servant, 's, Directory, ..., Rob...   \n",
       "\n",
       "                                                                                     normalized_sents  \n",
       "The Neighborhood Cook Book.txt                      [[neighborhood, cook, book, council, jewish, w...  \n",
       "Miss Corson's Practical American Cookery.txt        [[miss, corson, practical, american, cookery, ...  \n",
       "Svensk-Amerikansk Kokbok.txt                        [[kokbok], [cookbook], [author, unknown, cooke...  \n",
       "Food and Cookery for the Sick and Convalescent.txt  [[food, cookery, sick, convalescent], [farmer,...  \n",
       "Jennie June's American Cookery Book.txt             [[house, servant, directory, roberts, robert],...  "
      ]
     },
     "execution_count": 3,
     "metadata": {},
     "output_type": "execute_result"
    }
   ],
   "source": [
    "# Tokenize and normalize the texts\n",
    "CookBookDF['tokenized_sents'] = CookBookDF['text'].apply(lambda x: \n",
    "                                                               [nltk.word_tokenize(s) for s in nltk.sent_tokenize(x)])\n",
    "CookBookDF['normalized_sents'] = CookBookDF['tokenized_sents'].apply(lambda x: \n",
    "                                                                           [lucem_illud.normalizeTokens(s, \n",
    "                                                                                           stopwordLst = lucem_illud.stop_words_basic, \n",
    "                                                                                           stemmer = None) \n",
    "                                                                            for s in x])\n",
    "\n",
    "CookBookDF[:5]"
   ]
  },
  {
   "cell_type": "code",
   "execution_count": 4,
   "metadata": {},
   "outputs": [],
   "source": [
    "# word to vector\n",
    "CookBookW2V = gensim.models.word2vec.Word2Vec(CookBookDF['normalized_sents'].sum())\n",
    "# see the vector of word \"fish\"\n",
    "# CookBookW2V['fish']"
   ]
  },
  {
   "cell_type": "markdown",
   "metadata": {},
   "source": [
    "## <span style=\"color:purple\">1.1 Word2Vec and Word relationships in the Resulting Space\n",
    "\n",
    "<span style=\"color:purple\">**Interesting Question:**<br>\n",
    "<span style=\"color:purple\">What are the most representative words in these cook books?<br>\n",
    "\n",
    "<span style=\"color:purple\">**Method:**<br>\n",
    "<span style=\"color:purple\">(1) I search the words with high frequencies. They are the most representative words among all the cook books. <br>\n",
    "<span style=\"color:purple\">(2) Then I will find the words similar to these representative words, together with the cosine similarity between the two words.\n",
    "\n",
    "<span style=\"color:purple\">**Findings:**<br>\n",
    "<span style=\"color:purple\">(1)The representative words and their frequencies are: <br>\n",
    "('one', 11125)('water', 9576)('160', 9188)('salt', 7041)('add', 6890)('two', 6575)('butter', 6573)('sugar', 6570)('then', 5911)('put', 5848)('cup', 5542)('flour', 5023)('eggs', 4762)('hot', 4534)('cold', 4036)('little', 3880)('cream', 3872)('half', 3859)('milk', 3842)('pepper', 3751)('small', 3690)('cut', 3674)('boil', 3433)('sauce', 3365)('three', 3110)('boiling', 3026)('one-half', 2699)('233', 2662),('oven', 2643),('meat', 2603)('egg', 2490)\n",
    "<br>\n",
    "I include these words into ***The List of Representative Words***<br>\n",
    "    \n",
    "<span style=\"color:purple\">(2) By looking for the similar words based on cosine similarities, I obtain more information about the representative word.<br>\n",
    "<span style=\"color:purple\">For instance, the words similar to \"water\" are \"liquid\", \"disolved\", \"liquor\", \"vinegar\", \"gelatine\". In the context of cookings, \"liquid\" tells the status of \"water\". \"disolved\" tells the function of \"water\". \"liquor\", \"vinegar\", \"gelatine\" are fairly common objects relevant to \"water\" for cooking. <br>\n",
    "<span style=\"color:purple\">The words similar to \"cold\" are \"boiling\", \"boils\", \"hot\", \"warm\", \"lukewarm\". All of them are used to describe the temperature. The words similar to \"cup\" are \"tablespoon\", \"teaspoon\", \"cups\" \"tablespponful\", \"pint\", \"quart\", \"spoonfull\", \"teaspoonfull\". The first three words are the names of tableware, while the rest of them are the units or the ways to describe \"how much\" to use/ add, etc. <br>\n"
   ]
  },
  {
   "cell_type": "code",
   "execution_count": 5,
   "metadata": {},
   "outputs": [],
   "source": [
    "# words and their frequencies -- generate the list of representative words\n",
    "CookBookDF['tokenized_text'] = CookBookDF['text'].apply(lambda x: nltk.word_tokenize(x))\n",
    "countsDict = {}\n",
    "for word in CookBookDF['tokenized_text'].sum():\n",
    "    if word in countsDict:\n",
    "        countsDict[word] += 1\n",
    "    else:\n",
    "        countsDict[word] = 1\n",
    "word_counts = sorted(countsDict.items(), key = lambda x : x[1], reverse = True)"
   ]
  },
  {
   "cell_type": "code",
   "execution_count": 6,
   "metadata": {},
   "outputs": [
    {
     "data": {
      "text/plain": [
       "[('gelatine', 0.6732891798019409),\n",
       " ('dissolved', 0.6485925316810608),\n",
       " ('vinegar', 0.6478315591812134),\n",
       " ('liquid', 0.6466262340545654),\n",
       " ('nearly', 0.6309497356414795),\n",
       " ('bring', 0.6197890043258667),\n",
       " ('scald', 0.6195112466812134),\n",
       " ('kettle', 0.6158090233802795),\n",
       " ('throw', 0.6111495494842529),\n",
       " ('liquor', 0.6090911626815796)]"
      ]
     },
     "execution_count": 6,
     "metadata": {},
     "output_type": "execute_result"
    }
   ],
   "source": [
    "CookBookW2V.most_similar('water')"
   ]
  },
  {
   "cell_type": "code",
   "execution_count": 7,
   "metadata": {},
   "outputs": [
    {
     "data": {
      "text/plain": [
       "[('warm', 0.7650133371353149),\n",
       " ('boiling', 0.7542831897735596),\n",
       " ('drained', 0.6641824245452881),\n",
       " ('previously', 0.6616337299346924),\n",
       " ('scalded', 0.6586393117904663),\n",
       " ('soaked', 0.6567875146865845),\n",
       " ('boiled', 0.6358659267425537),\n",
       " ('drain', 0.6301573514938354),\n",
       " ('hot', 0.6294578313827515),\n",
       " ('lukewarm', 0.6288045644760132)]"
      ]
     },
     "execution_count": 7,
     "metadata": {},
     "output_type": "execute_result"
    }
   ],
   "source": [
    "CookBookW2V.most_similar('cold')\n"
   ]
  },
  {
   "cell_type": "code",
   "execution_count": 8,
   "metadata": {},
   "outputs": [
    {
     "data": {
      "text/plain": [
       "[('cupful', 0.8992138504981995),\n",
       " ('tablespoon', 0.8906320333480835),\n",
       " ('pint', 0.8804406523704529),\n",
       " ('tablespoonful', 0.8569642901420593),\n",
       " ('cups', 0.841123104095459),\n",
       " ('quart', 0.834312915802002),\n",
       " ('gill', 0.8285434246063232),\n",
       " ('teaspoon', 0.7831034064292908),\n",
       " ('spoonful', 0.7800700664520264),\n",
       " ('teaspoonful', 0.776697039604187)]"
      ]
     },
     "execution_count": 8,
     "metadata": {},
     "output_type": "execute_result"
    }
   ],
   "source": [
    "CookBookW2V.most_similar('cup')\n"
   ]
  },
  {
   "cell_type": "code",
   "execution_count": 9,
   "metadata": {},
   "outputs": [
    {
     "data": {
      "text/plain": [
       "'eggs'"
      ]
     },
     "execution_count": 9,
     "metadata": {},
     "output_type": "execute_result"
    }
   ],
   "source": [
    "CookBookW2V.doesnt_match(['water', 'sugar', 'butter', 'flour', 'eggs','cold','milk','cup','hot'])"
   ]
  },
  {
   "cell_type": "code",
   "execution_count": 10,
   "metadata": {},
   "outputs": [
    {
     "data": {
      "text/plain": [
       "[('gelatine', 0.6278140544891357),\n",
       " ('scald', 0.6240823268890381),\n",
       " ('brine', 0.6140077710151672),\n",
       " ('allowing', 0.6127336025238037),\n",
       " ('gallon', 0.6114993095397949),\n",
       " ('vinegar', 0.6088769435882568),\n",
       " ('sufficient', 0.5837857127189636),\n",
       " ('kettle', 0.5822764039039612),\n",
       " ('liquid', 0.5733077526092529),\n",
       " ('cox', 0.5729029178619385)]"
      ]
     },
     "execution_count": 10,
     "metadata": {},
     "output_type": "execute_result"
    }
   ],
   "source": [
    "CookBookW2V.most_similar(positive=['boiling', 'water'], negative = ['hot'])"
   ]
  },
  {
   "cell_type": "code",
   "execution_count": 11,
   "metadata": {},
   "outputs": [
    {
     "data": {
      "text/plain": [
       "[('gravies', 0.628133237361908),\n",
       " ('stews', 0.6137329339981079),\n",
       " ('kind', 0.6132287979125977),\n",
       " ('sort', 0.5842907428741455),\n",
       " ('simply', 0.5833070874214172),\n",
       " ('soups', 0.5831928253173828),\n",
       " ('vegetables', 0.5799460411071777),\n",
       " ('hashes', 0.5765429139137268),\n",
       " ('tougher', 0.5750730633735657),\n",
       " ('latter', 0.5736862421035767)]"
      ]
     },
     "execution_count": 11,
     "metadata": {},
     "output_type": "execute_result"
    }
   ],
   "source": [
    "CookBookW2V.most_similar(positive=['meat', 'vegetable'], negative = ['fish'])"
   ]
  },
  {
   "cell_type": "markdown",
   "metadata": {},
   "source": [
    "## <span style=\"color:purple\">1.2 Confidence Interval\n",
    "    \n",
    "<span style=\"color:purple\">**Interesting Question:**<br>\n",
    "<span style=\"color:purple\"> The X+Y-Z= ? gives me that \"meat\"+\"vegetable\" = \"fish\" + \"salads\". This indicates a closer relationship between \"meat & fish\" and \"vegetable & salad\". However, how significant are these word associations are?<br>\n",
    "\n",
    "<span style=\"color:purple\">**Method:**<br>\n",
    "<span style=\"color:purple\"> Look for the 90% confidence intervals of the pairs of words -- \"meat & fish\", \"meat & vegetables\", \"vegetables & salads\".<br>\n",
    "\n",
    "<span style=\"color:purple\">**Findings:**<br>\n",
    "The 90% confidence intervals of the pairs of words are:<br>\n",
    "(a) \"meat\" and \"fish\" [0.5317258, 0.61350864]<br>\n",
    "(b) \"meat\" and \"vegetable\" [0.18318084, 0.50954866]<br>\n",
    "(c) \"vegetable\" and \"salads\" [0.69500434, 0.83210355]<br>\n",
    "Therefore, the results are consistent with the expectations. \n",
    "  \n",
    "### <span style=\"color:purple\">1.2.2 Confidence Interval with All Cook Books"
   ]
  },
  {
   "cell_type": "code",
   "execution_count": 12,
   "metadata": {},
   "outputs": [
    {
     "name": "stdout",
     "output_type": "stream",
     "text": [
      "The 90% confidence interval for the cosine distance between \"meat\" and \"fish\" is:\n",
      " 0.52962697 0.6030846\n"
     ]
    }
   ],
   "source": [
    "def cos_difference(embedding,word1,word2):\n",
    "    return sklearn.metrics.pairwise.cosine_similarity(embedding[word1].reshape(1,-1),embedding[word2].reshape(1,-1))\n",
    "\n",
    "estimatesB_1=[]\n",
    "for x in range(20):\n",
    "    CookBookW2VB = gensim.models.word2vec.Word2Vec(CookBookDF['normalized_sents'].sample(frac=1.0, replace=True).sum())\n",
    "    try:\n",
    "        estimatesB_1.append(cos_difference(CookBookW2VB, 'meat', 'fish')[0,0])\n",
    "    except KeyError:\n",
    "        #Missing one of the words from the vocab\n",
    "        pass\n",
    "print(\"The 90% confidence interval for the cosine distance between \\\"meat\\\" and \\\"fish\\\" is:\\n\",estimatesB_1[1], estimatesB_1[-2])\n"
   ]
  },
  {
   "cell_type": "code",
   "execution_count": 13,
   "metadata": {},
   "outputs": [
    {
     "name": "stdout",
     "output_type": "stream",
     "text": [
      "The 90% confidence interval for the cosine distance between \"meat\" and \"vegetable\" is:\n",
      " 0.2619388 0.31588262\n"
     ]
    }
   ],
   "source": [
    "estimatesB_2=[]\n",
    "for x in range(20):\n",
    "    CookBookW2VB = gensim.models.word2vec.Word2Vec(CookBookDF['normalized_sents'].sample(frac=1.0, replace=True).sum())\n",
    "    try:\n",
    "        estimatesB_2.append(cos_difference(CookBookW2VB, 'meat', 'vegetable')[0,0])\n",
    "    except KeyError:\n",
    "        #Missing one of the words from the vocab\n",
    "        pass\n",
    "print(\"The 90% confidence interval for the cosine distance between \\\"meat\\\" and \\\"vegetable\\\" is:\\n\",estimatesB_2[1], estimatesB_2[-2])\n"
   ]
  },
  {
   "cell_type": "code",
   "execution_count": 14,
   "metadata": {},
   "outputs": [
    {
     "name": "stdout",
     "output_type": "stream",
     "text": [
      "The 90% confidence interval for the cosine distance between \"vegetable\" and \"salads\" is:\n",
      " 0.84307694 0.8424797\n"
     ]
    }
   ],
   "source": [
    "estimatesB_3=[]\n",
    "for x in range(20):\n",
    "    CookBookW2VB = gensim.models.word2vec.Word2Vec(CookBookDF['normalized_sents'].sample(frac=1.0, replace=True).sum())\n",
    "    try:\n",
    "        estimatesB_3.append(cos_difference(CookBookW2VB, 'vegetable', 'salads')[0,0])\n",
    "    except KeyError:\n",
    "        #Missing one of the words from the vocab\n",
    "        pass\n",
    "print(\"The 90% confidence interval for the cosine distance between \\\"vegetable\\\" and \\\"salads\\\" is:\\n\",estimatesB_3[1], estimatesB_3[-2])\n"
   ]
  },
  {
   "cell_type": "markdown",
   "metadata": {},
   "source": [
    "### <span style=\"color:purple\">1.2.2 Confidence Interval with a Subsample of Cook Books"
   ]
  },
  {
   "cell_type": "code",
   "execution_count": 22,
   "metadata": {},
   "outputs": [
    {
     "name": "stdout",
     "output_type": "stream",
     "text": [
      "[0.98380572 0.99150109 0.9594841  0.99833393 0.99957949]\n",
      "[6. 1. 2. 1. 1.]\n"
     ]
    }
   ],
   "source": [
    "n_samples = 10\n",
    "sample_indices = np.random.randint(0,n_samples,(len(CookBookDF),))\n",
    "\n",
    "s_k =np.array([])\n",
    "tau_k=np.array([])\n",
    "\n",
    "for i in range(n_samples):\n",
    "    sample_w2v = gensim.models.word2vec.Word2Vec(CookBookDF[sample_indices == i]['normalized_sents'].sum())\n",
    "    try:\n",
    "        #Need to use words present in most samples\n",
    "        s_k = np.append(s_k, cos_difference(sample_w2v, 'vegetable', 'salads')[0,0])\n",
    "    except KeyError:\n",
    "        pass\n",
    "    else:\n",
    "        tau_k = np.append(tau_k, len(CookBookDF[sample_indices == i]))\n",
    "\n",
    "print(s_k)\n",
    "print(tau_k)\n",
    "\n",
    "tau = tau_k.sum()\n",
    "s = s_k.mean()\n",
    "B_k = np.sqrt(tau_k) * s_k-s_k.mean()"
   ]
  },
  {
   "cell_type": "code",
   "execution_count": 24,
   "metadata": {},
   "outputs": [
    {
     "name": "stdout",
     "output_type": "stream",
     "text": [
      "The 90% confidence interval for the cosine distance between \"vegetable\" and \"salads\" is:\n",
      " 0.98298512299185 0.985045301182142\n"
     ]
    }
   ],
   "source": [
    "print(\"The 90% confidence interval for the cosine distance between \\\"vegetable\\\" and \\\"salads\\\" is:\\n\",s-B_k[-2]/np.sqrt(tau), s-B_k[1]/np.sqrt(tau))\n",
    "\n",
    "CookBookW2V.save(\"CookBookWORD2Vec.mm\")\n",
    "#Load with CookBookW2V = gensim.models.word2vec.Word2Vec.load('CookBookWORD2Vec.mm')\n"
   ]
  },
  {
   "cell_type": "markdown",
   "metadata": {},
   "source": [
    "## <span style=\"color:purple\"> 1.3 Visualize\n",
    "<span style=\"color:purple\">**Interesting Question:**<br>\n",
    "<span style=\"color:purple\">Visualize the words, where the size of the word represents its frequency and the distance of the words represents their closedness.<br>\n",
    "\n",
    "<span style=\"color:purple\">**Method:**<br>\n",
    "<span style=\"color:purple\"> (1) Tokenize and normalize words <br>\n",
    "(2) Sort the top 100 words as the target words. <br>\n",
    "(3) Use PCA to reduce the dimensionality. <br>\n",
    "(4) Plot\n",
    "<span style=\"color:purple\">**Findings:**<br>    \n",
    "\n",
    "<span style=\"color:purple\">** Expected-- confirm your knowledge about this domain ** <br>\n",
    "<span style=\"color:purple\">(1) Words with similar properties or discribing similar things cluster together.<br>\n",
    "For instance, the verbs of how to process the ingredients are close to each other. They are {\"add\", \"mix\", \"stir\"}, or {\"place\", \"set\", \"put\", \"pour\", \"cover\"}. The words describing temperature are with each other. They are \"cold\", \"hot\", \"boiling\", \"boil\", \"cook\". Besides, numbers are with each other, such as \"two\", \"three\", \"four\", \"six\" and so on. <br>\n",
    "\n",
    "<span style=\"color:purple\">(2) Under the cooking context, words closer to each other may tell the information about the recipes. <br>\n",
    "For instance, \"soup\", \"sauce\", \"chicken\", \"beef\" are with each other. It indicates that sauce is important for cooking soup, and usually chicken or beef may be a main ingredient for soup. <br>\n",
    "Another example is that \"salad\", \"potato\", \"sweet\", \"cream\" are together. This tells that cream and potato are most important ingredients for salad, and usually it is the \"sweet potatos\" instead of other species. <br>\n",
    "Another example is that \"egg\", \"yolks\" are with each other. This may indicate that when people are cooking, besides using the full egg, they also like to process the yolks. <br>\n",
    "\n",
    "\n",
    "<span style=\"color:purple\">**Surprising-- violate my prior understanding of the corpus** <br>\n",
    "<span style=\"color:purple\">(1) \"cake\" and \"flour\" are far away with each other. This may be due to that the algorithm regards \"cake\" as desert and \"flour\" as raw material. <br>\n",
    "(2) \"lemmon\" are far from \"juice\" or \"fruit\". This may be due to that people do not usually regard lemmon as a fruit nor they extrat it into lemmon juice. <br>"
   ]
  },
  {
   "cell_type": "code",
   "execution_count": 25,
   "metadata": {},
   "outputs": [
    {
     "data": {
      "text/html": [
       "<div>\n",
       "<style scoped>\n",
       "    .dataframe tbody tr th:only-of-type {\n",
       "        vertical-align: middle;\n",
       "    }\n",
       "\n",
       "    .dataframe tbody tr th {\n",
       "        vertical-align: top;\n",
       "    }\n",
       "\n",
       "    .dataframe thead th {\n",
       "        text-align: right;\n",
       "    }\n",
       "</style>\n",
       "<table border=\"1\" class=\"dataframe\">\n",
       "  <thead>\n",
       "    <tr style=\"text-align: right;\">\n",
       "      <th></th>\n",
       "      <th>text</th>\n",
       "      <th>tokenized_sents</th>\n",
       "      <th>normalized_sents</th>\n",
       "      <th>tokenized_text</th>\n",
       "      <th>normalized_tokens</th>\n",
       "      <th>normalized_tokens_count</th>\n",
       "    </tr>\n",
       "  </thead>\n",
       "  <tbody>\n",
       "    <tr>\n",
       "      <th>The Hotel St. Francis Cook Book.txt</th>\n",
       "      <td>\\n \\n  \\n  \\n The Hotel St. Francis Cook Book...</td>\n",
       "      <td>[[The, Hotel, St., Francis, Cook, Book, .], [H...</td>\n",
       "      <td>[[hotel, francis, cook, book], [hirtzler, vict...</td>\n",
       "      <td>[The, Hotel, St., Francis, Cook, Book, ., Hirt...</td>\n",
       "      <td>[hotel, francis, cook, book, hirtzler, victor,...</td>\n",
       "      <td>124951</td>\n",
       "    </tr>\n",
       "    <tr>\n",
       "      <th>Mrs. Lincoln's Boston Cook Book.txt</th>\n",
       "      <td>\\n \\n \\n \\n Mrs. Lincoln's Boston Cook Book. ...</td>\n",
       "      <td>[[Mrs., Lincoln, 's, Boston, Cook, Book, .], [...</td>\n",
       "      <td>[[lincoln, boston, cook, book], [cooking], [li...</td>\n",
       "      <td>[Mrs., Lincoln, 's, Boston, Cook, Book, ., Wha...</td>\n",
       "      <td>[lincoln, boston, cook, book, cooking, lincoln...</td>\n",
       "      <td>98898</td>\n",
       "    </tr>\n",
       "    <tr>\n",
       "      <th>The International Jewish Cook Book.txt</th>\n",
       "      <td>\\n  \\n   \\n  \\n  The International Jewish Coo...</td>\n",
       "      <td>[[The, International, Jewish, Cook, Book, ...,...</td>\n",
       "      <td>[[international, jewish, cook, book, greenbaum...</td>\n",
       "      <td>[The, International, Jewish, Cook, Book, ..., ...</td>\n",
       "      <td>[international, jewish, cook, book, greenbaum,...</td>\n",
       "      <td>88698</td>\n",
       "    </tr>\n",
       "  </tbody>\n",
       "</table>\n",
       "</div>"
      ],
      "text/plain": [
       "                                                                                     text  \\\n",
       "The Hotel St. Francis Cook Book.txt      \\n \\n  \\n  \\n The Hotel St. Francis Cook Book...   \n",
       "Mrs. Lincoln's Boston Cook Book.txt      \\n \\n \\n \\n Mrs. Lincoln's Boston Cook Book. ...   \n",
       "The International Jewish Cook Book.txt   \\n  \\n   \\n  \\n  The International Jewish Coo...   \n",
       "\n",
       "                                                                          tokenized_sents  \\\n",
       "The Hotel St. Francis Cook Book.txt     [[The, Hotel, St., Francis, Cook, Book, .], [H...   \n",
       "Mrs. Lincoln's Boston Cook Book.txt     [[Mrs., Lincoln, 's, Boston, Cook, Book, .], [...   \n",
       "The International Jewish Cook Book.txt  [[The, International, Jewish, Cook, Book, ...,...   \n",
       "\n",
       "                                                                         normalized_sents  \\\n",
       "The Hotel St. Francis Cook Book.txt     [[hotel, francis, cook, book], [hirtzler, vict...   \n",
       "Mrs. Lincoln's Boston Cook Book.txt     [[lincoln, boston, cook, book], [cooking], [li...   \n",
       "The International Jewish Cook Book.txt  [[international, jewish, cook, book, greenbaum...   \n",
       "\n",
       "                                                                           tokenized_text  \\\n",
       "The Hotel St. Francis Cook Book.txt     [The, Hotel, St., Francis, Cook, Book, ., Hirt...   \n",
       "Mrs. Lincoln's Boston Cook Book.txt     [Mrs., Lincoln, 's, Boston, Cook, Book, ., Wha...   \n",
       "The International Jewish Cook Book.txt  [The, International, Jewish, Cook, Book, ..., ...   \n",
       "\n",
       "                                                                        normalized_tokens  \\\n",
       "The Hotel St. Francis Cook Book.txt     [hotel, francis, cook, book, hirtzler, victor,...   \n",
       "Mrs. Lincoln's Boston Cook Book.txt     [lincoln, boston, cook, book, cooking, lincoln...   \n",
       "The International Jewish Cook Book.txt  [international, jewish, cook, book, greenbaum,...   \n",
       "\n",
       "                                        normalized_tokens_count  \n",
       "The Hotel St. Francis Cook Book.txt                      124951  \n",
       "Mrs. Lincoln's Boston Cook Book.txt                       98898  \n",
       "The International Jewish Cook Book.txt                    88698  "
      ]
     },
     "execution_count": 25,
     "metadata": {},
     "output_type": "execute_result"
    }
   ],
   "source": [
    "# I will only target the top 200 words in the list\n",
    "numWords = 200\n",
    "targetWords = CookBookW2V.wv.index2word[:numWords]\n",
    "\n",
    "\n",
    "stop_words_nltk = stopwords.words('english')\n",
    "\n",
    "#The stemmers and lemmers need to be initialized before bing run\n",
    "porter = nltk.stem.porter.PorterStemmer()\n",
    "snowball = nltk.stem.snowball.SnowballStemmer('english')\n",
    "wordnet = nltk.stem.WordNetLemmatizer()\n",
    "\n",
    "def normlizeTokens(tokenLst, stopwordLst = None, stemmer = None, lemmer = None):\n",
    "\n",
    "    #Lowering the case and removing non-words\n",
    "    workingIter = (w.lower() for w in tokenLst if w.isalpha())\n",
    "\n",
    "    #Now we can use the semmer, if provided\n",
    "    if stemmer is not None:\n",
    "        workingIter = (stemmer.stem(w) for w in workingIter)\n",
    "        \n",
    "    #And the lemmer\n",
    "    if lemmer is not None:\n",
    "        workingIter = (lemmer.lemmatize(w) for w in workingIter)\n",
    "    \n",
    "    #And remove the stopwords\n",
    "    if stopwordLst is not None:\n",
    "        workingIter = (w for w in workingIter if w not in stopwordLst)\n",
    "    #We will return a list with the stopwords removed\n",
    "    return list(workingIter)\n",
    "\n",
    "CookBookDF['normalized_tokens'] = CookBookDF['tokenized_text'].apply(lambda x: normlizeTokens(x, stopwordLst = stop_words_nltk, stemmer = None))\n",
    "\n",
    "CookBookDF['normalized_tokens_count'] = CookBookDF['normalized_tokens'].apply(lambda x: len(x))\n",
    "\n",
    "CookBookDF.sort_values(by='normalized_tokens_count', ascending=False)[:3]"
   ]
  },
  {
   "cell_type": "markdown",
   "metadata": {},
   "source": [
    "#### <span style=\"color:purple\"> After sorting out the top 100 words (normalized), extract their vectors and create a smaller matrix that preserved the distances from the original"
   ]
  },
  {
   "cell_type": "code",
   "execution_count": 27,
   "metadata": {},
   "outputs": [
    {
     "data": {
      "text/plain": [
       "array([[ 0.6134981 , -0.05464986, -0.5698895 , ...,  0.7697952 ,\n",
       "         1.0142167 ,  0.46239105],\n",
       "       [ 1.115717  ,  0.12794018, -0.6681242 , ..., -0.9966135 ,\n",
       "         0.726516  , -0.99689   ],\n",
       "       [-0.73284566,  0.57561696, -0.27781445, ..., -1.7013314 ,\n",
       "         0.92960745, -0.96058834],\n",
       "       ...,\n",
       "       [-0.10860512,  0.61395323, -0.27696198, ...,  0.1399567 ,\n",
       "        -0.01931359,  0.41268867],\n",
       "       [ 0.13636248, -0.26633796, -0.15005374, ...,  0.10526941,\n",
       "        -0.3231078 , -0.01907015],\n",
       "       [-0.3002488 , -0.00633127,  0.83062166, ..., -0.7598542 ,\n",
       "        -0.1250473 , -1.3948132 ]], dtype=float32)"
      ]
     },
     "execution_count": 27,
     "metadata": {},
     "output_type": "execute_result"
    }
   ],
   "source": [
    "wordsSubMatrix = []\n",
    "for word in targetWords:\n",
    "    wordsSubMatrix.append(CookBookW2V[word])\n",
    "wordsSubMatrix = np.array(wordsSubMatrix)\n",
    "wordsSubMatrix"
   ]
  },
  {
   "cell_type": "markdown",
   "metadata": {},
   "source": [
    "#### <span style=\"color:purple\"> Use PCA to reduce the dimensionality"
   ]
  },
  {
   "cell_type": "code",
   "execution_count": 28,
   "metadata": {},
   "outputs": [],
   "source": [
    "pcaWords = sklearn.decomposition.PCA(n_components = 50).fit(wordsSubMatrix)\n",
    "reducedPCA_data = pcaWords.transform(wordsSubMatrix)\n",
    "#T-SNE is theoretically better, but you should experiment\n",
    "tsneWords = sklearn.manifold.TSNE(n_components = 2, early_exaggeration = 25).fit_transform(reducedPCA_data)"
   ]
  },
  {
   "cell_type": "code",
   "execution_count": 29,
   "metadata": {},
   "outputs": [
    {
     "data": {
      "image/png": "[encoded data removed]",
      "text/plain": [
       "<matplotlib.figure.Figure at 0x7f906d148780>"
      ]
     },
     "metadata": {},
     "output_type": "display_data"
    }
   ],
   "source": [
    "fig = plt.figure(figsize = (15,10))\n",
    "ax = fig.add_subplot(111)\n",
    "ax.set_frame_on(False)\n",
    "plt.scatter(tsneWords[:, 0], tsneWords[:, 1], alpha = 0)#Making the points invisible \n",
    "for i, word in enumerate(targetWords):\n",
    "    ax.annotate(word, \n",
    "                (tsneWords[:, 0][i],tsneWords[:, 1][i]), \n",
    "                size =  20 * (numWords - i) / numWords, \n",
    "                alpha = .8 * (numWords - i) / numWords + .2)\n",
    "plt.xticks(())\n",
    "plt.yticks(())\n",
    "plt.show()"
   ]
  },
  {
   "cell_type": "markdown",
   "metadata": {},
   "source": [
    "## <span style=\"color:purple\">1.4 Are the parameters correct?\n",
    "#### <span style=\"color:purple\">Trainning loss"
   ]
  },
  {
   "cell_type": "code",
   "execution_count": 30,
   "metadata": {},
   "outputs": [
    {
     "data": {
      "text/plain": [
       "705786.75"
      ]
     },
     "execution_count": 30,
     "metadata": {},
     "output_type": "execute_result"
    }
   ],
   "source": [
    "CookBookW2V_loss = gensim.models.word2vec.Word2Vec(size = 100, #dimensions\n",
    "                                                      alpha=0.025,\n",
    "                                                      window=5,\n",
    "                                                      min_count=5,\n",
    "                                                      hs=0,  #hierarchical softmax toggle\n",
    "                                                      compute_loss = True,\n",
    "                                                     )\n",
    "CookBookW2V_loss.build_vocab(CookBookDF['normalized_sents'].sum())\n",
    "CookBookW2V_loss.train(CookBookDF['normalized_sents'].sum(), \n",
    "                     total_examples=CookBookW2V.corpus_count, \n",
    "                     epochs=1, #This the running_training_loss is a total so we have to do 1 epoch at a time\n",
    "                    )\n",
    "#Using a list so we can capture every epoch\n",
    "losses = [CookBookW2V_loss.running_training_loss]\n",
    "losses[0]"
   ]
  },
  {
   "cell_type": "markdown",
   "metadata": {},
   "source": [
    "<span style=\"color:purple\"> **Given the training loss, try to minimize the loss.**"
   ]
  },
  {
   "cell_type": "code",
   "execution_count": 31,
   "metadata": {},
   "outputs": [
    {
     "name": "stdout",
     "output_type": "stream",
     "text": [
      "Done epoch 20\r"
     ]
    }
   ],
   "source": [
    "for i in range(19):\n",
    "    CookBookW2V_loss.train(CookBookDF['normalized_sents'].sum(), \n",
    "                     total_examples=CookBookW2V.corpus_count, \n",
    "                     epochs=1,\n",
    "                             )\n",
    "    losses.append(CookBookW2V_loss.running_training_loss)\n",
    "    print(\"Done epoch {}\".format(i + 2), end = '\\r')"
   ]
  },
  {
   "cell_type": "markdown",
   "metadata": {},
   "source": [
    "#### <span style=\"color:purple\"> Correct number of iterations -- by ploting\n",
    "The loss is monotonicaly decreasing, but the rate decreases as epoch increases. To avoid over fitting, stop training when there is significant change in the rate of decrease. Here, iter=10, instead of the default 5. <br>"
   ]
  },
  {
   "cell_type": "code",
   "execution_count": 32,
   "metadata": {},
   "outputs": [
    {
     "data": {
      "image/png": "[encoded data removed]",
      "text/plain": [
       "<matplotlib.figure.Figure at 0x7f906cbec908>"
      ]
     },
     "metadata": {},
     "output_type": "display_data"
    }
   ],
   "source": [
    "# plot the loss vs epoch\n",
    "lossesDF = pandas.DataFrame({'loss' : losses, 'epoch' : range(len(losses))})\n",
    "lossesDF.plot(y = 'loss', x = 'epoch', logy=False, figsize=(15, 7))\n",
    "plt.show()"
   ]
  },
  {
   "cell_type": "markdown",
   "metadata": {},
   "source": [
    "#### <span style=\"color:purple\"> Correct number of dimensions to achieve optimal embedding"
   ]
  },
  {
   "cell_type": "code",
   "execution_count": 33,
   "metadata": {},
   "outputs": [],
   "source": [
    "losses_dims=[]\n",
    "\n",
    "for d in [50,100,150,200,250,300,350,400,450,500, 550, 600, 650, 700, 750]:\n",
    "    CookBookW2V_loss_dims = gensim.models.word2vec.Word2Vec(size = d, #dimensions\n",
    "                                                      alpha=0.025,\n",
    "                                                      window=5,\n",
    "                                                      min_count=5,\n",
    "                                                      hs=0,  #hierarchical softmax toggle\n",
    "                                                      compute_loss = True,\n",
    "                                                     )\n",
    "    CookBookW2V_loss_dims.build_vocab(CookBookDF['normalized_sents'].sum())\n",
    "    CookBookW2V_loss_dims.train(CookBookDF['normalized_sents'].sum(), \n",
    "                     total_examples=CookBookW2V.corpus_count, \n",
    "                     epochs=7, #This the running_training_loss is a total so we have to do 1 epoch at a time\n",
    "                    )\n",
    "    CookBookW2V_loss_dims.train(CookBookDF['normalized_sents'].sum(), \n",
    "                     total_examples=CookBookW2V.corpus_count, \n",
    "                     epochs=1, #This the running_training_loss is a total so we have to do 1 epoch at a time\n",
    "                    )\n",
    "    \n",
    "    losses_dims.append(CookBookW2V_loss_dims.running_training_loss/(10+d*10))"
   ]
  },
  {
   "cell_type": "markdown",
   "metadata": {},
   "source": [
    "## <span style=\"color:red\">*Exercise 2*</span>\n",
    "\n",
    "<span style=\"color:red\">Construct cells immediately below this that build a doc2vec model with your corpus. Interrogate document and word relationships in the resulting space. Construct a heatmap that plots the distances between a subset of your documents against each other, and against a set of informative words. Find distances between *every* document in your corpus and a word or query of interest. What do these doc-doc proximities reveal about your corpus? What do these word-doc proximities highlight? Demonstrate and document one reasonable way to select a defensible subset of query-relevant documents for subsequent analysis."
   ]
  },
  {
   "cell_type": "code",
   "execution_count": 57,
   "metadata": {},
   "outputs": [],
   "source": [
    "keywords = ['one','water','salt','add','two','butter','sugar','put','cup','flour','eggs','hot','cold','little','cream','half','milk','pepper','small','cut','boil','sauce','three','boiling','oven','meat','egg']\n",
    "# CookBookDF['tokenized_text']\n",
    "# CookBookDF['normalized_tokens'] "
   ]
  },
  {
   "cell_type": "code",
   "execution_count": 35,
   "metadata": {},
   "outputs": [],
   "source": [
    "CookBookDF['text_name'] = CookBookDF.index\n",
    "    \n",
    "taggedDocs = []\n",
    "for index, row in CookBookDF.iterrows():\n",
    "    #Just doing a simple keyword assignment\n",
    "    docKeywords = [s for s in keywords if s in row['normalized_tokens']]\n",
    "    docKeywords.append(row['text_name']) #This lets us extract individual documnets since text_names's are unique\n",
    "    taggedDocs.append(gensim.models.doc2vec.LabeledSentence(words = row['normalized_tokens'], tags = docKeywords))\n",
    "CookBookDF['Tagged_Text'] = taggedDocs\n"
   ]
  },
  {
   "cell_type": "markdown",
   "metadata": {},
   "source": [
    "## <span style=\"color:purple\"> 2.1 Document and Word Relationship \n",
    "<span style=\"color:purple\">**Descriptions:**<br>\n",
    "<span style=\"color:purple\">I have collected different cook books about different countries' dishes, such as American, Swedish, Italian, Juish, and Western; also different cook books for different situations, such as for domestic cooking, hotel custoomers, farm cooking, neighborhood cooking, army cooking; also different cook books for breakfast, luch, tea time, for dishes & beverages, for fish cooking, for sick and convalescent. <br>\n",
    "    \n",
    "<span style=\"color:purple\">**Interesting Question:**<br>\n",
    "<span style=\"color:purple\">How do the cook books from different cultures differ from each other within the sematic space? <br>\n",
    "\n",
    "<span style=\"color:purple\">**Method:**<br>\n",
    "<span style=\"color:purple\">(1) **Tokenize and normalize** <br>\n",
    "CookBookDF['tokenized_text'] contains the tokens. I use nltk stop word list for nomaliztion. CookBookDF['normalized_tokens'] stores the normalized tokens. <br>\n",
    "(2) Use the **List of Representative Words** find in **Exercise 1.1** <br>\n",
    "(3) Compare the most similar words of the cook books. <br>\n",
    "    \n",
    "<span style=\"color:purple\">**Findings:**<br>\n",
    "Below are the most similar words for cook books from a certain culture. <br>\n",
    "American: \"acid\", \"diet\", \"nature\" <br>\n",
    "Italian: \"chicken\", \"cutlet\", \"chops\", \"sweetbreads\" <br>\n",
    "Swedish: \"cream\", \"worcestershire\" <br>\n",
    "Jewish: \"carrots\", \"codfish\"<br>\n",
    "Interstingly, the list above vividly reflect the food preferences of people from different cultures. American people eat little and like natural food. Italian people consume much chicken, sweetbreads. Swedish people consume cream, worcestershire sauce very often. And Jewish like carrots and codfish.<br>\n",
    "If I hope to dig deeper, I could check the backgrounds and the tradition of each culture, and see how closely the list above describes the culture effect in cooking. \n",
    "\n",
    "\n",
    "<span style=\"color:purple\">** Other Findings:** <br>\n",
    "(1) I search the books relevant to \"salads\". They are 'The Great Western Cook Book.txt', 'Dishes Beverages of the Old South.txt', \"Mrs. Lincoln's Boston Cook Book.txt\", 'Food and Cookery for the Sick and Convalescent.txt', 'Breakfast, Luncheon and Tea.txt'. This could be a good way of searching books which satisfy some conditions, just like search the flight which tailors one's traveling preferences. <br>\n",
    "(2) I try to find a book about bakery. So I earch the book relevant to a list of words that I think are representative to bakery. The words are \"water\", \"flour\", \"butter\", \"sugar\", \"yolk\". It retrieves me the book called Domestic Cookery.txt <br>\n",
    "Excellent!! <br>\n",
    "(3) I realized that, when I set topn = 15 which is more than the number of retrieved books, some keywords will fill up the rest of the positions.<br>"
   ]
  },
  {
   "cell_type": "markdown",
   "metadata": {},
   "source": [
    "#### <span style=\"color:purple\"> Train a Doc2Vec model"
   ]
  },
  {
   "cell_type": "code",
   "execution_count": 36,
   "metadata": {},
   "outputs": [],
   "source": [
    "CookBookD2V = gensim.models.doc2vec.Doc2Vec(CookBookDF['Tagged_Text'], size = 100) #Limiting to 100 dimensions"
   ]
  },
  {
   "cell_type": "code",
   "execution_count": 37,
   "metadata": {},
   "outputs": [
    {
     "data": {
      "text/plain": [
       "[('The Great Western Cook Book.txt', 0.9660967588424683),\n",
       " ('Dishes & Beverages of the Old South.txt', 0.9030768871307373),\n",
       " (\"Miss Corson's Practical American Cookery.txt\", 0.708572506904602),\n",
       " ('Breakfast, Luncheon and Tea.txt', 0.6499916315078735),\n",
       " ('Svensk-Amerikansk Kokbok.txt', 0.6328397989273071)]"
      ]
     },
     "execution_count": 37,
     "metadata": {},
     "output_type": "execute_result"
    }
   ],
   "source": [
    "# find out the text file most similar to 'salads'\n",
    "CookBookD2V.docvecs.most_similar([ CookBookD2V['salads'] ], topn=5 )\n"
   ]
  },
  {
   "cell_type": "code",
   "execution_count": 38,
   "metadata": {},
   "outputs": [
    {
     "data": {
      "text/plain": [
       "[('flour', 0.9916825890541077),\n",
       " ('pepper', 0.9871902465820312),\n",
       " ('little', 0.9866809844970703),\n",
       " ('cold', 0.9852824211120605),\n",
       " ('add', 0.9851853847503662),\n",
       " ('small', 0.9849730134010315),\n",
       " ('meat', 0.984699547290802),\n",
       " ('cut', 0.9846810102462769),\n",
       " ('one', 0.9845092296600342),\n",
       " ('put', 0.984495997428894),\n",
       " ('cup', 0.9844764471054077),\n",
       " ('oven', 0.984467625617981),\n",
       " ('half', 0.9844624996185303),\n",
       " ('hot', 0.9843898415565491),\n",
       " ('egg', 0.9843878746032715)]"
      ]
     },
     "execution_count": 38,
     "metadata": {},
     "output_type": "execute_result"
    }
   ],
   "source": [
    "# find out the text file most similar to a list of words\n",
    "CookBookD2V.docvecs.most_similar([ CookBookD2V['water']+CookBookD2V['flour']+CookBookD2V['butter']+CookBookD2V['sugar']+CookBookD2V['yolk']], topn=15 )\n"
   ]
  },
  {
   "cell_type": "markdown",
   "metadata": {},
   "source": [
    "#### <span style=\"color:purple\"> Find out the words most similar to the cook books"
   ]
  },
  {
   "cell_type": "code",
   "execution_count": 39,
   "metadata": {},
   "outputs": [
    {
     "data": {
      "text/plain": [
       "[('beverages', 0.9605675339698792),\n",
       " ('italian', 0.9586697816848755),\n",
       " ('opening', 0.9545525908470154),\n",
       " ('diet', 0.9394177198410034),\n",
       " ('among', 0.93553626537323)]"
      ]
     },
     "execution_count": 39,
     "metadata": {},
     "output_type": "execute_result"
    }
   ],
   "source": [
    "CookBookD2V.most_similar( [ CookBookD2V.docvecs['Miss Corson\\'s Practical American Cookery.txt'] ], topn=5) "
   ]
  },
  {
   "cell_type": "code",
   "execution_count": 40,
   "metadata": {},
   "outputs": [
    {
     "data": {
      "text/plain": [
       "[('olive', 0.9989516735076904),\n",
       " ('chop', 0.9984978437423706),\n",
       " ('cutlets', 0.9975744485855103),\n",
       " ('croquettes', 0.9975368976593018),\n",
       " ('di', 0.9974881410598755)]"
      ]
     },
     "execution_count": 40,
     "metadata": {},
     "output_type": "execute_result"
    }
   ],
   "source": [
    "CookBookD2V.most_similar( [ CookBookD2V.docvecs['The Italian Cook Book.txt'] ], topn=5) "
   ]
  },
  {
   "cell_type": "code",
   "execution_count": 41,
   "metadata": {},
   "outputs": [
    {
     "data": {
      "text/plain": [
       "[('mackerel', 0.9591586589813232),\n",
       " ('salted', 0.9577136635780334),\n",
       " ('spanish', 0.9489148855209351),\n",
       " ('caviar', 0.9420212507247925),\n",
       " ('poultry', 0.9379473924636841)]"
      ]
     },
     "execution_count": 41,
     "metadata": {},
     "output_type": "execute_result"
    }
   ],
   "source": [
    "CookBookD2V.most_similar( [ CookBookD2V.docvecs['Svensk-Amerikansk Kokbok.txt'] ], topn=5) "
   ]
  },
  {
   "cell_type": "code",
   "execution_count": 42,
   "metadata": {},
   "outputs": [
    {
     "data": {
      "text/plain": [
       "[('soaked', 0.9613216519355774),\n",
       " ('toasted', 0.9560102224349976),\n",
       " ('lemon', 0.9425853490829468),\n",
       " ('turnip', 0.9413629770278931),\n",
       " ('tapioca', 0.9339885711669922)]"
      ]
     },
     "execution_count": 42,
     "metadata": {},
     "output_type": "execute_result"
    }
   ],
   "source": [
    "CookBookD2V.most_similar( [ CookBookD2V.docvecs['The International Jewish Cook Book.txt'] ], topn=5) "
   ]
  },
  {
   "cell_type": "code",
   "execution_count": 43,
   "metadata": {},
   "outputs": [
    {
     "data": {
      "text/plain": [
       "[('starch', 0.9431891441345215),\n",
       " ('nutritive', 0.937711238861084),\n",
       " ('combustion', 0.9344935417175293),\n",
       " ('disagreeable', 0.9125670790672302),\n",
       " ('diet', 0.9038425087928772)]"
      ]
     },
     "execution_count": 43,
     "metadata": {},
     "output_type": "execute_result"
    }
   ],
   "source": [
    "CookBookD2V.most_similar( [ CookBookD2V.docvecs['Food and Cookery for the Sick and Convalescent.txt'] ], topn=5) "
   ]
  },
  {
   "cell_type": "code",
   "execution_count": 44,
   "metadata": {},
   "outputs": [
    {
     "data": {
      "text/plain": [
       "[('cut', 0.9911088347434998),\n",
       " ('beans', 0.9896878004074097),\n",
       " ('paprika', 0.9894720315933228),\n",
       " ('grated', 0.98839271068573),\n",
       " ('fish', 0.9854676723480225)]"
      ]
     },
     "execution_count": 44,
     "metadata": {},
     "output_type": "execute_result"
    }
   ],
   "source": [
    "CookBookD2V.most_similar( [ CookBookD2V.docvecs['Manual for Army Cooks.txt'] ], topn=5) "
   ]
  },
  {
   "cell_type": "markdown",
   "metadata": {},
   "source": [
    "#### <span style=\"color:purple\"> Plot Heatmap words and documents"
   ]
  },
  {
   "cell_type": "code",
   "execution_count": 58,
   "metadata": {},
   "outputs": [],
   "source": [
    "heatmapMatrix = []\n",
    "for tagOuter in keywords:\n",
    "    column = []\n",
    "    tagVec = CookBookD2V.docvecs[tagOuter].reshape(1, -1)\n",
    "    for tagInner in keywords:\n",
    "        column.append(sklearn.metrics.pairwise.cosine_similarity(tagVec, CookBookD2V.docvecs[tagInner].reshape(1, -1))[0][0])\n",
    "    heatmapMatrix.append(column)\n",
    "heatmapMatrix = np.array(heatmapMatrix)"
   ]
  },
  {
   "cell_type": "code",
   "execution_count": 59,
   "metadata": {},
   "outputs": [
    {
     "data": {
      "image/png": "[encoded data removed]",
      "text/plain": [
       "<matplotlib.figure.Figure at 0x7f9069133be0>"
      ]
     },
     "metadata": {},
     "output_type": "display_data"
    }
   ],
   "source": [
    "fig, ax = plt.subplots()\n",
    "hmap = ax.pcolor(heatmapMatrix, cmap='terrain')\n",
    "cbar = plt.colorbar(hmap)\n",
    "\n",
    "cbar.set_label('cosine similarity', rotation=270)\n",
    "a = ax.set_xticks(np.arange(heatmapMatrix.shape[1]) + 0.5, minor=False)\n",
    "a = ax.set_yticks(np.arange(heatmapMatrix.shape[0]) + 0.5, minor=False)\n",
    "\n",
    "a = ax.set_xticklabels(keywords, minor=False, rotation=270)\n",
    "a = ax.set_yticklabels(keywords, minor=False)"
   ]
  },
  {
   "cell_type": "markdown",
   "metadata": {},
   "source": [
    "## <span style=\"color:purple\">2.2 Plot Heatmap documents and documents\n",
    "<span style=\"color:purple\">**Discussions:**<br>\n",
    "<span style=\"color:purple\"> Let's just focus on the cook books with distinct culture background. \"Svensk-Amerikansk Kokbok.txt\" for Swedish, \"The Great Western Cook Book.txt\" for western, \"The International Jewish Cook Book.txt\" for Jewish, \"Jennie June's American Cookery Book.txt\" for American.<br>\n",
    "The heatmap shows that Jewish cook book is neither similar nor dissimilar to the Western's, quite similar to the Swedish, and very dissimilar to the American's.\n",
    "The Western cook book is similar to the Swedish, which is reasonable as Sweden is an European country. The Western is totally dissimilar to the American's, which is similar due to the distinct cultures and history. <br>\n",
    "    \n",
    "<span style=\"color:purple\"> **Further interesting research question:**<br>\n",
    "<span style=\"color:purple\"> To incorporate more analysis in the culture aspect, I should read more history of diffent cultures. A potential interesting question is how the culture affects the cookings, and how the dissimilarities of cookings across culture evolve over time. To do so, I need to collect cook books from different cultures over time. <br>"
   ]
  },
  {
   "cell_type": "code",
   "execution_count": 60,
   "metadata": {},
   "outputs": [],
   "source": [
    "targetDocs = CookBookDF['text_name'][:10]\n",
    "\n",
    "heatmapMatrixD = []\n",
    "\n",
    "for tagOuter in targetDocs:\n",
    "    column = []\n",
    "    tagVec = CookBookD2V.docvecs[tagOuter].reshape(1, -1)\n",
    "    for tagInner in targetDocs:\n",
    "        column.append(sklearn.metrics.pairwise.cosine_similarity(tagVec, CookBookD2V.docvecs[tagInner].reshape(1, -1))[0][0])\n",
    "    heatmapMatrixD.append(column)\n",
    "heatmapMatrixD = np.array(heatmapMatrixD)"
   ]
  },
  {
   "cell_type": "code",
   "execution_count": 61,
   "metadata": {},
   "outputs": [
    {
     "data": {
      "image/png": "[encoded data removed]",
      "text/plain": [
       "<matplotlib.figure.Figure at 0x7f906909b0b8>"
      ]
     },
     "metadata": {},
     "output_type": "display_data"
    }
   ],
   "source": [
    "fig, ax = plt.subplots()\n",
    "hmap = ax.pcolor(heatmapMatrixD, cmap='terrain')\n",
    "cbar = plt.colorbar(hmap)\n",
    "\n",
    "cbar.set_label('cosine similarity', rotation=270)\n",
    "a = ax.set_xticks(np.arange(heatmapMatrixD.shape[1]) + 0.5, minor=False)\n",
    "a = ax.set_yticks(np.arange(heatmapMatrixD.shape[0]) + 0.5, minor=False)\n",
    "\n",
    "a = ax.set_xticklabels(targetDocs, minor=False, rotation=270)\n",
    "a = ax.set_yticklabels(targetDocs, minor=False)"
   ]
  },
  {
   "cell_type": "markdown",
   "metadata": {},
   "source": [
    "#### <span style=\"color:purple\"> Plot Heatmap words and documents"
   ]
  },
  {
   "cell_type": "code",
   "execution_count": 62,
   "metadata": {},
   "outputs": [],
   "source": [
    "heatmapMatrixC = []\n",
    "\n",
    "for tagOuter in targetDocs:\n",
    "    column = []\n",
    "    tagVec = CookBookD2V.docvecs[tagOuter].reshape(1, -1)\n",
    "    for tagInner in keywords:\n",
    "        column.append(sklearn.metrics.pairwise.cosine_similarity(tagVec, CookBookD2V.docvecs[tagInner].reshape(1, -1))[0][0])\n",
    "    heatmapMatrixC.append(column)\n",
    "heatmapMatrixC = np.array(heatmapMatrixC)"
   ]
  },
  {
   "cell_type": "code",
   "execution_count": 63,
   "metadata": {},
   "outputs": [
    {
     "data": {
      "image/png": "[encoded data removed]",
      "text/plain": [
       "<matplotlib.figure.Figure at 0x7f9068fe61d0>"
      ]
     },
     "metadata": {},
     "output_type": "display_data"
    }
   ],
   "source": [
    "fig, ax = plt.subplots()\n",
    "hmap = ax.pcolor(heatmapMatrixC, cmap='terrain')\n",
    "cbar = plt.colorbar(hmap)\n",
    "\n",
    "cbar.set_label('cosine similarity', rotation=270)\n",
    "a = ax.set_xticks(np.arange(heatmapMatrixC.shape[1]) + 0.5, minor=False)\n",
    "a = ax.set_yticks(np.arange(heatmapMatrixC.shape[0]) + 0.5, minor=False)\n",
    "\n",
    "a = ax.set_xticklabels(keywords, minor=False, rotation=270)\n",
    "a = ax.set_yticklabels(targetDocs, minor=False)"
   ]
  },
  {
   "cell_type": "markdown",
   "metadata": {},
   "source": [
    "## <span style=\"color:red\">*Exercise 3*</span>\n",
    "\n",
    "<span style=\"color:red\">Construct cells immediately below this that identify semantic dimensions of interest from your data (e.g., gender: man-woman) and project words onto these dimensions. Plot the array of relevant words along each semantic dimension. Which words are most different. Which dimensions are most different? On which dimension are your words most different? Print three short textual examples from the corpus that illustrate the association you have explored.\n",
    "\n",
    "<span style=\"color:red\">***Stretch***: Project documents from your corpus along a dimension of interest. Sample relevant documents from your corpus with this functionality and explain your rationale? Calculate the cosine of the angle between two dimensions (encoded as vectors) of interest. What does this suggest about the relationship between them within your corpus? \n",
    "\n",
    "<span style=\"color:red\">***Stretch***: Create 90% bootstrap confidence intervals around your word projections onto a given dimension. Which words are *significantly* different on your semantic dimension of interest?"
   ]
  },
  {
   "cell_type": "markdown",
   "metadata": {},
   "source": [
    "## <span style=\"color:purple\">3.1 Projection\n",
    "<span style=\"color:purple\">**Interesting Question:**<br>\n",
    "<span style=\"color:purple\">How the words will be projected given the dimensions, in a cooking context? What are the extra information could be derived from the projection?<br>\n",
    "\n",
    "<span style=\"color:purple\">**Method:**<br>\n",
    "<span style=\"color:purple\"> (1) Three dimensions are: temperature (hot vs cold), status (liquid vs solid), food (meat vs vegetables)<br>\n",
    "(2) Three list of words, numbers (one, two etc.), actions (pour, mix, etc.), cookers (oven, pan etc.)<br>\n",
    "(3) projection<br>\n",
    "    \n",
    "<span style=\"color:purple\">**Findings:**<br>\n",
    "The most interesting one is the third plot for cookers.<br>\n",
    "Under dimension *temperature*, oven is at one extreme, corresponding to \"hot, boiling\"; while tablespoon and teaspoon at the other extreme, corresponding to \"cold, soaked\". <br>\n",
    "This distribution keeps the same for the dimensions *status* and *food*.\n",
    "Under dimension *food*, oven and pan are in one extreme, telling that people use them to cook meat, fish, beef. Teaspoon is at the other extreme, telling that people may use it for eating vegetables, or salad (a bit wierd). Notice that the distances between teaspoon and tablespoon are different under the three dimensions. I may need to learn more about the functions of both of them to give a better explanation."
   ]
  },
  {
   "cell_type": "code",
   "execution_count": 109,
   "metadata": {},
   "outputs": [],
   "source": [
    "CookBook_model = gensim.models.word2vec.Word2Vec.load('CookBookW2V')\n",
    "#words to create dimensions\n",
    "CBTargetWords = ['hot','boiling','warm','cold','thin','thick','salt','sugar']\n",
    "                 \n",
    "#words we will be mapping\n",
    "CBTargetWords += [\"butter\",\"salads\",\"fire\",\"soaked\",\"cover\",\"vegetable\", \"yolk\",\"bread\",\"cream\",\"bake\", \"oven\",\"pan\",\"pound\", \"pint\", \"onion\", \"fruit\", \"pudding\", \"fried\", \"rice\", \"army\",\"lemon\",\"sick\", \"housekeeping\", \"hotel\", \"italian\", \"domestic\", \"breakfast\", \"lunch\", \"tea\", \"coffee\"]\n"
   ]
  },
  {
   "cell_type": "code",
   "execution_count": 110,
   "metadata": {
    "scrolled": true
   },
   "outputs": [
    {
     "data": {
      "text/plain": [
       "array([[-0.03181042, -0.31913367,  0.21022673, ...,  0.35006127,\n",
       "        -0.4741677 , -0.01388136],\n",
       "       [-0.0698988 , -0.232963  ,  0.16161878, ...,  0.24614763,\n",
       "        -0.3819538 , -0.05037878],\n",
       "       [-0.08198459, -0.35888916,  0.20975623, ...,  0.33781612,\n",
       "        -0.5279024 , -0.09068716],\n",
       "       ...,\n",
       "       [-0.0056142 , -0.03182752,  0.01831606, ...,  0.03487657,\n",
       "        -0.05052434, -0.00334229],\n",
       "       [-0.0138569 , -0.11988679,  0.05939059, ...,  0.11777288,\n",
       "        -0.17169605, -0.02562294],\n",
       "       [ 0.08674499,  0.09680294, -0.08305287, ..., -0.05710452,\n",
       "         0.18801646,  0.07140481]], dtype=float32)"
      ]
     },
     "execution_count": 110,
     "metadata": {},
     "output_type": "execute_result"
    }
   ],
   "source": [
    "wordsSubMatrix = []\n",
    "for word in CBTargetWords:\n",
    "    wordsSubMatrix.append(CookBook_model[word])\n",
    "wordsSubMatrix = np.array(wordsSubMatrix)\n",
    "wordsSubMatrix"
   ]
  },
  {
   "cell_type": "code",
   "execution_count": 111,
   "metadata": {},
   "outputs": [],
   "source": [
    "pcaWordsCookBook = sklearn.decomposition.PCA(n_components = 50).fit(wordsSubMatrix)\n",
    "reducedPCA_dataCookBook = pcaWordsCookBook.transform(wordsSubMatrix)\n",
    "#T-SNE is theoretically better, but you should experiment\n",
    "tsneWordsCookBook = sklearn.manifold.TSNE(n_components = 2).fit_transform(reducedPCA_dataCookBook)\n"
   ]
  },
  {
   "cell_type": "code",
   "execution_count": 112,
   "metadata": {},
   "outputs": [
    {
     "data": {
      "image/png": "[encoded data removed]",
      "text/plain": [
       "<matplotlib.figure.Figure at 0x7f9068a42208>"
      ]
     },
     "metadata": {},
     "output_type": "display_data"
    }
   ],
   "source": [
    "fig = plt.figure(figsize = (10,6))\n",
    "ax = fig.add_subplot(111)\n",
    "ax.set_frame_on(False)\n",
    "plt.scatter(tsneWordsCookBook[:, 0], tsneWordsCookBook[:, 1], alpha = 0) \n",
    "for i, word in enumerate(CBTargetWords):\n",
    "    ax.annotate(word, (tsneWordsCookBook[:, 0][i],tsneWordsCookBook[:, 1][i]), size =  20 * (len(CBTargetWords) - i) / len(CBTargetWords))\n",
    "plt.xticks(())\n",
    "plt.yticks(())\n",
    "plt.show()"
   ]
  },
  {
   "cell_type": "code",
   "execution_count": 113,
   "metadata": {},
   "outputs": [],
   "source": [
    "# to get the dimensions:\n",
    "def normalize(vector):\n",
    "    normalized_vector = vector / np.linalg.norm(vector)\n",
    "    return normalized_vector\n",
    "\n",
    "def dimension(model, positives, negatives):\n",
    "    diff = sum([normalize(model[x]) for x in positives]) - sum([normalize(model[y]) for y in negatives])\n",
    "    return diff"
   ]
  },
  {
   "cell_type": "code",
   "execution_count": 130,
   "metadata": {},
   "outputs": [],
   "source": [
    "# define dimensions\n",
    "temperature = dimension(CookBook_model, ['hot','warm','boiling'], ['cold', 'soaked'])\n",
    "status = dimension(CookBook_model, ['salt','sugar','flour'], ['water','liquor','milk'])\n",
    "food = dimension(CookBook_model, ['vegetable','salads'], ['meat','beef','chicken','fish'])"
   ]
  },
  {
   "cell_type": "code",
   "execution_count": 131,
   "metadata": {},
   "outputs": [],
   "source": [
    "# get some words\n",
    "numbers = [\"one\",\"two\",\"half\",\"four\",\"six\",\"three\"]\n",
    "\n",
    "actions = [\"add\", \"put\",\"cut\",\"boil\", \"pour\",\"mix\",\"stir\"]\n",
    "\n",
    "units = [\"oven\", \"cup\",\"pan\",\"teaspoon\",\"tablespoon\"]"
   ]
  },
  {
   "cell_type": "code",
   "execution_count": 137,
   "metadata": {},
   "outputs": [],
   "source": [
    "# to project words in a word list to the three dimensions\n",
    "def makeDF(model, word_list):\n",
    "    g = []\n",
    "    r = []\n",
    "    c = []\n",
    "    for word in word_list:\n",
    "        g.append(sklearn.metrics.pairwise.cosine_similarity(CookBook_model[word].reshape(1,-1), temperature.reshape(1,-1))[0][0])\n",
    "        r.append(sklearn.metrics.pairwise.cosine_similarity(CookBook_model[word].reshape(1,-1), status.reshape(1,-1))[0][0])\n",
    "        c.append(sklearn.metrics.pairwise.cosine_similarity(CookBook_model[word].reshape(1,-1), food.reshape(1,-1))[0][0])\n",
    "    df = pandas.DataFrame({'temperature': g, 'status': r, 'food': c}, index = word_list)\n",
    "    return df"
   ]
  },
  {
   "cell_type": "code",
   "execution_count": 138,
   "metadata": {},
   "outputs": [],
   "source": [
    "# get projections\n",
    "Numbersdf = makeDF(CookBook_model, numbers) \n",
    "Actionsdf = makeDF(CookBook_model, actions)\n",
    "Unitsdf = makeDF(CookBook_model, units)"
   ]
  },
  {
   "cell_type": "code",
   "execution_count": 140,
   "metadata": {},
   "outputs": [],
   "source": [
    "def Coloring(Series):\n",
    "    x = Series.values\n",
    "    y = x-x.min()\n",
    "    z = y/y.max()\n",
    "    c = list(plt.cm.rainbow(z))\n",
    "    return c\n",
    "\n",
    "def PlotDimension(ax,df, dim):\n",
    "    ax.set_frame_on(False)\n",
    "    ax.set_title(dim, fontsize = 20)\n",
    "    colors = Coloring(df[dim])\n",
    "    for i, word in enumerate(df.index):\n",
    "        ax.annotate(word, (0, df[dim][i]), color = colors[i], alpha = 0.6, fontsize = 12)\n",
    "    MaxY = df[dim].max()\n",
    "    MinY = df[dim].min()\n",
    "    plt.ylim(MinY,MaxY)\n",
    "    plt.yticks(())\n",
    "    plt.xticks(())"
   ]
  },
  {
   "cell_type": "code",
   "execution_count": 141,
   "metadata": {},
   "outputs": [
    {
     "data": {
      "image/png": "[encoded data removed]",
      "text/plain": [
       "<matplotlib.figure.Figure at 0x7f9068753c18>"
      ]
     },
     "metadata": {},
     "output_type": "display_data"
    }
   ],
   "source": [
    "fig = plt.figure(figsize = (12,4))\n",
    "ax1 = fig.add_subplot(131)\n",
    "PlotDimension(ax1, Numbersdf, 'temperature')\n",
    "ax2 = fig.add_subplot(132)\n",
    "PlotDimension(ax2, Numbersdf, 'status')\n",
    "ax3 = fig.add_subplot(133)\n",
    "PlotDimension(ax3, Numbersdf, 'food')\n",
    "plt.show()"
   ]
  },
  {
   "cell_type": "code",
   "execution_count": 142,
   "metadata": {},
   "outputs": [
    {
     "data": {
      "image/png": "[encoded data removed]",
      "text/plain": [
       "<matplotlib.figure.Figure at 0x7f9063ca34a8>"
      ]
     },
     "metadata": {},
     "output_type": "display_data"
    }
   ],
   "source": [
    "fig = plt.figure(figsize = (12,4))\n",
    "ax1 = fig.add_subplot(131)\n",
    "PlotDimension(ax1, Actionsdf, 'temperature')\n",
    "ax2 = fig.add_subplot(132)\n",
    "PlotDimension(ax2, Actionsdf, 'status')\n",
    "ax3 = fig.add_subplot(133)\n",
    "PlotDimension(ax3, Actionsdf, 'food')\n",
    "plt.show()"
   ]
  },
  {
   "cell_type": "code",
   "execution_count": 143,
   "metadata": {},
   "outputs": [
    {
     "data": {
      "image/png": "[encoded data removed]",
      "text/plain": [
       "<matplotlib.figure.Figure at 0x7f9063b9d5f8>"
      ]
     },
     "metadata": {},
     "output_type": "display_data"
    }
   ],
   "source": [
    "fig = plt.figure(figsize = (12,4))\n",
    "ax1 = fig.add_subplot(131)\n",
    "PlotDimension(ax1, Unitsdf, 'temperature')\n",
    "ax2 = fig.add_subplot(132)\n",
    "PlotDimension(ax2, Unitsdf, 'status')\n",
    "ax3 = fig.add_subplot(133)\n",
    "PlotDimension(ax3, Unitsdf, 'food')\n",
    "plt.show()"
   ]
  },
  {
   "cell_type": "markdown",
   "metadata": {},
   "source": [
    "<span style=\"color:purple\">*******----------------END----------------*******\n",
    "## <span style=\"color:purple\"> Book of Cooking, Book of Culture!\n",
    "\n",
    "<span style=\"color:purple\">Janurary 31st, 2018 at Regenstein Library <br>\n",
    "<span style=\"color:purple\">Jingying Bi"
   ]
  }
 ],
 "metadata": {
  "kernelspec": {
   "display_name": "Python 3",
   "language": "python",
   "name": "python3"
  },
  "language_info": {
   "codemirror_mode": {
    "name": "ipython",
    "version": 3
   },
   "file_extension": ".py",
   "mimetype": "text/x-python",
   "name": "python",
   "nbconvert_exporter": "python",
   "pygments_lexer": "ipython3",
   "version": "3.6.2"
  }
 },
 "nbformat": 4,
 "nbformat_minor": 2
}
